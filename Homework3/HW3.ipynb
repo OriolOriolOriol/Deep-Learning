{
  "nbformat": 4,
  "nbformat_minor": 0,
  "metadata": {
    "colab": {
      "name": "HW3.ipynb",
      "provenance": [],
      "collapsed_sections": [],
      "toc_visible": true
    },
    "kernelspec": {
      "name": "python3",
      "display_name": "Python 3"
    },
    "accelerator": "GPU"
  },
  "cells": [
    {
      "cell_type": "markdown",
      "metadata": {
        "id": "BxtreUAPraI-",
        "colab_type": "text"
      },
      "source": [
        "#**HW 3: Convolutional Neural Networks**\n",
        "\n",
        "In this homework, we will explore how to develop a simple Convolutional Neural Network for image classification. We will use the same dataset that we used in the previous exercise, the Fashion Minst. In the first part, we will learn how to develop a simple CNN, while in the second part we will explore the impact of various hyper-parameters in the learning performances."
      ]
    },
    {
      "cell_type": "markdown",
      "metadata": {
        "id": "CRwTPJt3rxug",
        "colab_type": "text"
      },
      "source": [
        "##Exercise 3.1: Simple CNN\n",
        "\n",
        "Let's start by importing Tensorflow, Keras and Numpy"
      ]
    },
    {
      "cell_type": "code",
      "metadata": {
        "id": "seDcv-RvrUpM",
        "colab_type": "code",
        "colab": {}
      },
      "source": [
        "import tensorflow as tf\n",
        "from tensorflow import keras\n",
        "import matplotlib.pyplot as plt\n",
        "import numpy as np\n",
        "\n",
        "np.random.seed(42)"
      ],
      "execution_count": 0,
      "outputs": []
    },
    {
      "cell_type": "markdown",
      "metadata": {
        "id": "UxWbaR_HsPYp",
        "colab_type": "text"
      },
      "source": [
        "###Load dataset:\n",
        "Load the Fashion Minst dataset as we did in the previous homework. As you already know Fashion Minst dataset contains grayscale images, and the task consists of classifying the images in the ten classes. As we did in HW2 we have to divide the dataset in training test and validation set. Since we will use a [2DConv](https://www.tensorflow.org/api_docs/python/tf/keras/layers/Conv2D) we have to provide also a new dimension of the input that represents the number of channels (that in ggreyscaleimage is just one). Therefore we [tf.expand_dims](https://) dim to do that. Finaly, as we did in HW2 we have to normalize the input data."
      ]
    },
    {
      "cell_type": "code",
      "metadata": {
        "id": "8QQy37jnsH_e",
        "colab_type": "code",
        "outputId": "5c446702-8a93-4824-d36a-8023938ef03a",
        "colab": {
          "base_uri": "https://localhost:8080/",
          "height": 158
        }
      },
      "source": [
        "fashion_mnist = keras.datasets.fashion_mnist\n",
        "(X_train_full, y_train_full), (X_test, y_test) = (\n",
        "    fashion_mnist.load_data()) #The dataset is already divede in test and training..\n",
        "\n",
        "#Normalize the data\n",
        "pixel_means = X_train_full.mean(axis = 0)\n",
        "pixel_stds = X_test.std(axis = 0)\n",
        "\n",
        "X_train_full = (X_train_full - pixel_means) / pixel_stds\n",
        "X_test = (X_test - pixel_means) / pixel_stds \n",
        "\n",
        "#Add one dimension to manage the channel\n",
        "X_train_full=tf.expand_dims(X_train_full, 3) \n",
        "X_test=tf.expand_dims(X_test,3)\n",
        "\n",
        "#Extract the first 5000 samples of the training set, to use them as the validation set\n",
        "X_valid, X_train = X_train_full[:5000], X_train_full[5000:] \n",
        "y_valid, y_train = y_train_full[:5000], y_train_full[5000:]\n",
        "\n",
        "class_names = [\"T-shirt/top\", \"Trouser\", \"Pullover\", \"Dress\", \"Coat\",\n",
        "               \"Sandal\", \"Shirt\", \"Sneaker\", \"Bag\", \"Ankle boot\"]\n"
      ],
      "execution_count": 2,
      "outputs": [
        {
          "output_type": "stream",
          "text": [
            "Downloading data from https://storage.googleapis.com/tensorflow/tf-keras-datasets/train-labels-idx1-ubyte.gz\n",
            "32768/29515 [=================================] - 0s 0us/step\n",
            "Downloading data from https://storage.googleapis.com/tensorflow/tf-keras-datasets/train-images-idx3-ubyte.gz\n",
            "26427392/26421880 [==============================] - 0s 0us/step\n",
            "Downloading data from https://storage.googleapis.com/tensorflow/tf-keras-datasets/t10k-labels-idx1-ubyte.gz\n",
            "8192/5148 [===============================================] - 0s 0us/step\n",
            "Downloading data from https://storage.googleapis.com/tensorflow/tf-keras-datasets/t10k-images-idx3-ubyte.gz\n",
            "4423680/4422102 [==============================] - 0s 0us/step\n"
          ],
          "name": "stdout"
        }
      ]
    },
    {
      "cell_type": "markdown",
      "metadata": {
        "id": "mhWYkFmQsNm5",
        "colab_type": "text"
      },
      "source": [
        "###Define the model\n",
        "\n",
        "Let's create a simple CNN. The model will be composed of:\n",
        "* One 2D convolutional layer with kernel size 3x3 and 32 output filters/features, that use ReLu activation function\n",
        "* a Max Pooling layer (2D) of size 2x2 ([MaxPool2D](https://www.tensorflow.org/api_docs/python/tf/keras/layers/MaxPool2D))\n",
        "* a Flatten layer\n",
        "* the output layer,  the same we used in HW2 (that use softmax function)\n",
        "Note that as 'input_shape' attribute's value in the first layer report also the third dimension that represents the channel."
      ]
    },
    {
      "cell_type": "code",
      "metadata": {
        "id": "paLpCd7XsOYs",
        "colab_type": "code",
        "colab": {}
      },
      "source": [
        "model = keras.models.Sequential([\n",
        "    keras.layers.Conv2D(filters=32, kernel_size=[3,3], padding=\"same\", activation=\"relu\", input_shape=[28, 28,1]),\n",
        "    keras.layers.MaxPool2D(pool_size=[2,2]),\n",
        "    keras.layers.Flatten(),\n",
        "    keras.layers.Dense(10, activation=\"softmax\")\n",
        "])\n",
        "model.compile(loss=\"sparse_categorical_crossentropy\",\n",
        "              optimizer='sgd',\n",
        "              metrics=[\"accuracy\"])\n"
      ],
      "execution_count": 0,
      "outputs": []
    },
    {
      "cell_type": "markdown",
      "metadata": {
        "id": "bdnAR5KzssZk",
        "colab_type": "text"
      },
      "source": [
        "Print the model summary"
      ]
    },
    {
      "cell_type": "code",
      "metadata": {
        "id": "ga-UGdspsslW",
        "colab_type": "code",
        "outputId": "2e1b3d64-4d92-47ae-8f5b-533c711b7767",
        "colab": {
          "base_uri": "https://localhost:8080/",
          "height": 299
        }
      },
      "source": [
        "model.summary()"
      ],
      "execution_count": 4,
      "outputs": [
        {
          "output_type": "stream",
          "text": [
            "Model: \"sequential\"\n",
            "_________________________________________________________________\n",
            "Layer (type)                 Output Shape              Param #   \n",
            "=================================================================\n",
            "conv2d (Conv2D)              (None, 28, 28, 32)        320       \n",
            "_________________________________________________________________\n",
            "max_pooling2d (MaxPooling2D) (None, 14, 14, 32)        0         \n",
            "_________________________________________________________________\n",
            "flatten (Flatten)            (None, 6272)              0         \n",
            "_________________________________________________________________\n",
            "dense (Dense)                (None, 10)                62730     \n",
            "=================================================================\n",
            "Total params: 63,050\n",
            "Trainable params: 63,050\n",
            "Non-trainable params: 0\n",
            "_________________________________________________________________\n"
          ],
          "name": "stdout"
        }
      ]
    },
    {
      "cell_type": "markdown",
      "metadata": {
        "id": "11S83_J0MIqb",
        "colab_type": "text"
      },
      "source": [
        "Note that the number of parameters mostly depends on the output layers, indeed the sharing parameters techinique used by the 2D convolutional layers allows to significantly reduce the number of learnable weights.\n",
        "Now we can train the model"
      ]
    },
    {
      "cell_type": "code",
      "metadata": {
        "id": "57aZ0KRGM7kY",
        "colab_type": "code",
        "outputId": "dc474ce7-2467-4ffc-9edd-30bdd509a2d6",
        "colab": {
          "base_uri": "https://localhost:8080/",
          "height": 369
        }
      },
      "source": [
        "history = model.fit(X_train, y_train, epochs=10, batch_size=128,\n",
        "                    validation_data=(X_valid, y_valid))"
      ],
      "execution_count": 5,
      "outputs": [
        {
          "output_type": "stream",
          "text": [
            "Epoch 1/10\n",
            "430/430 [==============================] - 2s 4ms/step - loss: 0.7371 - accuracy: 0.7611 - val_loss: 0.5128 - val_accuracy: 0.8222\n",
            "Epoch 2/10\n",
            "430/430 [==============================] - 2s 4ms/step - loss: 0.4793 - accuracy: 0.8347 - val_loss: 0.4508 - val_accuracy: 0.8400\n",
            "Epoch 3/10\n",
            "430/430 [==============================] - 2s 4ms/step - loss: 0.4276 - accuracy: 0.8525 - val_loss: 0.4024 - val_accuracy: 0.8616\n",
            "Epoch 4/10\n",
            "430/430 [==============================] - 2s 4ms/step - loss: 0.3987 - accuracy: 0.8616 - val_loss: 0.3798 - val_accuracy: 0.8714\n",
            "Epoch 5/10\n",
            "430/430 [==============================] - 2s 3ms/step - loss: 0.3782 - accuracy: 0.8692 - val_loss: 0.3655 - val_accuracy: 0.8736\n",
            "Epoch 6/10\n",
            "430/430 [==============================] - 1s 3ms/step - loss: 0.3647 - accuracy: 0.8732 - val_loss: 0.3538 - val_accuracy: 0.8796\n",
            "Epoch 7/10\n",
            "430/430 [==============================] - 1s 3ms/step - loss: 0.3520 - accuracy: 0.8772 - val_loss: 0.3475 - val_accuracy: 0.8786\n",
            "Epoch 8/10\n",
            "430/430 [==============================] - 1s 3ms/step - loss: 0.3424 - accuracy: 0.8810 - val_loss: 0.3468 - val_accuracy: 0.8808\n",
            "Epoch 9/10\n",
            "430/430 [==============================] - 1s 3ms/step - loss: 0.3350 - accuracy: 0.8817 - val_loss: 0.3478 - val_accuracy: 0.8784\n",
            "Epoch 10/10\n",
            "430/430 [==============================] - 1s 3ms/step - loss: 0.3273 - accuracy: 0.8858 - val_loss: 0.3387 - val_accuracy: 0.8834\n"
          ],
          "name": "stdout"
        }
      ]
    },
    {
      "cell_type": "markdown",
      "metadata": {
        "id": "xfPHQGs6M8AE",
        "colab_type": "text"
      },
      "source": [
        "Plot the loss and the accuracy trends for the training and validation set, Then compute the result on the test set."
      ]
    },
    {
      "cell_type": "code",
      "metadata": {
        "id": "yVD4jB7ZMK5z",
        "colab_type": "code",
        "outputId": "90e4e326-5457-42fc-ce0b-9df1905a45d7",
        "colab": {
          "base_uri": "https://localhost:8080/",
          "height": 798
        }
      },
      "source": [
        "def plot_loss(history):\n",
        "  plt.figure(figsize=(10,6))\n",
        "  plt.plot(history.epoch,history.history['loss'])\n",
        "  plt.plot(history.epoch,history.history['val_loss'])\n",
        "  plt.title('loss')\n",
        "\n",
        "def plot_accuracy(history):\n",
        "  plt.figure(figsize=(10,6))\n",
        "  plt.plot(history.epoch,history.history['accuracy'])\n",
        "  plt.plot(history.epoch,history.history['val_accuracy'])\n",
        "  plt.title('accuracy')\n",
        "\n",
        "plot_loss(history)\n",
        "\n",
        "plot_accuracy(history)\n",
        "\n",
        "scores = model.evaluate(X_test, y_test, verbose=2)\n",
        "print(\"%s: %.2f%%\" % (model.metrics_names[1], scores[1]*100))\n",
        "\n"
      ],
      "execution_count": 6,
      "outputs": [
        {
          "output_type": "stream",
          "text": [
            "313/313 - 1s - loss: 0.3624 - accuracy: 0.8740\n",
            "accuracy: 87.40%\n"
          ],
          "name": "stdout"
        },
        {
          "output_type": "display_data",
          "data": {
            "image/png": "[encoded data removed]",
            "text/plain": [
              "<Figure size 720x432 with 1 Axes>"
            ]
          },
          "metadata": {
            "tags": [],
            "needs_background": "light"
          }
        },
        {
          "output_type": "display_data",
          "data": {
            "image/png": "[encoded data removed]",
            "text/plain": [
              "<Figure size 720x432 with 1 Axes>"
            ]
          },
          "metadata": {
            "tags": [],
            "needs_background": "light"
          }
        }
      ]
    },
    {
      "cell_type": "markdown",
      "metadata": {
        "id": "j5wOQymFYZjA",
        "colab_type": "text"
      },
      "source": [
        "###Visualize Weights\n",
        "\n",
        "An interesting thing is to visualize the learned weights for the convolutional layer. We have 32 kernels of size 3x3, we can just plot them as images, mapping the weight values to grayscale."
      ]
    },
    {
      "cell_type": "code",
      "metadata": {
        "id": "EXHiS8VyY6pg",
        "colab_type": "code",
        "outputId": "c8393596-8f09-4c3c-813f-db0ee964302e",
        "colab": {
          "base_uri": "https://localhost:8080/",
          "height": 237
        }
      },
      "source": [
        "# Weights for the first convolutional layer\n",
        "w0=model.get_weights()[0][:,:,0,:]\n",
        "\n",
        "# Normalize to range 0.0 - 1.0\n",
        "w0-=np.min(w0)\n",
        "w0/=np.max(w0)\n",
        "\n",
        "for r in range(4):\n",
        "    for c in range(8):\n",
        "        n=r*8+c\n",
        "        plt.subplot(4, 8, n+1)\n",
        "        plt.imshow(w0[:,:,n], interpolation='none')\n",
        "        plt.axis('off')\n",
        "        plt.gray()\n",
        "plt.show()"
      ],
      "execution_count": 7,
      "outputs": [
        {
          "output_type": "display_data",
          "data": {
            "image/png": "[encoded data removed]",
            "text/plain": [
              "<Figure size 432x288 with 32 Axes>"
            ]
          },
          "metadata": {
            "tags": [],
            "needs_background": "light"
          }
        }
      ]
    },
    {
      "cell_type": "markdown",
      "metadata": {
        "id": "OsFQRbx3ZWtp",
        "colab_type": "text"
      },
      "source": [
        "They might be a bit hard to interpret, but it seems that the various filters have learned to detect various corners and edges."
      ]
    },
    {
      "cell_type": "markdown",
      "metadata": {
        "id": "-bOYmnXgZXi4",
        "colab_type": "text"
      },
      "source": [
        "## Exercise 3.2: Develop a better CNN\n",
        "Let's develop a network that performs better than the very simple one above. This exercise aims to explore how much the various hyper-parameters influence the classification capability of the model. \n",
        "\n",
        "**To Complete**: Your task is to do some reparametrizations of the previous exercise's network and compare the results. At least one of them should have an improvement in the test set result (generalization) than the result of the model used in the previous exercise.\n",
        "In the cell below report only the code of the **best model** that you can find. In addtion, print out its result on the test set, and plot the accuracy and the loss trends in the notebook you return.\n",
        "Moreover, for each setup you test, analyze and discuss the obtained results briefly in the last cells in the bottom.\n",
        "\n",
        "Hint: Each reparameterization should change a different aspect in the network, while the rest of the parameters would stay the same. \n",
        "Example parameters to try to change (we suggest to test at least one re-parametrization for each of these categories):\n",
        "\n",
        "*    number of layers or neurons or filters dimension\n",
        "*   activation functions\n",
        "*   epochs\n",
        "*   batch sizes\n",
        "*   optimizer, see TensorFlow documentation on [optimizers](https://https://www.tensorflow.org/api_docs/python/tf/keras/optimizers)\n",
        "*   max-pooling on/off on certain layers, or pool size\n",
        "\n",
        "For what concerns the optimizer, as you can see in the 'compile' method [documentation'](https://www.tensorflow.org/api_docs/python/tf/keras/Model#compile) is it possible to pass as 'optimizer ' attribute's value a string (the name of optimizer) or an optimizer instance.\n",
        "\n",
        "Notice that changing the final layer's softmax activation plus the categorical_crossentropy loss requires some consideration. Don't do it unless you have a good plan."
      ]
    },
    {
      "cell_type": "code",
      "metadata": {
        "id": "IB-ZgfR5afs9",
        "colab_type": "code",
        "outputId": "3b04f368-c775-4104-fc96-c522089b2a69",
        "colab": {
          "base_uri": "https://localhost:8080/",
          "height": 1000
        }
      },
      "source": [
        "from tensorflow.keras.callbacks import EarlyStopping\n",
        "\n",
        "model = keras.models.Sequential([\n",
        "    keras.layers.Conv2D(filters=32, kernel_size=[3,3], padding=\"same\", activation=\"relu\", input_shape=[28, 28,1]),\n",
        "    keras.layers.Conv2D(filters=64, kernel_size=[3,3], padding=\"same\", activation=\"relu\"), \n",
        "    keras.layers.MaxPool2D(pool_size=[2,2]),\n",
        "    keras.layers.Conv2D(filters=128, kernel_size=[3,3], padding=\"same\", activation=\"relu\"),\n",
        "    keras.layers.MaxPool2D(pool_size=[2,2]),     \n",
        "    keras.layers.Flatten(),\n",
        "    keras.layers.Dropout(0.5),\n",
        "    keras.layers.Dense(100, activation=\"relu\"),\n",
        "    keras.layers.Dropout(0.5),\n",
        "    keras.layers.Dense(10, activation=\"softmax\")\n",
        "    \n",
        "])\n",
        "model.compile(loss=\"sparse_categorical_crossentropy\",\n",
        "              optimizer=\"adam\",\n",
        "              metrics=[\"accuracy\"])\n",
        "\n",
        "\n",
        "print(\"\\nModel creation using the functions Conv2D e MaxPool2D\\n\")\n",
        "early_stopping = EarlyStopping(monitor='val_accuracy', mode='max', patience=10)\n",
        "history = model.fit(X_train, y_train, epochs=100, batch_size=300,callbacks=[early_stopping],\n",
        "                    validation_data=(X_valid, y_valid))\n",
        "\n",
        "\n",
        "model.summary()\n",
        "plot_loss(history)\n",
        "\n",
        "plot_accuracy(history)\n",
        "\n",
        "scores = model.evaluate(X_test, y_test, verbose=2)\n",
        "print(\"%s: %.2f%%\" % (model.metrics_names[1], scores[1]*100))\n",
        "\n",
        "#######################################################################################################################\n",
        "\n",
        "model1 = keras.models.Sequential([\n",
        "    keras.layers.SeparableConv2D(32,3, padding=\"same\", activation=\"relu\", input_shape=[28, 28,1]),\n",
        "    keras.layers.SeparableConv2D(64,3, padding=\"same\", activation=\"relu\"),\n",
        "    keras.layers.MaxPool2D(2),\n",
        "    keras.layers.SeparableConv2D(128,3, padding=\"same\", activation=\"relu\"),\n",
        "    keras.layers.MaxPooling2D(2),   \n",
        "    keras.layers.Flatten(),\n",
        "    keras.layers.Dropout(0.5),\n",
        "    keras.layers.Dense(100, activation=\"relu\"),\n",
        "    keras.layers.Dropout(0.5),\n",
        "    keras.layers.Dense(10, activation=\"softmax\")\n",
        "    \n",
        "])\n",
        "model1.compile(loss=\"sparse_categorical_crossentropy\",\n",
        "              optimizer=\"adam\",\n",
        "              metrics=[\"accuracy\"])\n",
        "\n",
        "\n",
        "print(\"\\nModel creation using the functions SeparableConv2D and MaxPooling2D\\n\")\n",
        "early_stopping1 = EarlyStopping(monitor='val_accuracy', mode='max', patience=10)\n",
        "history1 = model1.fit(X_train, y_train, epochs=100, batch_size=300,callbacks=[early_stopping1],\n",
        "                    validation_data=(X_valid, y_valid))\n",
        "\n",
        "\n",
        "model1.summary()\n",
        "plot_loss(history1)\n",
        "\n",
        "plot_accuracy(history1)\n",
        "\n",
        "scores = model1.evaluate(X_test, y_test, verbose=2)\n",
        "print(\"%s: %.2f%%\" % (model1.metrics_names[1], scores[1]*100))"
      ],
      "execution_count": 8,
      "outputs": [
        {
          "output_type": "stream",
          "text": [
            "\n",
            "Model creation using the functions Conv2D e MaxPool2D\n",
            "\n",
            "Epoch 1/100\n",
            "184/184 [==============================] - 3s 16ms/step - loss: 0.6267 - accuracy: 0.7802 - val_loss: 0.3361 - val_accuracy: 0.8836\n",
            "Epoch 2/100\n",
            "184/184 [==============================] - 3s 15ms/step - loss: 0.3803 - accuracy: 0.8637 - val_loss: 0.2897 - val_accuracy: 0.8930\n",
            "Epoch 3/100\n",
            "184/184 [==============================] - 3s 15ms/step - loss: 0.3203 - accuracy: 0.8852 - val_loss: 0.2530 - val_accuracy: 0.9078\n",
            "Epoch 4/100\n",
            "184/184 [==============================] - 3s 16ms/step - loss: 0.2913 - accuracy: 0.8954 - val_loss: 0.2314 - val_accuracy: 0.9142\n",
            "Epoch 5/100\n",
            "184/184 [==============================] - 3s 15ms/step - loss: 0.2630 - accuracy: 0.9040 - val_loss: 0.2204 - val_accuracy: 0.9190\n",
            "Epoch 6/100\n",
            "184/184 [==============================] - 3s 15ms/step - loss: 0.2449 - accuracy: 0.9119 - val_loss: 0.2127 - val_accuracy: 0.9198\n",
            "Epoch 7/100\n",
            "184/184 [==============================] - 3s 15ms/step - loss: 0.2284 - accuracy: 0.9173 - val_loss: 0.2041 - val_accuracy: 0.9236\n",
            "Epoch 8/100\n",
            "184/184 [==============================] - 3s 15ms/step - loss: 0.2197 - accuracy: 0.9199 - val_loss: 0.2033 - val_accuracy: 0.9254\n",
            "Epoch 9/100\n",
            "184/184 [==============================] - 3s 15ms/step - loss: 0.2071 - accuracy: 0.9234 - val_loss: 0.1989 - val_accuracy: 0.9252\n",
            "Epoch 10/100\n",
            "184/184 [==============================] - 3s 15ms/step - loss: 0.1984 - accuracy: 0.9279 - val_loss: 0.2007 - val_accuracy: 0.9242\n",
            "Epoch 11/100\n",
            "184/184 [==============================] - 3s 15ms/step - loss: 0.1905 - accuracy: 0.9291 - val_loss: 0.1982 - val_accuracy: 0.9260\n",
            "Epoch 12/100\n",
            "184/184 [==============================] - 3s 15ms/step - loss: 0.1803 - accuracy: 0.9332 - val_loss: 0.1833 - val_accuracy: 0.9280\n",
            "Epoch 13/100\n",
            "184/184 [==============================] - 3s 15ms/step - loss: 0.1734 - accuracy: 0.9352 - val_loss: 0.1919 - val_accuracy: 0.9282\n",
            "Epoch 14/100\n",
            "184/184 [==============================] - 3s 15ms/step - loss: 0.1684 - accuracy: 0.9367 - val_loss: 0.1864 - val_accuracy: 0.9300\n",
            "Epoch 15/100\n",
            "184/184 [==============================] - 3s 15ms/step - loss: 0.1595 - accuracy: 0.9405 - val_loss: 0.1941 - val_accuracy: 0.9312\n",
            "Epoch 16/100\n",
            "184/184 [==============================] - 3s 15ms/step - loss: 0.1579 - accuracy: 0.9415 - val_loss: 0.1911 - val_accuracy: 0.9306\n",
            "Epoch 17/100\n",
            "184/184 [==============================] - 3s 15ms/step - loss: 0.1485 - accuracy: 0.9440 - val_loss: 0.1881 - val_accuracy: 0.9326\n",
            "Epoch 18/100\n",
            "184/184 [==============================] - 3s 15ms/step - loss: 0.1455 - accuracy: 0.9458 - val_loss: 0.1903 - val_accuracy: 0.9312\n",
            "Epoch 19/100\n",
            "184/184 [==============================] - 3s 15ms/step - loss: 0.1433 - accuracy: 0.9455 - val_loss: 0.1856 - val_accuracy: 0.9308\n",
            "Epoch 20/100\n",
            "184/184 [==============================] - 3s 15ms/step - loss: 0.1403 - accuracy: 0.9471 - val_loss: 0.1893 - val_accuracy: 0.9320\n",
            "Epoch 21/100\n",
            "184/184 [==============================] - 3s 15ms/step - loss: 0.1315 - accuracy: 0.9501 - val_loss: 0.1893 - val_accuracy: 0.9342\n",
            "Epoch 22/100\n",
            "184/184 [==============================] - 3s 15ms/step - loss: 0.1279 - accuracy: 0.9515 - val_loss: 0.1907 - val_accuracy: 0.9322\n",
            "Epoch 23/100\n",
            "184/184 [==============================] - 3s 15ms/step - loss: 0.1279 - accuracy: 0.9514 - val_loss: 0.2015 - val_accuracy: 0.9360\n",
            "Epoch 24/100\n",
            "184/184 [==============================] - 3s 15ms/step - loss: 0.1231 - accuracy: 0.9524 - val_loss: 0.1976 - val_accuracy: 0.9344\n",
            "Epoch 25/100\n",
            "184/184 [==============================] - 3s 15ms/step - loss: 0.1197 - accuracy: 0.9548 - val_loss: 0.1962 - val_accuracy: 0.9338\n",
            "Epoch 26/100\n",
            "184/184 [==============================] - 3s 15ms/step - loss: 0.1185 - accuracy: 0.9549 - val_loss: 0.2018 - val_accuracy: 0.9338\n",
            "Epoch 27/100\n",
            "184/184 [==============================] - 3s 15ms/step - loss: 0.1131 - accuracy: 0.9567 - val_loss: 0.1965 - val_accuracy: 0.9320\n",
            "Epoch 28/100\n",
            "184/184 [==============================] - 3s 15ms/step - loss: 0.1066 - accuracy: 0.9594 - val_loss: 0.1984 - val_accuracy: 0.9332\n",
            "Epoch 29/100\n",
            "184/184 [==============================] - 3s 15ms/step - loss: 0.1108 - accuracy: 0.9574 - val_loss: 0.2037 - val_accuracy: 0.9314\n",
            "Epoch 30/100\n",
            "184/184 [==============================] - 3s 15ms/step - loss: 0.1056 - accuracy: 0.9601 - val_loss: 0.2020 - val_accuracy: 0.9318\n",
            "Epoch 31/100\n",
            "184/184 [==============================] - 3s 15ms/step - loss: 0.1063 - accuracy: 0.9592 - val_loss: 0.1993 - val_accuracy: 0.9340\n",
            "Epoch 32/100\n",
            "184/184 [==============================] - 3s 15ms/step - loss: 0.1044 - accuracy: 0.9607 - val_loss: 0.1969 - val_accuracy: 0.9334\n",
            "Epoch 33/100\n",
            "184/184 [==============================] - 3s 15ms/step - loss: 0.1013 - accuracy: 0.9607 - val_loss: 0.2015 - val_accuracy: 0.9372\n",
            "Epoch 34/100\n",
            "184/184 [==============================] - 3s 15ms/step - loss: 0.0988 - accuracy: 0.9635 - val_loss: 0.2014 - val_accuracy: 0.9332\n",
            "Epoch 35/100\n",
            "184/184 [==============================] - 3s 15ms/step - loss: 0.0940 - accuracy: 0.9646 - val_loss: 0.2107 - val_accuracy: 0.9316\n",
            "Epoch 36/100\n",
            "184/184 [==============================] - 3s 15ms/step - loss: 0.0934 - accuracy: 0.9640 - val_loss: 0.2106 - val_accuracy: 0.9344\n",
            "Epoch 37/100\n",
            "184/184 [==============================] - 3s 15ms/step - loss: 0.0938 - accuracy: 0.9644 - val_loss: 0.2190 - val_accuracy: 0.9382\n",
            "Epoch 38/100\n",
            "184/184 [==============================] - 3s 15ms/step - loss: 0.0954 - accuracy: 0.9639 - val_loss: 0.2044 - val_accuracy: 0.9328\n",
            "Epoch 39/100\n",
            "184/184 [==============================] - 3s 15ms/step - loss: 0.0900 - accuracy: 0.9658 - val_loss: 0.2092 - val_accuracy: 0.9346\n",
            "Epoch 40/100\n",
            "184/184 [==============================] - 3s 15ms/step - loss: 0.0870 - accuracy: 0.9666 - val_loss: 0.2234 - val_accuracy: 0.9322\n",
            "Epoch 41/100\n",
            "184/184 [==============================] - 3s 15ms/step - loss: 0.0891 - accuracy: 0.9666 - val_loss: 0.2136 - val_accuracy: 0.9340\n",
            "Epoch 42/100\n",
            "184/184 [==============================] - 3s 15ms/step - loss: 0.0845 - accuracy: 0.9682 - val_loss: 0.2160 - val_accuracy: 0.9338\n",
            "Epoch 43/100\n",
            "184/184 [==============================] - 3s 15ms/step - loss: 0.0858 - accuracy: 0.9674 - val_loss: 0.2198 - val_accuracy: 0.9308\n",
            "Epoch 44/100\n",
            "184/184 [==============================] - 3s 15ms/step - loss: 0.0846 - accuracy: 0.9674 - val_loss: 0.2181 - val_accuracy: 0.9314\n",
            "Epoch 45/100\n",
            "184/184 [==============================] - 3s 15ms/step - loss: 0.0839 - accuracy: 0.9686 - val_loss: 0.2232 - val_accuracy: 0.9334\n",
            "Epoch 46/100\n",
            "184/184 [==============================] - 3s 15ms/step - loss: 0.0814 - accuracy: 0.9687 - val_loss: 0.2171 - val_accuracy: 0.9350\n",
            "Epoch 47/100\n",
            "184/184 [==============================] - 3s 15ms/step - loss: 0.0798 - accuracy: 0.9701 - val_loss: 0.2008 - val_accuracy: 0.9338\n",
            "Model: \"sequential_1\"\n",
            "_________________________________________________________________\n",
            "Layer (type)                 Output Shape              Param #   \n",
            "=================================================================\n",
            "conv2d_1 (Conv2D)            (None, 28, 28, 32)        320       \n",
            "_________________________________________________________________\n",
            "conv2d_2 (Conv2D)            (None, 28, 28, 64)        18496     \n",
            "_________________________________________________________________\n",
            "max_pooling2d_1 (MaxPooling2 (None, 14, 14, 64)        0         \n",
            "_________________________________________________________________\n",
            "conv2d_3 (Conv2D)            (None, 14, 14, 128)       73856     \n",
            "_________________________________________________________________\n",
            "max_pooling2d_2 (MaxPooling2 (None, 7, 7, 128)         0         \n",
            "_________________________________________________________________\n",
            "flatten_1 (Flatten)          (None, 6272)              0         \n",
            "_________________________________________________________________\n",
            "dropout (Dropout)            (None, 6272)              0         \n",
            "_________________________________________________________________\n",
            "dense_1 (Dense)              (None, 100)               627300    \n",
            "_________________________________________________________________\n",
            "dropout_1 (Dropout)          (None, 100)               0         \n",
            "_________________________________________________________________\n",
            "dense_2 (Dense)              (None, 10)                1010      \n",
            "=================================================================\n",
            "Total params: 720,982\n",
            "Trainable params: 720,982\n",
            "Non-trainable params: 0\n",
            "_________________________________________________________________\n",
            "313/313 - 1s - loss: 0.2326 - accuracy: 0.9332\n",
            "accuracy: 93.32%\n",
            "\n",
            "Model creation using the functions SeparableConv2D and MaxPooling2D\n",
            "\n",
            "Epoch 1/100\n",
            "184/184 [==============================] - 2s 12ms/step - loss: 0.8875 - accuracy: 0.6860 - val_loss: 0.4793 - val_accuracy: 0.8278\n",
            "Epoch 2/100\n",
            "184/184 [==============================] - 2s 11ms/step - loss: 0.5226 - accuracy: 0.8098 - val_loss: 0.3828 - val_accuracy: 0.8640\n",
            "Epoch 3/100\n",
            "184/184 [==============================] - 2s 11ms/step - loss: 0.4523 - accuracy: 0.8366 - val_loss: 0.3481 - val_accuracy: 0.8714\n",
            "Epoch 4/100\n",
            "184/184 [==============================] - 2s 11ms/step - loss: 0.4157 - accuracy: 0.8501 - val_loss: 0.3260 - val_accuracy: 0.8780\n",
            "Epoch 5/100\n",
            "184/184 [==============================] - 2s 11ms/step - loss: 0.3872 - accuracy: 0.8609 - val_loss: 0.3074 - val_accuracy: 0.8890\n",
            "Epoch 6/100\n",
            "184/184 [==============================] - 2s 11ms/step - loss: 0.3669 - accuracy: 0.8673 - val_loss: 0.2946 - val_accuracy: 0.8942\n",
            "Epoch 7/100\n",
            "184/184 [==============================] - 2s 11ms/step - loss: 0.3499 - accuracy: 0.8729 - val_loss: 0.2881 - val_accuracy: 0.8938\n",
            "Epoch 8/100\n",
            "184/184 [==============================] - 2s 11ms/step - loss: 0.3355 - accuracy: 0.8777 - val_loss: 0.2816 - val_accuracy: 0.8944\n",
            "Epoch 9/100\n",
            "184/184 [==============================] - 2s 11ms/step - loss: 0.3247 - accuracy: 0.8820 - val_loss: 0.2765 - val_accuracy: 0.8986\n",
            "Epoch 10/100\n",
            "184/184 [==============================] - 2s 11ms/step - loss: 0.3147 - accuracy: 0.8867 - val_loss: 0.2677 - val_accuracy: 0.9014\n",
            "Epoch 11/100\n",
            "184/184 [==============================] - 2s 11ms/step - loss: 0.3046 - accuracy: 0.8894 - val_loss: 0.2639 - val_accuracy: 0.9024\n",
            "Epoch 12/100\n",
            "184/184 [==============================] - 2s 11ms/step - loss: 0.2949 - accuracy: 0.8910 - val_loss: 0.2562 - val_accuracy: 0.9046\n",
            "Epoch 13/100\n",
            "184/184 [==============================] - 2s 12ms/step - loss: 0.2882 - accuracy: 0.8943 - val_loss: 0.2469 - val_accuracy: 0.9082\n",
            "Epoch 14/100\n",
            "184/184 [==============================] - 2s 11ms/step - loss: 0.2792 - accuracy: 0.8959 - val_loss: 0.2506 - val_accuracy: 0.9074\n",
            "Epoch 15/100\n",
            "184/184 [==============================] - 2s 11ms/step - loss: 0.2782 - accuracy: 0.8980 - val_loss: 0.2463 - val_accuracy: 0.9086\n",
            "Epoch 16/100\n",
            "184/184 [==============================] - 2s 11ms/step - loss: 0.2696 - accuracy: 0.9016 - val_loss: 0.2451 - val_accuracy: 0.9100\n",
            "Epoch 17/100\n",
            "184/184 [==============================] - 2s 11ms/step - loss: 0.2638 - accuracy: 0.9027 - val_loss: 0.2497 - val_accuracy: 0.9094\n",
            "Epoch 18/100\n",
            "184/184 [==============================] - 2s 11ms/step - loss: 0.2589 - accuracy: 0.9046 - val_loss: 0.2386 - val_accuracy: 0.9102\n",
            "Epoch 19/100\n",
            "184/184 [==============================] - 2s 12ms/step - loss: 0.2517 - accuracy: 0.9057 - val_loss: 0.2406 - val_accuracy: 0.9080\n",
            "Epoch 20/100\n",
            "184/184 [==============================] - 2s 12ms/step - loss: 0.2484 - accuracy: 0.9074 - val_loss: 0.2372 - val_accuracy: 0.9104\n",
            "Epoch 21/100\n",
            "184/184 [==============================] - 2s 12ms/step - loss: 0.2439 - accuracy: 0.9087 - val_loss: 0.2312 - val_accuracy: 0.9140\n",
            "Epoch 22/100\n",
            "184/184 [==============================] - 2s 12ms/step - loss: 0.2389 - accuracy: 0.9105 - val_loss: 0.2307 - val_accuracy: 0.9148\n",
            "Epoch 23/100\n",
            "184/184 [==============================] - 2s 12ms/step - loss: 0.2346 - accuracy: 0.9109 - val_loss: 0.2268 - val_accuracy: 0.9142\n",
            "Epoch 24/100\n",
            "184/184 [==============================] - 2s 12ms/step - loss: 0.2308 - accuracy: 0.9133 - val_loss: 0.2279 - val_accuracy: 0.9206\n",
            "Epoch 25/100\n",
            "184/184 [==============================] - 2s 11ms/step - loss: 0.2256 - accuracy: 0.9158 - val_loss: 0.2330 - val_accuracy: 0.9148\n",
            "Epoch 26/100\n",
            "184/184 [==============================] - 2s 11ms/step - loss: 0.2248 - accuracy: 0.9157 - val_loss: 0.2331 - val_accuracy: 0.9126\n",
            "Epoch 27/100\n",
            "184/184 [==============================] - 2s 11ms/step - loss: 0.2205 - accuracy: 0.9168 - val_loss: 0.2288 - val_accuracy: 0.9182\n",
            "Epoch 28/100\n",
            "184/184 [==============================] - 2s 11ms/step - loss: 0.2173 - accuracy: 0.9178 - val_loss: 0.2377 - val_accuracy: 0.9170\n",
            "Epoch 29/100\n",
            "184/184 [==============================] - 2s 11ms/step - loss: 0.2169 - accuracy: 0.9185 - val_loss: 0.2215 - val_accuracy: 0.9206\n",
            "Epoch 30/100\n",
            "184/184 [==============================] - 2s 11ms/step - loss: 0.2081 - accuracy: 0.9207 - val_loss: 0.2267 - val_accuracy: 0.9140\n",
            "Epoch 31/100\n",
            "184/184 [==============================] - 2s 11ms/step - loss: 0.2076 - accuracy: 0.9213 - val_loss: 0.2307 - val_accuracy: 0.9158\n",
            "Epoch 32/100\n",
            "184/184 [==============================] - 2s 11ms/step - loss: 0.2017 - accuracy: 0.9236 - val_loss: 0.2271 - val_accuracy: 0.9212\n",
            "Epoch 33/100\n",
            "184/184 [==============================] - 2s 11ms/step - loss: 0.2025 - accuracy: 0.9228 - val_loss: 0.2225 - val_accuracy: 0.9204\n",
            "Epoch 34/100\n",
            "184/184 [==============================] - 2s 11ms/step - loss: 0.1991 - accuracy: 0.9243 - val_loss: 0.2192 - val_accuracy: 0.9222\n",
            "Epoch 35/100\n",
            "184/184 [==============================] - 2s 11ms/step - loss: 0.1966 - accuracy: 0.9255 - val_loss: 0.2200 - val_accuracy: 0.9192\n",
            "Epoch 36/100\n",
            "184/184 [==============================] - 2s 11ms/step - loss: 0.1958 - accuracy: 0.9253 - val_loss: 0.2261 - val_accuracy: 0.9188\n",
            "Epoch 37/100\n",
            "184/184 [==============================] - 2s 11ms/step - loss: 0.1921 - accuracy: 0.9266 - val_loss: 0.2229 - val_accuracy: 0.9208\n",
            "Epoch 38/100\n",
            "184/184 [==============================] - 2s 11ms/step - loss: 0.1913 - accuracy: 0.9271 - val_loss: 0.2293 - val_accuracy: 0.9156\n",
            "Epoch 39/100\n",
            "184/184 [==============================] - 2s 11ms/step - loss: 0.1868 - accuracy: 0.9283 - val_loss: 0.2255 - val_accuracy: 0.9198\n",
            "Epoch 40/100\n",
            "184/184 [==============================] - 2s 12ms/step - loss: 0.1899 - accuracy: 0.9270 - val_loss: 0.2184 - val_accuracy: 0.9218\n",
            "Epoch 41/100\n",
            "184/184 [==============================] - 2s 12ms/step - loss: 0.1846 - accuracy: 0.9285 - val_loss: 0.2258 - val_accuracy: 0.9178\n",
            "Epoch 42/100\n",
            "184/184 [==============================] - 2s 12ms/step - loss: 0.1783 - accuracy: 0.9307 - val_loss: 0.2240 - val_accuracy: 0.9204\n",
            "Epoch 43/100\n",
            "184/184 [==============================] - 2s 11ms/step - loss: 0.1769 - accuracy: 0.9309 - val_loss: 0.2308 - val_accuracy: 0.9194\n",
            "Epoch 44/100\n",
            "184/184 [==============================] - 2s 11ms/step - loss: 0.1764 - accuracy: 0.9318 - val_loss: 0.2318 - val_accuracy: 0.9236\n",
            "Epoch 45/100\n",
            "184/184 [==============================] - 2s 11ms/step - loss: 0.1787 - accuracy: 0.9311 - val_loss: 0.2226 - val_accuracy: 0.9220\n",
            "Epoch 46/100\n",
            "184/184 [==============================] - 2s 11ms/step - loss: 0.1779 - accuracy: 0.9312 - val_loss: 0.2237 - val_accuracy: 0.9216\n",
            "Epoch 47/100\n",
            "184/184 [==============================] - 2s 11ms/step - loss: 0.1714 - accuracy: 0.9341 - val_loss: 0.2234 - val_accuracy: 0.9230\n",
            "Epoch 48/100\n",
            "184/184 [==============================] - 2s 11ms/step - loss: 0.1745 - accuracy: 0.9321 - val_loss: 0.2191 - val_accuracy: 0.9220\n",
            "Epoch 49/100\n",
            "184/184 [==============================] - 2s 11ms/step - loss: 0.1695 - accuracy: 0.9341 - val_loss: 0.2208 - val_accuracy: 0.9228\n",
            "Epoch 50/100\n",
            "184/184 [==============================] - 2s 11ms/step - loss: 0.1660 - accuracy: 0.9353 - val_loss: 0.2226 - val_accuracy: 0.9242\n",
            "Epoch 51/100\n",
            "184/184 [==============================] - 2s 11ms/step - loss: 0.1650 - accuracy: 0.9368 - val_loss: 0.2282 - val_accuracy: 0.9230\n",
            "Epoch 52/100\n",
            "184/184 [==============================] - 2s 11ms/step - loss: 0.1629 - accuracy: 0.9360 - val_loss: 0.2381 - val_accuracy: 0.9220\n",
            "Epoch 53/100\n",
            "184/184 [==============================] - 2s 11ms/step - loss: 0.1666 - accuracy: 0.9358 - val_loss: 0.2189 - val_accuracy: 0.9236\n",
            "Epoch 54/100\n",
            "184/184 [==============================] - 2s 11ms/step - loss: 0.1665 - accuracy: 0.9365 - val_loss: 0.2268 - val_accuracy: 0.9196\n",
            "Epoch 55/100\n",
            "184/184 [==============================] - 2s 11ms/step - loss: 0.1607 - accuracy: 0.9376 - val_loss: 0.2245 - val_accuracy: 0.9224\n",
            "Epoch 56/100\n",
            "184/184 [==============================] - 2s 12ms/step - loss: 0.1596 - accuracy: 0.9381 - val_loss: 0.2207 - val_accuracy: 0.9230\n",
            "Epoch 57/100\n",
            "184/184 [==============================] - 2s 12ms/step - loss: 0.1563 - accuracy: 0.9379 - val_loss: 0.2209 - val_accuracy: 0.9222\n",
            "Epoch 58/100\n",
            "184/184 [==============================] - 2s 12ms/step - loss: 0.1577 - accuracy: 0.9391 - val_loss: 0.2222 - val_accuracy: 0.9226\n",
            "Epoch 59/100\n",
            "184/184 [==============================] - 2s 12ms/step - loss: 0.1565 - accuracy: 0.9384 - val_loss: 0.2305 - val_accuracy: 0.9230\n",
            "Epoch 60/100\n",
            "184/184 [==============================] - 2s 12ms/step - loss: 0.1543 - accuracy: 0.9398 - val_loss: 0.2284 - val_accuracy: 0.9238\n",
            "Model: \"sequential_2\"\n",
            "_________________________________________________________________\n",
            "Layer (type)                 Output Shape              Param #   \n",
            "=================================================================\n",
            "separable_conv2d (SeparableC (None, 28, 28, 32)        73        \n",
            "_________________________________________________________________\n",
            "separable_conv2d_1 (Separabl (None, 28, 28, 64)        2400      \n",
            "_________________________________________________________________\n",
            "max_pooling2d_3 (MaxPooling2 (None, 14, 14, 64)        0         \n",
            "_________________________________________________________________\n",
            "separable_conv2d_2 (Separabl (None, 14, 14, 128)       8896      \n",
            "_________________________________________________________________\n",
            "max_pooling2d_4 (MaxPooling2 (None, 7, 7, 128)         0         \n",
            "_________________________________________________________________\n",
            "flatten_2 (Flatten)          (None, 6272)              0         \n",
            "_________________________________________________________________\n",
            "dropout_2 (Dropout)          (None, 6272)              0         \n",
            "_________________________________________________________________\n",
            "dense_3 (Dense)              (None, 100)               627300    \n",
            "_________________________________________________________________\n",
            "dropout_3 (Dropout)          (None, 100)               0         \n",
            "_________________________________________________________________\n",
            "dense_4 (Dense)              (None, 10)                1010      \n",
            "=================================================================\n",
            "Total params: 639,679\n",
            "Trainable params: 639,679\n",
            "Non-trainable params: 0\n",
            "_________________________________________________________________\n",
            "313/313 - 1s - loss: 0.2576 - accuracy: 0.9167\n",
            "accuracy: 91.67%\n"
          ],
          "name": "stdout"
        },
        {
          "output_type": "display_data",
          "data": {
            "image/png": "[encoded data removed]",
            "text/plain": [
              "<Figure size 720x432 with 1 Axes>"
            ]
          },
          "metadata": {
            "tags": [],
            "needs_background": "light"
          }
        },
        {
          "output_type": "display_data",
          "data": {
            "image/png": "[encoded data removed]",
            "text/plain": [
              "<Figure size 720x432 with 1 Axes>"
            ]
          },
          "metadata": {
            "tags": [],
            "needs_background": "light"
          }
        },
        {
          "output_type": "display_data",
          "data": {
            "image/png": "[encoded data removed]",
            "text/plain": [
              "<Figure size 720x432 with 1 Axes>"
            ]
          },
          "metadata": {
            "tags": [],
            "needs_background": "light"
          }
        },
        {
          "output_type": "display_data",
          "data": {
            "image/png": "[encoded data removed]",
            "text/plain": [
              "<Figure size 720x432 with 1 Axes>"
            ]
          },
          "metadata": {
            "tags": [],
            "needs_background": "light"
          }
        }
      ]
    },
    {
      "cell_type": "markdown",
      "metadata": {
        "id": "0nlE10XIjAid",
        "colab_type": "text"
      },
      "source": [
        "### Test results discussion\n",
        "The best model that I found is reported from this link:\n",
        "\n",
        "[Model 1](https://drive.google.com/file/d/1dMgdop1Wz89mxhxZxv1uuxVhNizbG0uo/view)\n",
        "\n",
        "Total parameter: 720,982\n",
        "\n",
        "So in this model there are:\n",
        "\n",
        "*   3 x (Conv2D+ReLU)\n",
        "*   2 x MaxPool\n",
        "*   After Flatten a Dense Layer with 100 units.\n",
        "*   I added two dropout(0.5). The first between flatten and dense layer with 100 units. The second between dense layer with 100 units and the last layer with softmax activation function\n",
        "\n",
        "The achieved accuracy in the test set is 0.9332.\n",
        "\n",
        "#########################################################\n",
        "#########################################################\n",
        "\n",
        "I wanted to bring back another model, in addition to the previous one, which in the code I called model1. \n",
        "The difference in terms of code between the two models is that I used the SeparableConv2D function instead of Conv2D and MaxPooling2D instead of MaxPool2D.\n",
        "\n",
        "I reported the model.summary from this link:\n",
        "\n",
        "[Model 2](https://drive.google.com/open?id=1ErWT5-TAI2YM4ywhLXaFG7LNP7Tfg_wH)\n",
        "\n",
        "This model is structured in the same way as the other.\n",
        "\n",
        "The achieved accuracy in the test set is 0.9167\n",
        "\n",
        "\n",
        "\n",
        "**Discussion:**\n",
        "\n",
        "The new model perform significantly better (5.92%) than the model. in the Exercise3.1. In my opinion the new accuracy (93.32%) is a good result considering that the trainig set is \"small\" (55 000 instances) with respect to the number of weights of the network.\n",
        "\n",
        "Regarding the second model I built there was also a good improvement here, although less than the first (4.27%). \n",
        "\n",
        "The plot of the validation loss of the first model (that a certain point starts increasing) show that it is overfitting, but regulatization is present and that we cannot increase training set It's acceptable.\n",
        "\n",
        "Concerning the second plot there is less overfitting than previous. In fact, the depth separable convolution (layer SeparableConv2D) represents an almost equivalent but faster and more efficient overfitting solution than the one with Conv2D. \n",
        "\n",
        "So the SeparableConv2D layer can be used as a substitute for Conv2D, to obtain a more compact and faster network.\n",
        "\n",
        "To sum up, the **conv2D**  is the traditional convolution. So, you have an image, with or without padding, and filter that slides through the image with a given stride.\n",
        "\n",
        "On the other hand, the **SeparableConv2D** is a variation of the traditional convolution that was proposed to compute it faster. It performs a depthwise spatial convolution followed by a pointwise convolution which mixes together the resulting output channels"
      ]
    },
    {
      "cell_type": "markdown",
      "metadata": {
        "id": "4sj0soo3bRIs",
        "colab_type": "text"
      },
      "source": [
        "Besides, I also tested other models: \n",
        "\n",
        "* I tried different optimizers (sgd, adam and rmsprop): i found that the best was 'adam' (best error accuracy), and the worst was sgd. Rmsprop gave a good accuracy less than adam.\n",
        "\n",
        "* I change the batch size with small and big values in a range [50,500]. I noticed that each epochs takes less time (because less updates to the weights happens) with big batch size. At the end I decided 300 batch size.\n",
        "\n",
        "*  I rise the number of epochs to 40. The test error improves to near 0.90. I saw that with 100 epoche the improvement is better than 40 epoche.\n",
        "\n",
        "*   Regarding the model I used Dropout with 0.5. I also tried with 0.2 and 0.4, but I found the best result with 0.5.\n",
        "Thanks to the dropout, if the neurons are randomly excluded from the net during training, the other neurons will have to intervene and manage the required representation to make predictions for the missing neurons. This involves multiple learning of internal representations independent of the network.\n",
        "\n",
        "The effect is that the network becomes less sensitive to the specific weights of the neurons. This in turn results in a network that is able to improve generalization and is less likely to overuse training data, \n",
        "\n",
        "*  I added Early Stopping with patient 10.  The reason is that too many epochs can lead to overfitting of the training dataset, whereas too few may result in an underfit model. Early stopping is a method that allows you to specify an arbitrary large number of training epochs and stop training once the model performance stops improving on a hold out validation dataset.\n",
        "\n",
        "*   Concerning the Dense layer, the size of the layer was at first 30, but then I tried higher values (50, 100, 200) and I found that 100 and  perfome better.\n",
        "\n",
        "*  I modified the size of the first filter to  5x5 but It didn't improve the test error.\n",
        "\n",
        "*   As shows in the model.summary() I added another Convolutional layer before the the first Pool  layer and then another Convolutional layer with 128 filters and the test accuracy increases;\n",
        "\n",
        "\n",
        "\n",
        "\n",
        "\n",
        "Discussion:\n",
        "**To Complete**"
      ]
    }
  ]
}