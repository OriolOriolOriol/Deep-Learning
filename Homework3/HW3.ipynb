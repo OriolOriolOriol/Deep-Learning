{
  "cells": [
    {
      "cell_type": "markdown",
      "metadata": {
        "id": "BxtreUAPraI-",
        "colab_type": "text"
      },
      "source": [
        "#**HW 3: Convolutional Neural Networks**\n",
        "\n",
        "In this homework, we will explore how to develop a simple Convolutional Neural Network for image classification. We will use the same dataset that we used in the previous exercise, the Fashion Minst. In the first part, we will learn how to develop a simple CNN, while in the second part we will explore the impact of various hyper-parameters in the learning performances."
      ]
    },
    {
      "cell_type": "markdown",
      "metadata": {
        "id": "CRwTPJt3rxug",
        "colab_type": "text"
      },
      "source": [
        "##Exercise 3.1: Simple CNN\n",
        "\n",
        "Let's start by importing Tensorflow, Keras and Numpy"
      ]
    },
    {
      "cell_type": "code",
      "metadata": {
        "id": "seDcv-RvrUpM",
        "colab_type": "code",
        "colab": {}
      },
      "source": [
        "import tensorflow as tf\n",
        "from tensorflow import keras\n",
        "import matplotlib.pyplot as plt\n",
        "import numpy as np\n",
        "\n",
        "np.random.seed(42)"
      ],
      "execution_count": 0,
      "outputs": []
    },
    {
      "cell_type": "markdown",
      "metadata": {
        "id": "UxWbaR_HsPYp",
        "colab_type": "text"
      },
      "source": [
        "###Load dataset:\n",
        "Load the Fashion Minst dataset as we did in the previous homework. As you already know Fashion Minst dataset contains grayscale images, and the task consists of classifying the images in the ten classes. As we did in HW2 we have to divide the dataset in training test and validation set. Since we will use a [2DConv](https://www.tensorflow.org/api_docs/python/tf/keras/layers/Conv2D) we have to provide also a new dimension of the input that represents the number of channels (that in ggreyscaleimage is just one). Therefore we [tf.expand_dims](https://) dim to do that. Finaly, as we did in HW2 we have to normalize the input data."
      ]
    },
    {
      "cell_type": "code",
      "metadata": {
        "id": "8QQy37jnsH_e",
        "colab_type": "code",
        "outputId": "3ddff58b-3f1f-48cb-aff3-445383a1c352",
        "colab": {
          "base_uri": "https://localhost:8080/",
          "height": 158
        }
      },
      "source": [
        "fashion_mnist = keras.datasets.fashion_mnist\n",
        "(X_train_full, y_train_full), (X_test, y_test) = (\n",
        "    fashion_mnist.load_data()) #The dataset is already divede in test and training..\n",
        "\n",
        "#Normalize the data\n",
        "pixel_means = X_train_full.mean(axis = 0)\n",
        "pixel_stds = X_test.std(axis = 0)\n",
        "\n",
        "X_train_full = (X_train_full - pixel_means) / pixel_stds\n",
        "X_test = (X_test - pixel_means) / pixel_stds \n",
        "\n",
        "#Add one dimension to manage the channel\n",
        "X_train_full=tf.expand_dims(X_train_full, 3) \n",
        "X_test=tf.expand_dims(X_test,3)\n",
        "\n",
        "#Extract the first 5000 samples of the training set, to use them as the validation set\n",
        "X_valid, X_train = X_train_full[:5000], X_train_full[5000:] \n",
        "y_valid, y_train = y_train_full[:5000], y_train_full[5000:]\n",
        "\n",
        "class_names = [\"T-shirt/top\", \"Trouser\", \"Pullover\", \"Dress\", \"Coat\",\n",
        "               \"Sandal\", \"Shirt\", \"Sneaker\", \"Bag\", \"Ankle boot\"]\n"
      ],
      "execution_count": 3,
      "outputs": [
        {
          "output_type": "stream",
          "text": [
            "Downloading data from https://storage.googleapis.com/tensorflow/tf-keras-datasets/train-labels-idx1-ubyte.gz\n",
            "32768/29515 [=================================] - 0s 0us/step\n",
            "Downloading data from https://storage.googleapis.com/tensorflow/tf-keras-datasets/train-images-idx3-ubyte.gz\n",
            "26427392/26421880 [==============================] - 0s 0us/step\n",
            "Downloading data from https://storage.googleapis.com/tensorflow/tf-keras-datasets/t10k-labels-idx1-ubyte.gz\n",
            "8192/5148 [===============================================] - 0s 0us/step\n",
            "Downloading data from https://storage.googleapis.com/tensorflow/tf-keras-datasets/t10k-images-idx3-ubyte.gz\n",
            "4423680/4422102 [==============================] - 0s 0us/step\n"
          ],
          "name": "stdout"
        }
      ]
    },
    {
      "cell_type": "markdown",
      "metadata": {
        "id": "mhWYkFmQsNm5",
        "colab_type": "text"
      },
      "source": [
        "###Define the model\n",
        "\n",
        "Let's create a simple CNN. The model will be composed of:\n",
        "* One 2D convolutional layer with kernel size 3x3 and 32 output filters/features, that use ReLu activation function\n",
        "* a Max Pooling layer (2D) of size 2x2 ([MaxPool2D](https://www.tensorflow.org/api_docs/python/tf/keras/layers/MaxPool2D))\n",
        "* a Flatten layer\n",
        "* the output layer,  the same we used in HW2 (that use softmax function)\n",
        "Note that as 'input_shape' attribute's value in the first layer report also the third dimension that represents the channel."
      ]
    },
    {
      "cell_type": "code",
      "metadata": {
        "id": "paLpCd7XsOYs",
        "colab_type": "code",
        "colab": {}
      },
      "source": [
        "model = keras.models.Sequential([\n",
        "    keras.layers.Conv2D(filters=32, kernel_size=[3,3], padding=\"same\", activation=\"relu\", input_shape=[28, 28,1]),\n",
        "    keras.layers.MaxPool2D(pool_size=[2,2]),\n",
        "    keras.layers.Flatten(),\n",
        "    keras.layers.Dense(10, activation=\"softmax\")\n",
        "])\n",
        "model.compile(loss=\"sparse_categorical_crossentropy\",\n",
        "              optimizer='sgd',\n",
        "              metrics=[\"accuracy\"])\n"
      ],
      "execution_count": 0,
      "outputs": []
    },
    {
      "cell_type": "markdown",
      "metadata": {
        "id": "bdnAR5KzssZk",
        "colab_type": "text"
      },
      "source": [
        "Print the model summary"
      ]
    },
    {
      "cell_type": "code",
      "metadata": {
        "id": "ga-UGdspsslW",
        "colab_type": "code",
        "outputId": "642f00ba-34d5-4cde-9832-980c2a773727",
        "colab": {
          "base_uri": "https://localhost:8080/",
          "height": 299
        }
      },
      "source": [
        "model.summary()"
      ],
      "execution_count": 5,
      "outputs": [
        {
          "output_type": "stream",
          "text": [
            "Model: \"sequential\"\n",
            "_________________________________________________________________\n",
            "Layer (type)                 Output Shape              Param #   \n",
            "=================================================================\n",
            "conv2d (Conv2D)              (None, 28, 28, 32)        320       \n",
            "_________________________________________________________________\n",
            "max_pooling2d (MaxPooling2D) (None, 14, 14, 32)        0         \n",
            "_________________________________________________________________\n",
            "flatten (Flatten)            (None, 6272)              0         \n",
            "_________________________________________________________________\n",
            "dense (Dense)                (None, 10)                62730     \n",
            "=================================================================\n",
            "Total params: 63,050\n",
            "Trainable params: 63,050\n",
            "Non-trainable params: 0\n",
            "_________________________________________________________________\n"
          ],
          "name": "stdout"
        }
      ]
    },
    {
      "cell_type": "markdown",
      "metadata": {
        "id": "11S83_J0MIqb",
        "colab_type": "text"
      },
      "source": [
        "Note that the number of parameters mostly depends on the output layers, indeed the sharing parameters techinique used by the 2D convolutional layers allows to significantly reduce the number of learnable weights.\n",
        "Now we can train the model"
      ]
    },
    {
      "cell_type": "code",
      "metadata": {
        "id": "57aZ0KRGM7kY",
        "colab_type": "code",
        "outputId": "99ec4bcc-58ee-4ad8-c88a-423f8e88199d",
        "colab": {
          "base_uri": "https://localhost:8080/",
          "height": 369
        }
      },
      "source": [
        "history = model.fit(X_train, y_train, epochs=10, batch_size=128,\n",
        "                    validation_data=(X_valid, y_valid))"
      ],
      "execution_count": 6,
      "outputs": [
        {
          "output_type": "stream",
          "text": [
            "Epoch 1/10\n",
            "430/430 [==============================] - 3s 7ms/step - loss: 0.7316 - accuracy: 0.7587 - val_loss: 0.5072 - val_accuracy: 0.8202\n",
            "Epoch 2/10\n",
            "430/430 [==============================] - 3s 6ms/step - loss: 0.4770 - accuracy: 0.8338 - val_loss: 0.4347 - val_accuracy: 0.8506\n",
            "Epoch 3/10\n",
            "430/430 [==============================] - 3s 6ms/step - loss: 0.4274 - accuracy: 0.8520 - val_loss: 0.4093 - val_accuracy: 0.8606\n",
            "Epoch 4/10\n",
            "430/430 [==============================] - 3s 6ms/step - loss: 0.3996 - accuracy: 0.8621 - val_loss: 0.3863 - val_accuracy: 0.8686\n",
            "Epoch 5/10\n",
            "430/430 [==============================] - 3s 6ms/step - loss: 0.3813 - accuracy: 0.8683 - val_loss: 0.3713 - val_accuracy: 0.8742\n",
            "Epoch 6/10\n",
            "430/430 [==============================] - 3s 6ms/step - loss: 0.3675 - accuracy: 0.8718 - val_loss: 0.3687 - val_accuracy: 0.8742\n",
            "Epoch 7/10\n",
            "430/430 [==============================] - 3s 6ms/step - loss: 0.3557 - accuracy: 0.8759 - val_loss: 0.3564 - val_accuracy: 0.8784\n",
            "Epoch 8/10\n",
            "430/430 [==============================] - 3s 6ms/step - loss: 0.3459 - accuracy: 0.8785 - val_loss: 0.3547 - val_accuracy: 0.8736\n",
            "Epoch 9/10\n",
            "430/430 [==============================] - 3s 6ms/step - loss: 0.3374 - accuracy: 0.8818 - val_loss: 0.3661 - val_accuracy: 0.8756\n",
            "Epoch 10/10\n",
            "430/430 [==============================] - 3s 6ms/step - loss: 0.3309 - accuracy: 0.8843 - val_loss: 0.3451 - val_accuracy: 0.8842\n"
          ],
          "name": "stdout"
        }
      ]
    },
    {
      "cell_type": "markdown",
      "metadata": {
        "id": "xfPHQGs6M8AE",
        "colab_type": "text"
      },
      "source": [
        "Plot the loss and the accuracy trends for the training and validation set, Then compute the result on the test set."
      ]
    },
    {
      "cell_type": "code",
      "metadata": {
        "id": "yVD4jB7ZMK5z",
        "colab_type": "code",
        "outputId": "f6f9e31e-8bfe-48bb-caf6-216921b2aa5b",
        "colab": {
          "base_uri": "https://localhost:8080/",
          "height": 798
        }
      },
      "source": [
        "def plot_loss(history):\n",
        "  plt.figure(figsize=(10,6))\n",
        "  plt.plot(history.epoch,history.history['loss'])\n",
        "  plt.plot(history.epoch,history.history['val_loss'])\n",
        "  plt.title('loss')\n",
        "\n",
        "def plot_accuracy(history):\n",
        "  plt.figure(figsize=(10,6))\n",
        "  plt.plot(history.epoch,history.history['accuracy'])\n",
        "  plt.plot(history.epoch,history.history['val_accuracy'])\n",
        "  plt.title('accuracy')\n",
        "\n",
        "plot_loss(history)\n",
        "\n",
        "plot_accuracy(history)\n",
        "\n",
        "scores = model.evaluate(X_test, y_test, verbose=2)\n",
        "print(\"%s: %.2f%%\" % (model.metrics_names[1], scores[1]*100))\n",
        "\n"
      ],
      "execution_count": 7,
      "outputs": [
        {
          "output_type": "stream",
          "text": [
            "313/313 - 1s - loss: 0.3692 - accuracy: 0.8709\n",
            "accuracy: 87.09%\n"
          ],
          "name": "stdout"
        },
        {
          "output_type": "display_data",
          "data": {
            "image/png": "[encoded data removed]",
            "text/plain": [
              "<Figure size 720x432 with 1 Axes>"
            ]
          },
          "metadata": {
            "tags": [],
            "needs_background": "light"
          }
        },
        {
          "output_type": "display_data",
          "data": {
            "image/png": "[encoded data removed]",
            "text/plain": [
              "<Figure size 720x432 with 1 Axes>"
            ]
          },
          "metadata": {
            "tags": [],
            "needs_background": "light"
          }
        }
      ]
    },
    {
      "cell_type": "markdown",
      "metadata": {
        "id": "j5wOQymFYZjA",
        "colab_type": "text"
      },
      "source": [
        "###Visualize Weights\n",
        "\n",
        "An interesting thing is to visualize the learned weights for the convolutional layer. We have 32 kernels of size 3x3, we can just plot them as images, mapping the weight values to grayscale."
      ]
    },
    {
      "cell_type": "code",
      "metadata": {
        "id": "EXHiS8VyY6pg",
        "colab_type": "code",
        "outputId": "76147f1b-0ceb-4512-b43f-1ab2206d96e4",
        "colab": {
          "base_uri": "https://localhost:8080/",
          "height": 237
        }
      },
      "source": [
        "# Weights for the first convolutional layer\n",
        "w0=model.get_weights()[0][:,:,0,:]\n",
        "\n",
        "# Normalize to range 0.0 - 1.0\n",
        "w0-=np.min(w0)\n",
        "w0/=np.max(w0)\n",
        "\n",
        "for r in range(4):\n",
        "    for c in range(8):\n",
        "        n=r*8+c\n",
        "        plt.subplot(4, 8, n+1)\n",
        "        plt.imshow(w0[:,:,n], interpolation='none')\n",
        "        plt.axis('off')\n",
        "        plt.gray()\n",
        "plt.show()"
      ],
      "execution_count": 8,
      "outputs": [
        {
          "output_type": "display_data",
          "data": {
            "image/png": "[encoded data removed]",
            "text/plain": [
              "<Figure size 432x288 with 32 Axes>"
            ]
          },
          "metadata": {
            "tags": [],
            "needs_background": "light"
          }
        }
      ]
    },
    {
      "cell_type": "markdown",
      "metadata": {
        "id": "OsFQRbx3ZWtp",
        "colab_type": "text"
      },
      "source": [
        "They might be a bit hard to interpret, but it seems that the various filters have learned to detect various corners and edges."
      ]
    },
    {
      "cell_type": "markdown",
      "metadata": {
        "id": "-bOYmnXgZXi4",
        "colab_type": "text"
      },
      "source": [
        "## Exercise 3.2: Develop a better CNN\n",
        "Let's develop a network that performs better than the very simple one above. This exercise aims to explore how much the various hyper-parameters influence the classification capability of the model. \n",
        "\n",
        "**To Complete**: Your task is to do some reparametrizations of the previous exercise's network and compare the results. At least one of them should have an improvement in the test set result (generalization) than the result of the model used in the previous exercise.\n",
        "In the cell below report only the code of the **best model** that you can find. In addtion, print out its result on the test set, and plot the accuracy and the loss trends in the notebook you return.\n",
        "Moreover, for each setup you test, analyze and discuss the obtained results briefly in the last cells in the bottom.\n",
        "\n",
        "Hint: Each reparameterization should change a different aspect in the network, while the rest of the parameters would stay the same. \n",
        "Example parameters to try to change (we suggest to test at least one re-parametrization for each of these categories):\n",
        "\n",
        "*    number of layers or neurons or filters dimension\n",
        "*   activation functions\n",
        "*   epochs\n",
        "*   batch sizes\n",
        "*   optimizer, see TensorFlow documentation on [optimizers](https://https://www.tensorflow.org/api_docs/python/tf/keras/optimizers)\n",
        "*   max-pooling on/off on certain layers, or pool size\n",
        "\n",
        "For what concerns the optimizer, as you can see in the 'compile' method [documentation'](https://www.tensorflow.org/api_docs/python/tf/keras/Model#compile) is it possible to pass as 'optimizer ' attribute's value a string (the name of optimizer) or an optimizer instance.\n",
        "\n",
        "Notice that changing the final layer's softmax activation plus the categorical_crossentropy loss requires some consideration. Don't do it unless you have a good plan."
      ]
    },
    {
      "cell_type": "code",
      "metadata": {
        "id": "IB-ZgfR5afs9",
        "colab_type": "code",
        "outputId": "4c3f185e-463d-4cd5-cec6-002d2bd3d9cd",
        "colab": {
          "base_uri": "https://localhost:8080/",
          "height": 1000
        }
      },
      "source": [
        "from tensorflow.keras.callbacks import EarlyStopping, ModelCheckpoint\n",
        "from tensorflow.keras.models import load_model\n",
        "\n",
        "model = keras.models.Sequential([\n",
        "    keras.layers.Conv2D(filters=32, kernel_size=[3,3], padding=\"same\", activation=\"relu\", input_shape=[28, 28,1]),\n",
        "    keras.layers.Conv2D(filters=64, kernel_size=[3,3], padding=\"same\", activation=\"relu\"), \n",
        "    keras.layers.MaxPool2D(pool_size=[2,2]),\n",
        "    keras.layers.Conv2D(filters=128, kernel_size=[3,3], padding=\"same\", activation=\"relu\"),\n",
        "    keras.layers.MaxPool2D(pool_size=[2,2]),     \n",
        "    keras.layers.Flatten(),\n",
        "    keras.layers.Dropout(0.5),\n",
        "    keras.layers.Dense(100, activation=\"relu\"),\n",
        "    keras.layers.Dropout(0.5),\n",
        "    keras.layers.Dense(10, activation=\"softmax\")\n",
        "    \n",
        "])\n",
        "model.compile(loss=\"sparse_categorical_crossentropy\",\n",
        "              optimizer=\"adam\",\n",
        "              metrics=[\"accuracy\"])\n",
        "\n",
        "\n",
        "print(\"\\nModel creation using the functions Conv2D e MaxPool2D\\n\")\n",
        "early_stopping = EarlyStopping(monitor='val_accuracy', mode='max', patience=10)\n",
        "modelcheck = ModelCheckpoint('best_model.h5', monitor='val_accuracy', mode='max', save_best_only=True)\n",
        "history = model.fit(X_train, y_train, epochs=100, batch_size=300,callbacks=[early_stopping,modelcheck],\n",
        "                    validation_data=(X_valid, y_valid))\n",
        "\n",
        "\n",
        "model.summary()\n",
        "plot_loss(history)\n",
        "\n",
        "plot_accuracy(history)\n",
        "model = load_model('best_model.h5')\n",
        "scores = model.evaluate(X_test, y_test, verbose=2)\n",
        "print(\"%s: %.2f%%\" % (model.metrics_names[1], scores[1]*100))\n",
        "\n",
        "#######################################################################################################################\n",
        "\n",
        "model1 = keras.models.Sequential([\n",
        "    keras.layers.SeparableConv2D(32,3, padding=\"same\", activation=\"relu\", input_shape=[28, 28,1]),\n",
        "    keras.layers.SeparableConv2D(64,3, padding=\"same\", activation=\"relu\"),\n",
        "    keras.layers.MaxPooling2D(2),\n",
        "    keras.layers.SeparableConv2D(128,3, padding=\"same\", activation=\"relu\"),\n",
        "    keras.layers.MaxPooling2D(2),   \n",
        "    keras.layers.Flatten(),\n",
        "    keras.layers.Dropout(0.5),\n",
        "    keras.layers.Dense(100, activation=\"relu\"),\n",
        "    keras.layers.Dropout(0.5),\n",
        "    keras.layers.Dense(10, activation=\"softmax\")\n",
        "    \n",
        "])\n",
        "model1.compile(loss=\"sparse_categorical_crossentropy\",\n",
        "              optimizer=\"adam\",\n",
        "              metrics=[\"accuracy\"])\n",
        "\n",
        "\n",
        "print(\"\\nModel creation using the functions SeparableConv2D and MaxPooling2D\\n\")\n",
        "early_stopping1 = EarlyStopping(monitor='val_accuracy', mode='max', patience=10)\n",
        "modelcheck1 = ModelCheckpoint('best_model1.h5', monitor='val_accuracy', mode='max', save_best_only=True)\n",
        "history1 = model1.fit(X_train, y_train, epochs=100, batch_size=300,callbacks=[early_stopping1,modelcheck1],\n",
        "                    validation_data=(X_valid, y_valid))\n",
        "\n",
        "\n",
        "model1.summary()\n",
        "plot_loss(history1)\n",
        "\n",
        "plot_accuracy(history1)\n",
        "model1 = load_model('best_model1.h5')\n",
        "scores = model1.evaluate(X_test, y_test, verbose=2)\n",
        "print(\"%s: %.2f%%\" % (model1.metrics_names[1], scores[1]*100))"
      ],
      "execution_count": 10,
      "outputs": [
        {
          "output_type": "stream",
          "text": [
            "\n",
            "Model creation using the functions Conv2D e MaxPool2D\n",
            "\n",
            "Epoch 1/100\n",
            "184/184 [==============================] - 8s 46ms/step - loss: 0.6146 - accuracy: 0.7808 - val_loss: 0.3309 - val_accuracy: 0.8802\n",
            "Epoch 2/100\n",
            "184/184 [==============================] - 8s 44ms/step - loss: 0.3793 - accuracy: 0.8648 - val_loss: 0.2800 - val_accuracy: 0.8960\n",
            "Epoch 3/100\n",
            "184/184 [==============================] - 8s 44ms/step - loss: 0.3284 - accuracy: 0.8851 - val_loss: 0.2495 - val_accuracy: 0.9072\n",
            "Epoch 4/100\n",
            "184/184 [==============================] - 8s 44ms/step - loss: 0.2931 - accuracy: 0.8939 - val_loss: 0.2247 - val_accuracy: 0.9198\n",
            "Epoch 5/100\n",
            "184/184 [==============================] - 8s 44ms/step - loss: 0.2683 - accuracy: 0.9028 - val_loss: 0.2152 - val_accuracy: 0.9224\n",
            "Epoch 6/100\n",
            "184/184 [==============================] - 8s 44ms/step - loss: 0.2470 - accuracy: 0.9109 - val_loss: 0.2097 - val_accuracy: 0.9212\n",
            "Epoch 7/100\n",
            "184/184 [==============================] - 8s 44ms/step - loss: 0.2338 - accuracy: 0.9140 - val_loss: 0.2047 - val_accuracy: 0.9230\n",
            "Epoch 8/100\n",
            "184/184 [==============================] - 8s 44ms/step - loss: 0.2202 - accuracy: 0.9186 - val_loss: 0.1974 - val_accuracy: 0.9294\n",
            "Epoch 9/100\n",
            "184/184 [==============================] - 8s 44ms/step - loss: 0.2085 - accuracy: 0.9229 - val_loss: 0.1937 - val_accuracy: 0.9298\n",
            "Epoch 10/100\n",
            "184/184 [==============================] - 8s 44ms/step - loss: 0.2014 - accuracy: 0.9258 - val_loss: 0.1907 - val_accuracy: 0.9280\n",
            "Epoch 11/100\n",
            "184/184 [==============================] - 8s 44ms/step - loss: 0.1921 - accuracy: 0.9297 - val_loss: 0.1906 - val_accuracy: 0.9306\n",
            "Epoch 12/100\n",
            "184/184 [==============================] - 8s 44ms/step - loss: 0.1847 - accuracy: 0.9309 - val_loss: 0.1824 - val_accuracy: 0.9336\n",
            "Epoch 13/100\n",
            "184/184 [==============================] - 8s 44ms/step - loss: 0.1794 - accuracy: 0.9332 - val_loss: 0.1795 - val_accuracy: 0.9306\n",
            "Epoch 14/100\n",
            "184/184 [==============================] - 8s 44ms/step - loss: 0.1706 - accuracy: 0.9359 - val_loss: 0.1844 - val_accuracy: 0.9350\n",
            "Epoch 15/100\n",
            "184/184 [==============================] - 8s 43ms/step - loss: 0.1670 - accuracy: 0.9380 - val_loss: 0.1782 - val_accuracy: 0.9336\n",
            "Epoch 16/100\n",
            "184/184 [==============================] - 8s 44ms/step - loss: 0.1566 - accuracy: 0.9418 - val_loss: 0.1883 - val_accuracy: 0.9336\n",
            "Epoch 17/100\n",
            "184/184 [==============================] - 8s 44ms/step - loss: 0.1549 - accuracy: 0.9420 - val_loss: 0.1855 - val_accuracy: 0.9358\n",
            "Epoch 18/100\n",
            "184/184 [==============================] - 8s 44ms/step - loss: 0.1492 - accuracy: 0.9432 - val_loss: 0.1848 - val_accuracy: 0.9354\n",
            "Epoch 19/100\n",
            "184/184 [==============================] - 8s 44ms/step - loss: 0.1494 - accuracy: 0.9436 - val_loss: 0.1793 - val_accuracy: 0.9358\n",
            "Epoch 20/100\n",
            "184/184 [==============================] - 8s 44ms/step - loss: 0.1417 - accuracy: 0.9458 - val_loss: 0.1827 - val_accuracy: 0.9368\n",
            "Epoch 21/100\n",
            "184/184 [==============================] - 8s 44ms/step - loss: 0.1374 - accuracy: 0.9496 - val_loss: 0.1820 - val_accuracy: 0.9346\n",
            "Epoch 22/100\n",
            "184/184 [==============================] - 8s 44ms/step - loss: 0.1333 - accuracy: 0.9501 - val_loss: 0.1854 - val_accuracy: 0.9346\n",
            "Epoch 23/100\n",
            "184/184 [==============================] - 8s 44ms/step - loss: 0.1317 - accuracy: 0.9497 - val_loss: 0.1904 - val_accuracy: 0.9336\n",
            "Epoch 24/100\n",
            "184/184 [==============================] - 8s 44ms/step - loss: 0.1250 - accuracy: 0.9524 - val_loss: 0.1876 - val_accuracy: 0.9368\n",
            "Epoch 25/100\n",
            "184/184 [==============================] - 8s 44ms/step - loss: 0.1219 - accuracy: 0.9541 - val_loss: 0.1858 - val_accuracy: 0.9366\n",
            "Epoch 26/100\n",
            "184/184 [==============================] - 8s 43ms/step - loss: 0.1195 - accuracy: 0.9540 - val_loss: 0.1907 - val_accuracy: 0.9340\n",
            "Epoch 27/100\n",
            "184/184 [==============================] - 8s 43ms/step - loss: 0.1183 - accuracy: 0.9551 - val_loss: 0.1901 - val_accuracy: 0.9368\n",
            "Epoch 28/100\n",
            "184/184 [==============================] - 8s 44ms/step - loss: 0.1143 - accuracy: 0.9567 - val_loss: 0.1927 - val_accuracy: 0.9386\n",
            "Epoch 29/100\n",
            "184/184 [==============================] - 8s 44ms/step - loss: 0.1141 - accuracy: 0.9569 - val_loss: 0.1890 - val_accuracy: 0.9370\n",
            "Epoch 30/100\n",
            "184/184 [==============================] - 8s 44ms/step - loss: 0.1086 - accuracy: 0.9588 - val_loss: 0.1900 - val_accuracy: 0.9416\n",
            "Epoch 31/100\n",
            "184/184 [==============================] - 8s 44ms/step - loss: 0.1059 - accuracy: 0.9591 - val_loss: 0.2002 - val_accuracy: 0.9402\n",
            "Epoch 32/100\n",
            "184/184 [==============================] - 8s 44ms/step - loss: 0.1070 - accuracy: 0.9601 - val_loss: 0.1978 - val_accuracy: 0.9356\n",
            "Epoch 33/100\n",
            "184/184 [==============================] - 8s 44ms/step - loss: 0.1079 - accuracy: 0.9589 - val_loss: 0.1923 - val_accuracy: 0.9370\n",
            "Epoch 34/100\n",
            "184/184 [==============================] - 8s 44ms/step - loss: 0.1043 - accuracy: 0.9599 - val_loss: 0.1963 - val_accuracy: 0.9370\n",
            "Epoch 35/100\n",
            "184/184 [==============================] - 8s 44ms/step - loss: 0.1002 - accuracy: 0.9611 - val_loss: 0.2012 - val_accuracy: 0.9398\n",
            "Epoch 36/100\n",
            "184/184 [==============================] - 8s 43ms/step - loss: 0.0997 - accuracy: 0.9619 - val_loss: 0.1994 - val_accuracy: 0.9396\n",
            "Epoch 37/100\n",
            "184/184 [==============================] - 8s 44ms/step - loss: 0.0984 - accuracy: 0.9623 - val_loss: 0.2050 - val_accuracy: 0.9346\n",
            "Epoch 38/100\n",
            "184/184 [==============================] - 8s 43ms/step - loss: 0.0991 - accuracy: 0.9618 - val_loss: 0.1877 - val_accuracy: 0.9400\n",
            "Epoch 39/100\n",
            "184/184 [==============================] - 8s 44ms/step - loss: 0.0947 - accuracy: 0.9638 - val_loss: 0.1999 - val_accuracy: 0.9392\n",
            "Epoch 40/100\n",
            "184/184 [==============================] - 8s 44ms/step - loss: 0.0916 - accuracy: 0.9649 - val_loss: 0.1969 - val_accuracy: 0.9392\n",
            "Model: \"sequential_2\"\n",
            "_________________________________________________________________\n",
            "Layer (type)                 Output Shape              Param #   \n",
            "=================================================================\n",
            "conv2d_4 (Conv2D)            (None, 28, 28, 32)        320       \n",
            "_________________________________________________________________\n",
            "conv2d_5 (Conv2D)            (None, 28, 28, 64)        18496     \n",
            "_________________________________________________________________\n",
            "max_pooling2d_3 (MaxPooling2 (None, 14, 14, 64)        0         \n",
            "_________________________________________________________________\n",
            "conv2d_6 (Conv2D)            (None, 14, 14, 128)       73856     \n",
            "_________________________________________________________________\n",
            "max_pooling2d_4 (MaxPooling2 (None, 7, 7, 128)         0         \n",
            "_________________________________________________________________\n",
            "flatten_2 (Flatten)          (None, 6272)              0         \n",
            "_________________________________________________________________\n",
            "dropout_2 (Dropout)          (None, 6272)              0         \n",
            "_________________________________________________________________\n",
            "dense_3 (Dense)              (None, 100)               627300    \n",
            "_________________________________________________________________\n",
            "dropout_3 (Dropout)          (None, 100)               0         \n",
            "_________________________________________________________________\n",
            "dense_4 (Dense)              (None, 10)                1010      \n",
            "=================================================================\n",
            "Total params: 720,982\n",
            "Trainable params: 720,982\n",
            "Non-trainable params: 0\n",
            "_________________________________________________________________\n",
            "313/313 - 1s - loss: 0.2139 - accuracy: 0.9334\n",
            "accuracy: 93.34%\n",
            "\n",
            "Model creation using the functions SeparableConv2D and MaxPooling2D\n",
            "\n",
            "Epoch 1/100\n",
            "184/184 [==============================] - 7s 37ms/step - loss: 0.8751 - accuracy: 0.6880 - val_loss: 0.4445 - val_accuracy: 0.8430\n",
            "Epoch 2/100\n",
            "184/184 [==============================] - 7s 35ms/step - loss: 0.4940 - accuracy: 0.8229 - val_loss: 0.3812 - val_accuracy: 0.8644\n",
            "Epoch 3/100\n",
            "184/184 [==============================] - 7s 36ms/step - loss: 0.4314 - accuracy: 0.8459 - val_loss: 0.3472 - val_accuracy: 0.8740\n",
            "Epoch 4/100\n",
            "184/184 [==============================] - 7s 36ms/step - loss: 0.3967 - accuracy: 0.8573 - val_loss: 0.3207 - val_accuracy: 0.8812\n",
            "Epoch 5/100\n",
            "184/184 [==============================] - 7s 36ms/step - loss: 0.3719 - accuracy: 0.8664 - val_loss: 0.3002 - val_accuracy: 0.8904\n",
            "Epoch 6/100\n",
            "184/184 [==============================] - 7s 36ms/step - loss: 0.3546 - accuracy: 0.8717 - val_loss: 0.2893 - val_accuracy: 0.8962\n",
            "Epoch 7/100\n",
            "184/184 [==============================] - 7s 36ms/step - loss: 0.3357 - accuracy: 0.8773 - val_loss: 0.2737 - val_accuracy: 0.9002\n",
            "Epoch 8/100\n",
            "184/184 [==============================] - 7s 36ms/step - loss: 0.3183 - accuracy: 0.8835 - val_loss: 0.2648 - val_accuracy: 0.9032\n",
            "Epoch 9/100\n",
            "184/184 [==============================] - 6s 35ms/step - loss: 0.3059 - accuracy: 0.8872 - val_loss: 0.2593 - val_accuracy: 0.9014\n",
            "Epoch 10/100\n",
            "184/184 [==============================] - 7s 36ms/step - loss: 0.2964 - accuracy: 0.8921 - val_loss: 0.2487 - val_accuracy: 0.9066\n",
            "Epoch 11/100\n",
            "184/184 [==============================] - 7s 36ms/step - loss: 0.2877 - accuracy: 0.8953 - val_loss: 0.2519 - val_accuracy: 0.9068\n",
            "Epoch 12/100\n",
            "184/184 [==============================] - 7s 36ms/step - loss: 0.2756 - accuracy: 0.8991 - val_loss: 0.2431 - val_accuracy: 0.9078\n",
            "Epoch 13/100\n",
            "184/184 [==============================] - 7s 35ms/step - loss: 0.2716 - accuracy: 0.9004 - val_loss: 0.2414 - val_accuracy: 0.9066\n",
            "Epoch 14/100\n",
            "184/184 [==============================] - 7s 36ms/step - loss: 0.2624 - accuracy: 0.9030 - val_loss: 0.2299 - val_accuracy: 0.9104\n",
            "Epoch 15/100\n",
            "184/184 [==============================] - 7s 36ms/step - loss: 0.2573 - accuracy: 0.9048 - val_loss: 0.2283 - val_accuracy: 0.9138\n",
            "Epoch 16/100\n",
            "184/184 [==============================] - 7s 36ms/step - loss: 0.2478 - accuracy: 0.9091 - val_loss: 0.2239 - val_accuracy: 0.9146\n",
            "Epoch 17/100\n",
            "184/184 [==============================] - 7s 36ms/step - loss: 0.2437 - accuracy: 0.9098 - val_loss: 0.2253 - val_accuracy: 0.9156\n",
            "Epoch 18/100\n",
            "184/184 [==============================] - 6s 35ms/step - loss: 0.2383 - accuracy: 0.9128 - val_loss: 0.2267 - val_accuracy: 0.9144\n",
            "Epoch 19/100\n",
            "184/184 [==============================] - 7s 35ms/step - loss: 0.2338 - accuracy: 0.9139 - val_loss: 0.2207 - val_accuracy: 0.9186\n",
            "Epoch 20/100\n",
            "184/184 [==============================] - 7s 36ms/step - loss: 0.2267 - accuracy: 0.9160 - val_loss: 0.2123 - val_accuracy: 0.9204\n",
            "Epoch 21/100\n",
            "184/184 [==============================] - 7s 36ms/step - loss: 0.2229 - accuracy: 0.9166 - val_loss: 0.2184 - val_accuracy: 0.9206\n",
            "Epoch 22/100\n",
            "184/184 [==============================] - 7s 35ms/step - loss: 0.2210 - accuracy: 0.9172 - val_loss: 0.2182 - val_accuracy: 0.9188\n",
            "Epoch 23/100\n",
            "184/184 [==============================] - 6s 35ms/step - loss: 0.2130 - accuracy: 0.9206 - val_loss: 0.2124 - val_accuracy: 0.9192\n",
            "Epoch 24/100\n",
            "184/184 [==============================] - 7s 35ms/step - loss: 0.2067 - accuracy: 0.9226 - val_loss: 0.2231 - val_accuracy: 0.9214\n",
            "Epoch 25/100\n",
            "184/184 [==============================] - 6s 35ms/step - loss: 0.2029 - accuracy: 0.9238 - val_loss: 0.2100 - val_accuracy: 0.9198\n",
            "Epoch 26/100\n",
            "184/184 [==============================] - 6s 35ms/step - loss: 0.2010 - accuracy: 0.9253 - val_loss: 0.2145 - val_accuracy: 0.9212\n",
            "Epoch 27/100\n",
            "184/184 [==============================] - 7s 36ms/step - loss: 0.1978 - accuracy: 0.9261 - val_loss: 0.2068 - val_accuracy: 0.9226\n",
            "Epoch 28/100\n",
            "184/184 [==============================] - 7s 35ms/step - loss: 0.1935 - accuracy: 0.9267 - val_loss: 0.2082 - val_accuracy: 0.9220\n",
            "Epoch 29/100\n",
            "184/184 [==============================] - 6s 35ms/step - loss: 0.1884 - accuracy: 0.9272 - val_loss: 0.2069 - val_accuracy: 0.9222\n",
            "Epoch 30/100\n",
            "184/184 [==============================] - 7s 36ms/step - loss: 0.1867 - accuracy: 0.9280 - val_loss: 0.2034 - val_accuracy: 0.9274\n",
            "Epoch 31/100\n",
            "184/184 [==============================] - 7s 36ms/step - loss: 0.1827 - accuracy: 0.9315 - val_loss: 0.2048 - val_accuracy: 0.9220\n",
            "Epoch 32/100\n",
            "184/184 [==============================] - 7s 35ms/step - loss: 0.1815 - accuracy: 0.9309 - val_loss: 0.2097 - val_accuracy: 0.9266\n",
            "Epoch 33/100\n",
            "184/184 [==============================] - 7s 35ms/step - loss: 0.1798 - accuracy: 0.9313 - val_loss: 0.2091 - val_accuracy: 0.9248\n",
            "Epoch 34/100\n",
            "184/184 [==============================] - 7s 35ms/step - loss: 0.1764 - accuracy: 0.9328 - val_loss: 0.2033 - val_accuracy: 0.9236\n",
            "Epoch 35/100\n",
            "184/184 [==============================] - 6s 35ms/step - loss: 0.1743 - accuracy: 0.9323 - val_loss: 0.2085 - val_accuracy: 0.9240\n",
            "Epoch 36/100\n",
            "184/184 [==============================] - 7s 36ms/step - loss: 0.1727 - accuracy: 0.9347 - val_loss: 0.2012 - val_accuracy: 0.9288\n",
            "Epoch 37/100\n",
            "184/184 [==============================] - 6s 35ms/step - loss: 0.1708 - accuracy: 0.9338 - val_loss: 0.2050 - val_accuracy: 0.9254\n",
            "Epoch 38/100\n",
            "184/184 [==============================] - 6s 35ms/step - loss: 0.1674 - accuracy: 0.9357 - val_loss: 0.2067 - val_accuracy: 0.9252\n",
            "Epoch 39/100\n",
            "184/184 [==============================] - 7s 35ms/step - loss: 0.1661 - accuracy: 0.9361 - val_loss: 0.2100 - val_accuracy: 0.9256\n",
            "Epoch 40/100\n",
            "184/184 [==============================] - 6s 35ms/step - loss: 0.1632 - accuracy: 0.9379 - val_loss: 0.2062 - val_accuracy: 0.9250\n",
            "Epoch 41/100\n",
            "184/184 [==============================] - 7s 35ms/step - loss: 0.1628 - accuracy: 0.9372 - val_loss: 0.2012 - val_accuracy: 0.9268\n",
            "Epoch 42/100\n",
            "184/184 [==============================] - 6s 35ms/step - loss: 0.1547 - accuracy: 0.9402 - val_loss: 0.2138 - val_accuracy: 0.9276\n",
            "Epoch 43/100\n",
            "184/184 [==============================] - 7s 35ms/step - loss: 0.1541 - accuracy: 0.9395 - val_loss: 0.2023 - val_accuracy: 0.9284\n",
            "Epoch 44/100\n",
            "184/184 [==============================] - 6s 35ms/step - loss: 0.1561 - accuracy: 0.9398 - val_loss: 0.2078 - val_accuracy: 0.9278\n",
            "Epoch 45/100\n",
            "184/184 [==============================] - 6s 35ms/step - loss: 0.1513 - accuracy: 0.9411 - val_loss: 0.2112 - val_accuracy: 0.9270\n",
            "Epoch 46/100\n",
            "184/184 [==============================] - 7s 36ms/step - loss: 0.1542 - accuracy: 0.9407 - val_loss: 0.2050 - val_accuracy: 0.9300\n",
            "Epoch 47/100\n",
            "184/184 [==============================] - 7s 35ms/step - loss: 0.1507 - accuracy: 0.9420 - val_loss: 0.2128 - val_accuracy: 0.9248\n",
            "Epoch 48/100\n",
            "184/184 [==============================] - 6s 35ms/step - loss: 0.1523 - accuracy: 0.9414 - val_loss: 0.2032 - val_accuracy: 0.9284\n",
            "Epoch 49/100\n",
            "184/184 [==============================] - 7s 35ms/step - loss: 0.1466 - accuracy: 0.9430 - val_loss: 0.2001 - val_accuracy: 0.9288\n",
            "Epoch 50/100\n",
            "184/184 [==============================] - 6s 35ms/step - loss: 0.1448 - accuracy: 0.9430 - val_loss: 0.2044 - val_accuracy: 0.9294\n",
            "Epoch 51/100\n",
            "184/184 [==============================] - 6s 35ms/step - loss: 0.1461 - accuracy: 0.9436 - val_loss: 0.2101 - val_accuracy: 0.9256\n",
            "Epoch 52/100\n",
            "184/184 [==============================] - 6s 35ms/step - loss: 0.1451 - accuracy: 0.9442 - val_loss: 0.2161 - val_accuracy: 0.9252\n",
            "Epoch 53/100\n",
            "184/184 [==============================] - 6s 35ms/step - loss: 0.1438 - accuracy: 0.9445 - val_loss: 0.2055 - val_accuracy: 0.9272\n",
            "Epoch 54/100\n",
            "184/184 [==============================] - 6s 35ms/step - loss: 0.1422 - accuracy: 0.9453 - val_loss: 0.2049 - val_accuracy: 0.9288\n",
            "Epoch 55/100\n",
            "184/184 [==============================] - 6s 35ms/step - loss: 0.1384 - accuracy: 0.9460 - val_loss: 0.2057 - val_accuracy: 0.9276\n",
            "Epoch 56/100\n",
            "184/184 [==============================] - 6s 35ms/step - loss: 0.1365 - accuracy: 0.9466 - val_loss: 0.2058 - val_accuracy: 0.9298\n",
            "Model: \"sequential_3\"\n",
            "_________________________________________________________________\n",
            "Layer (type)                 Output Shape              Param #   \n",
            "=================================================================\n",
            "separable_conv2d (SeparableC (None, 28, 28, 32)        73        \n",
            "_________________________________________________________________\n",
            "separable_conv2d_1 (Separabl (None, 28, 28, 64)        2400      \n",
            "_________________________________________________________________\n",
            "max_pooling2d_5 (MaxPooling2 (None, 14, 14, 64)        0         \n",
            "_________________________________________________________________\n",
            "separable_conv2d_2 (Separabl (None, 14, 14, 128)       8896      \n",
            "_________________________________________________________________\n",
            "max_pooling2d_6 (MaxPooling2 (None, 7, 7, 128)         0         \n",
            "_________________________________________________________________\n",
            "flatten_3 (Flatten)          (None, 6272)              0         \n",
            "_________________________________________________________________\n",
            "dropout_4 (Dropout)          (None, 6272)              0         \n",
            "_________________________________________________________________\n",
            "dense_5 (Dense)              (None, 100)               627300    \n",
            "_________________________________________________________________\n",
            "dropout_5 (Dropout)          (None, 100)               0         \n",
            "_________________________________________________________________\n",
            "dense_6 (Dense)              (None, 10)                1010      \n",
            "=================================================================\n",
            "Total params: 639,679\n",
            "Trainable params: 639,679\n",
            "Non-trainable params: 0\n",
            "_________________________________________________________________\n",
            "313/313 - 1s - loss: 0.2380 - accuracy: 0.9227\n",
            "accuracy: 92.27%\n"
          ],
          "name": "stdout"
        },
        {
          "output_type": "display_data",
          "data": {
            "image/png": "[encoded data removed]",
            "text/plain": [
              "<Figure size 720x432 with 1 Axes>"
            ]
          },
          "metadata": {
            "tags": [],
            "needs_background": "light"
          }
        },
        {
          "output_type": "display_data",
          "data": {
            "image/png": "[encoded data removed]",
            "text/plain": [
              "<Figure size 720x432 with 1 Axes>"
            ]
          },
          "metadata": {
            "tags": [],
            "needs_background": "light"
          }
        },
        {
          "output_type": "display_data",
          "data": {
            "image/png": "[encoded data removed]",
            "text/plain": [
              "<Figure size 720x432 with 1 Axes>"
            ]
          },
          "metadata": {
            "tags": [],
            "needs_background": "light"
          }
        },
        {
          "output_type": "display_data",
          "data": {
            "image/png": "[encoded data removed]",
            "text/plain": [
              "<Figure size 720x432 with 1 Axes>"
            ]
          },
          "metadata": {
            "tags": [],
            "needs_background": "light"
          }
        }
      ]
    },
    {
      "cell_type": "markdown",
      "metadata": {
        "id": "0nlE10XIjAid",
        "colab_type": "text"
      },
      "source": [
        "### Test results discussion\n",
        "The best model that I found is reported from this link:\n",
        "\n",
        "[Model 1](https://drive.google.com/file/d/1dMgdop1Wz89mxhxZxv1uuxVhNizbG0uo/view)\n",
        "\n",
        "Total parameter: 720,982\n",
        "\n",
        "So in this model there are:\n",
        "\n",
        "*   3 x (Conv2D+ReLU)\n",
        "*   2 x MaxPool\n",
        "*   After Flatten a Dense Layer with 100 units.\n",
        "*   I added two dropout(0.5). The first between flatten and dense layer with 100 units. The second between dense layer with 100 units and the last layer with softmax activation function\n",
        "\n",
        "The achieved accuracy in the test set is 0.9334.\n",
        "\n",
        "#########################################################\n",
        "#########################################################\n",
        "\n",
        "I wanted to bring back another model, in addition to the previous one, which in the code I called model1. \n",
        "The difference in terms of code between the two models is that I used the SeparableConv2D function instead of Conv2D and MaxPooling2D instead of MaxPool2D.\n",
        "\n",
        "I reported the model.summary from this link:\n",
        "\n",
        "[Model 2](https://drive.google.com/open?id=1ErWT5-TAI2YM4ywhLXaFG7LNP7Tfg_wH)\n",
        "\n",
        "This model is structured in the same way as the other.\n",
        "\n",
        "The achieved accuracy in the test set is 0.9227\n",
        "\n",
        "\n",
        "\n",
        "**Discussion:**\n",
        "\n",
        "The new model perform significantly better (6.25%) than the model. in the Exercise3.1. In my opinion the new accuracy (93.34%) is a good result considering that the trainig set is \"small\" (55 000 instances) with respect to the number of weights of the network.\n",
        "\n",
        "Regarding the second model I built there was also a good improvement here, although less than the first (5.18%). \n",
        "\n",
        "The plot of the validation loss of the first model (that a certain point starts increasing) show that it is overfitting, but regulatization is present and that we cannot increase training set It's acceptable.\n",
        "\n",
        "Concerning the second plot there is less overfitting than previous. In fact, the depth separable convolution (layer SeparableConv2D) represents an almost equivalent but faster and more efficient overfitting solution than the one with Conv2D. \n",
        "\n",
        "So the SeparableConv2D layer can be used as a substitute for Conv2D, to obtain a more compact and faster network.\n",
        "\n",
        "To sum up, the **conv2D**  is the traditional convolution. So, you have an image, with or without padding, and filter that slides through the image with a given stride.\n",
        "\n",
        "On the other hand, the **SeparableConv2D** is a variation of the traditional convolution that was proposed to compute it faster. It performs a depthwise spatial convolution followed by a pointwise convolution which mixes together the resulting output channels"
      ]
    },
    {
      "cell_type": "markdown",
      "metadata": {
        "id": "4sj0soo3bRIs",
        "colab_type": "text"
      },
      "source": [
        "Besides, I also tested other models: \n",
        "\n",
        "* I tried different optimizers (sgd, adam and rmsprop): I found that the best was 'adam' (best error accuracy), and the worst was sgd. Rmsprop gave a good accuracy less than adam.\n",
        "\n",
        "* I change the batch size with small and big values in a range [[50,500]]. I noticed that each epochs takes less time (because less updates to the weights happens) with big batch size. At the end I decided 300 batch size.\n",
        "\n",
        "*  I rise the number of epochs to 40. The test error improves to near 0.90. I saw that with 100 epoche the improvement is better than 40 epoche.\n",
        "\n",
        "* Regarding the model I used Dropout with 0.5. I also tried with 0.2 and 0.4, but I found the best result with 0.5.\n",
        "Thanks to the dropout, if the neurons are randomly excluded from the net during training, the other neurons will have to intervene and manage the required representation to make predictions for the missing neurons. The effect is that the network becomes less sensitive to the specific weights of the neurons. This in turn results in a network that is able to improve generalization and is less likely to overuse training data, \n",
        "\n",
        "*  I added Early Stopping with patient 10.  The reason is that too many epochs can lead to overfitting of the training dataset, whereas too few may result in an underfit model.\n",
        "\n",
        "*   Concerning the Dense layer, the size of the layer was at first 30, but then I tried higher values (50, 100, 200) and I found that 100 and  perfome better.\n",
        "\n",
        "\n",
        "*   As shows in the model.summary() I added another Convolutional layer before the the first Pool  layer and then another Convolutional layer with 128 filters and the test accuracy increases. Notice at as my output spatial volume is decreasing my number of filters learned is increasing. \n",
        "\n",
        "* I tried to increase the size of first,second and thirs filter  and I didn't notice any improvement:\n",
        "      filters: 32/64/128 , kernel_size: 3x3 - 5x5: 92/93%. So I decided to keep 3x3\n",
        "\n",
        "\n",
        "\n",
        "\n",
        "**Conclusion:** \n",
        "\n",
        "To sum up, the steps that improved most the performance of the network were changing the optimizer, that affects a lot the learning process, and adding Dropout.\n",
        "\n",
        "Concerning the better optimizer, I prefer Adam o Rmsprop than sgd for these configurations.\n",
        "\n",
        "As activation function, I used ReLU for all layers except the last where it used the softmax.\n",
        "\n",
        "As for the choice between two models that use two different types of functions regarding convolution layers, I noticed that:\n",
        "\n",
        "* the first model using CONV2D has a higher accuracy but more overfitting. This is showed from the first two graphs\n",
        "\n",
        "* the second model using SeparableConv2D, has less overfitting and less accuracy. This is showed from the last two graphs.\n",
        "\n",
        "\n",
        "\n"
      ]
    }
  ],
  "metadata": {
    "colab": {
      "name": "HW3.ipynb",
      "provenance": [],
      "collapsed_sections": [],
      "toc_visible": true
    },
    "kernelspec": {
      "name": "python3",
      "display_name": "Python 3"
    },
    "accelerator": "GPU"
  },
  "nbformat": 4,
  "nbformat_minor": 0
}