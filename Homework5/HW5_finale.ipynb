{
  "nbformat": 4,
  "nbformat_minor": 0,
  "metadata": {
    "colab": {
      "name": "HW5_finale.ipynb",
      "provenance": [],
      "collapsed_sections": [],
      "toc_visible": true
    },
    "kernelspec": {
      "name": "python3",
      "display_name": "Python 3"
    },
    "accelerator": "GPU"
  },
  "cells": [
    {
      "cell_type": "markdown",
      "metadata": {
        "id": "Vzk_94Ey_KZz",
        "colab_type": "text"
      },
      "source": [
        "# **HW5: Autoencoders**\n",
        "\n",
        "In this homework, we will explore how to develop a simple Autoencoder. As a dataset, we will use the MNIST dataset. It contains handwritten digits images.\n",
        "In the first part, we will learn how to develop a simple shallow autoencoder, then we will develop a deep version of it. Next, we will experiment with the application of a denoising autoencoder. Finally, we will experiment with sequential domains, considering the IMDB dataset, alredy used in HW4."
      ]
    },
    {
      "cell_type": "code",
      "metadata": {
        "id": "-SUqAWqAXRr1",
        "colab_type": "code",
        "colab": {}
      },
      "source": [
        "import tensorflow as tf\n",
        "from tensorflow import keras\n",
        "import numpy as np\n",
        "import pandas as pd\n",
        "import matplotlib.pyplot as plt\n",
        "import os"
      ],
      "execution_count": 0,
      "outputs": []
    },
    {
      "cell_type": "markdown",
      "metadata": {
        "id": "TJA-D-6h3D6b",
        "colab_type": "text"
      },
      "source": [
        "###Load Dataset\n",
        "We load the MNIST dataset, using tf.keras.datasets. The dataset contains 60,000 training images and 10,000 testing images.\n",
        "Each value is between 0 and 255, and represents a pixel in an image of size 28 x 28. We will normalize all values between 0 and 1, and we will flatten the 28x28 images into vectors of size 784.\n",
        "Finally, we will split the test set, in the test and validation set."
      ]
    },
    {
      "cell_type": "code",
      "metadata": {
        "id": "Mmt1Au8CX-ra",
        "colab_type": "code",
        "colab": {}
      },
      "source": [
        "(x_train, _), (x_test, _) = tf.keras.datasets.mnist.load_data()\n",
        "\n",
        "x_train = x_train.astype('float32') / 255\n",
        "x_test = x_test.astype('float32') / 255\n",
        "\n",
        "\n",
        "x_train = x_train.reshape((len(x_train), np.prod(x_train.shape[1:])))\n",
        "x_test = x_test.reshape((len(x_test), np.prod(x_test.shape[1:])))\n",
        "\n",
        "x_valid = x_train[:10000]\n",
        "x_train = x_train[10000:]"
      ],
      "execution_count": 0,
      "outputs": []
    },
    {
      "cell_type": "markdown",
      "metadata": {
        "id": "H6KiNMUN9_ke",
        "colab_type": "text"
      },
      "source": [
        "##Singular Value Decomposition\n",
        "\n",
        "Principal component analysis (PCA) and singular value decomposition (SVD) are both classical linear dimensionality reduction methods that attempt to find linear combinations of features in the original high dimensional data matrix to construct a meaningful representation of the dataset.\n",
        "In this first part of the HW we will focus our attention on SVD decomposition. Indeed it is more numerical stable. Given a matrix X, the SVD decomposes a matrix into the product of two unitary matrices V and U and a rectangular diagonal matrix of singular values S:\n",
        "\n",
        "$$ X=V \\cdot S \\cdot U^T$$\n",
        "\n",
        "SVD is implemented in NumPy as np.linalg.svd. In our case the X matrix will represent the training set, where each row is a sample (therefore the number of columns will be the number of input features).\n",
        "\n",
        "Note that the X matrix, in our case, will have a huge number of rows (we have 50000 input samples) and only 784 columns. Therefore, to optimize the memory consumption we can compute the SVD of the covariance matrix. An interesting property of the SVD is that we can relate the decomposition of the covariance matrix $C= X^T \\cdot X$ to the decomposition of $X$. In fact\n",
        "\n",
        "$$ C= X^T \\cdot X = U \\cdot S \\cdot V^T \\cdot V\\cdot S \\cdot U^T  = U \\cdot S^2 \\cdot U^T$$\n",
        "\n",
        "Since we need just the matrix U to compute the compressed version of our data, this method will be very convenient. If you are using the Colab free plan, the quantity of available ram is not sufficient to compute the SVD of X, therefore computing the SVD of the covariance matrix turns out to be the best solution. "
      ]
    },
    {
      "cell_type": "code",
      "metadata": {
        "id": "ckF8X9KDOQ_9",
        "colab_type": "code",
        "colab": {}
      },
      "source": [
        "def svd_k(X, k):\n",
        "  # Compute covariance matrix\n",
        "  C = np.dot(X.T, X)\n",
        "  # SVD decomposition\n",
        "  U, s_sqr, U_T = np.linalg.svd(C, full_matrices=False)\n",
        "  # Limit the number columns of U to k\n",
        "  U_k=U[:,:k]\n",
        "  return U_k\n"
      ],
      "execution_count": 0,
      "outputs": []
    },
    {
      "cell_type": "markdown",
      "metadata": {
        "id": "pC6SJH7vzGYa",
        "colab_type": "text"
      },
      "source": [
        "Let's define the ENCODING_DIM, that will be the size of the compressed version of input data, and compute the compressed version of the training set and the test set.\n",
        "\n",
        "**To complete: What happens varying the ENCODING_DIM? test  and discuss the results in this cell**"
      ]
    },
    {
      "cell_type": "code",
      "metadata": {
        "id": "pIvHTxWpOzCX",
        "colab_type": "code",
        "colab": {}
      },
      "source": [
        "ENCODING_DIM = 120\n",
        "\n",
        "U_k=svd_k(x_train, ENCODING_DIM)\n",
        "\n",
        "x_training_pca = np.dot(x_train, U_k)\n",
        "x_test_pca = np.dot(x_test, U_k)\n",
        "\n"
      ],
      "execution_count": 0,
      "outputs": []
    },
    {
      "cell_type": "markdown",
      "metadata": {
        "id": "Vt-gKtEwzvr0",
        "colab_type": "text"
      },
      "source": [
        "Reconstruct the input and check how much information was lost due to the compression, by computing the mean squared error between the original input and the reconstruction, and by plotting the reconstructed images"
      ]
    },
    {
      "cell_type": "code",
      "metadata": {
        "id": "3GpWcHRkPBJV",
        "colab_type": "code",
        "colab": {}
      },
      "source": [
        "x_training_reco= np.dot(x_training_pca, U_k.T)\n",
        "x_test_reco= np.dot(x_test_pca, U_k.T)\n",
        "\n",
        "\n"
      ],
      "execution_count": 0,
      "outputs": []
    },
    {
      "cell_type": "code",
      "metadata": {
        "id": "1CPhgcMZPmtM",
        "colab_type": "code",
        "outputId": "3fbce354-6dca-4108-a0a4-c9a80c068ef9",
        "colab": {
          "base_uri": "https://localhost:8080/",
          "height": 52
        }
      },
      "source": [
        "accuracy_train = ((x_train - x_training_reco)**2).mean()\n",
        "accuracy_test = ((x_test - x_test_reco)**2).mean()\n",
        "\n",
        "print(\"training mse: %.5f\" % ( accuracy_train))\n",
        "print(\"test mse: %.5f\" % ( accuracy_test))"
      ],
      "execution_count": 0,
      "outputs": [
        {
          "output_type": "stream",
          "text": [
            "training mse: 0.00464\n",
            "test mse: 0.00455\n"
          ],
          "name": "stdout"
        }
      ]
    },
    {
      "cell_type": "code",
      "metadata": {
        "id": "EuBw_l_Cgo1o",
        "colab_type": "code",
        "colab": {}
      },
      "source": [
        "def plot_img(n, input_data, decoded_imgs):\n",
        "  plt.figure(figsize=(20, 4))\n",
        "  for i in range(n):\n",
        "    # display original\n",
        "    ax = plt.subplot(2, n, i + 1)\n",
        "    plt.imshow(input_data[i].reshape(28, 28))\n",
        "    plt.gray()\n",
        "    ax.get_xaxis().set_visible(False)\n",
        "    ax.get_yaxis().set_visible(False)\n",
        "\n",
        "    # display reconstruction\n",
        "    ax = plt.subplot(2, n, i + 1 + n)\n",
        "    plt.imshow(decoded_imgs[i].reshape(28, 28))\n",
        "    plt.gray()\n",
        "    ax.get_xaxis().set_visible(False)\n",
        "    ax.get_yaxis().set_visible(False)\n",
        "  plt.show()"
      ],
      "execution_count": 0,
      "outputs": []
    },
    {
      "cell_type": "markdown",
      "metadata": {
        "id": "CfqN6d8-37mu",
        "colab_type": "text"
      },
      "source": [
        "Let's check how well the input can be reconstructed, by printing a few of the input images and the corresponding reconstructions. Obviously, all these evaluations have to be done on the test set.\n",
        "\n",
        "The first row of images shows input data, while the second one shows the reconstructions."
      ]
    },
    {
      "cell_type": "code",
      "metadata": {
        "id": "FICZjh2mgz_7",
        "colab_type": "code",
        "outputId": "d14174f0-357b-4596-fecc-bb08f12f2f34",
        "colab": {
          "base_uri": "https://localhost:8080/",
          "height": 248
        }
      },
      "source": [
        "plot_img(10, x_test, x_test_reco)"
      ],
      "execution_count": 0,
      "outputs": [
        {
          "output_type": "display_data",
          "data": {
            "text/plain": [
              "<Figure size 1440x288 with 20 Axes>"
            ],
            "image/png": "[encoded data removed]"
          },
          "metadata": {
            "tags": [],
            "needs_background": "light"
          }
        }
      ]
    },
    {
      "cell_type": "markdown",
      "metadata": {
        "id": "Oe_9Cn8lMh0L",
        "colab_type": "text"
      },
      "source": [
        "#**Discussion**:\n",
        "Here below I reported two different results obtained with ENCODING_DIM = 50 and ENCODING_DIM = 200 on the same test set.\n",
        "\n",
        "###ENCODING_DIM = 50 (test mse: 0.01150)\n",
        "\n",
        "![immagine5 0](https://user-images.githubusercontent.com/53294518/83273875-49fe6d80-a1cd-11ea-88eb-bb163ce9610e.png)\n",
        "\n",
        "\n",
        "###ENCODING_DIM = 200 (test mse: 0.00224)\n",
        "\n",
        "![immagine5 0_2](https://user-images.githubusercontent.com/53294518/83273918-5a164d00-a1cd-11ea-8c45-8a06d04ed609.png)\n",
        "\n",
        "I tried other values too. I noticed that,for example, ENCODING_DIM = 1000 the test mse is equal to 0.0000, in which there is almost no difference between x_test e x_test reconstructed. \n",
        "\n",
        "These results show even more strongly that as ENCONDING_DIM increases, the quality of the representation increases and mse decreases (mean squared error)."
      ]
    },
    {
      "cell_type": "markdown",
      "metadata": {
        "id": "O7crlDsMGrBN",
        "colab_type": "text"
      },
      "source": [
        "## Exercise 5.1: Shallow Linear Autoencoder\n",
        "Let's define the model that consists of a single fully-connected neural layer. The hidden layer and the output layer act as the encoder and the decoder, respectively. Differently than the previous homework, instead of using Keras.Sequential(), we define the various parts of the model (encoder and decoder) separately and create the final model. \n",
        "\n",
        "**To complete: check the results and compare them with the results obtained by SVD. Add a cell  at the end of this section (after the result of the linear autoencoder) where you give an explanation of the relation between the results obtained  by the shallow linear autoencoder and the ones obtained by the SVD decomposition.**\n"
      ]
    },
    {
      "cell_type": "code",
      "metadata": {
        "id": "GfBJJLioaWJN",
        "colab_type": "code",
        "colab": {}
      },
      "source": [
        "ENCODING_DIM = 120\n",
        "\n",
        "input_img = tf.keras.layers.Input(shape=(784,))\n",
        "#Define the encoder...\n",
        "encoded = tf.keras.layers.Dense(ENCODING_DIM, activation='linear')(input_img)\n",
        "\n",
        "#...and the decoder...\n",
        "decoded = tf.keras.layers.Dense(784, activation='linear')(encoded)\n",
        "\n",
        "#and finally the autoencoder\n",
        "autoencoder = tf.keras.models.Model(input_img, decoded)\n",
        "\n",
        "# In order to visualize the learned encoding, define a model that computes the \n",
        "# two parts separately.\n",
        "encoder = tf.keras.models.Model(input_img, encoded)\n",
        "encoded_input = tf.keras.layers.Input(shape=(ENCODING_DIM,))\n",
        "decoder_layer = autoencoder.layers[-1]\n",
        "decoder = tf.keras.models.Model(encoded_input, decoder_layer(encoded_input))\n",
        "\n",
        "#Finally, let's call the compile method\n",
        "autoencoder.compile(optimizer=tf.keras.optimizers.Adam(learning_rate=0.01), loss='mse')\n"
      ],
      "execution_count": 0,
      "outputs": []
    },
    {
      "cell_type": "markdown",
      "metadata": {
        "id": "A_4H-OFzI4tA",
        "colab_type": "text"
      },
      "source": [
        "Print the model summary."
      ]
    },
    {
      "cell_type": "code",
      "metadata": {
        "id": "4gr3B9qoC3zQ",
        "colab_type": "code",
        "outputId": "efffacc9-ab6e-490b-eb56-eb728ae9e043",
        "colab": {
          "base_uri": "https://localhost:8080/",
          "height": 260
        }
      },
      "source": [
        "autoencoder.summary()"
      ],
      "execution_count": 0,
      "outputs": [
        {
          "output_type": "stream",
          "text": [
            "Model: \"model_29\"\n",
            "_________________________________________________________________\n",
            "Layer (type)                 Output Shape              Param #   \n",
            "=================================================================\n",
            "input_16 (InputLayer)        [(None, 784)]             0         \n",
            "_________________________________________________________________\n",
            "dense_15 (Dense)             (None, 120)               94200     \n",
            "_________________________________________________________________\n",
            "dense_16 (Dense)             (None, 784)               94864     \n",
            "=================================================================\n",
            "Total params: 189,064\n",
            "Trainable params: 189,064\n",
            "Non-trainable params: 0\n",
            "_________________________________________________________________\n"
          ],
          "name": "stdout"
        }
      ]
    },
    {
      "cell_type": "markdown",
      "metadata": {
        "id": "Cz3q7uSsKA2N",
        "colab_type": "text"
      },
      "source": [
        "Train the model."
      ]
    },
    {
      "cell_type": "code",
      "metadata": {
        "id": "Szm0L3I03-G9",
        "colab_type": "code",
        "outputId": "148cb22c-16c9-4e2b-8b86-45db2fb14ba3",
        "colab": {
          "base_uri": "https://localhost:8080/",
          "height": 538
        }
      },
      "source": [
        "history = autoencoder.fit(x_train, x_train, epochs=15, batch_size=512, shuffle=True, validation_data=(x_valid, x_valid))"
      ],
      "execution_count": 0,
      "outputs": [
        {
          "output_type": "stream",
          "text": [
            "Epoch 1/15\n",
            "98/98 [==============================] - 1s 6ms/step - loss: 0.0432 - val_loss: 0.0147\n",
            "Epoch 2/15\n",
            "98/98 [==============================] - 1s 6ms/step - loss: 0.0111 - val_loss: 0.0087\n",
            "Epoch 3/15\n",
            "98/98 [==============================] - 0s 5ms/step - loss: 0.0086 - val_loss: 0.0069\n",
            "Epoch 4/15\n",
            "98/98 [==============================] - 1s 7ms/step - loss: 0.0065 - val_loss: 0.0060\n",
            "Epoch 5/15\n",
            "98/98 [==============================] - 1s 5ms/step - loss: 0.0058 - val_loss: 0.0056\n",
            "Epoch 6/15\n",
            "98/98 [==============================] - 1s 5ms/step - loss: 0.0055 - val_loss: 0.0053\n",
            "Epoch 7/15\n",
            "98/98 [==============================] - 0s 5ms/step - loss: 0.0053 - val_loss: 0.0052\n",
            "Epoch 8/15\n",
            "98/98 [==============================] - 1s 5ms/step - loss: 0.0052 - val_loss: 0.0051\n",
            "Epoch 9/15\n",
            "98/98 [==============================] - 0s 5ms/step - loss: 0.0051 - val_loss: 0.0050\n",
            "Epoch 10/15\n",
            "98/98 [==============================] - 0s 4ms/step - loss: 0.0050 - val_loss: 0.0049\n",
            "Epoch 11/15\n",
            "98/98 [==============================] - 0s 4ms/step - loss: 0.0054 - val_loss: 0.0049\n",
            "Epoch 12/15\n",
            "98/98 [==============================] - 1s 5ms/step - loss: 0.0049 - val_loss: 0.0049\n",
            "Epoch 13/15\n",
            "98/98 [==============================] - 0s 4ms/step - loss: 0.0051 - val_loss: 0.0049\n",
            "Epoch 14/15\n",
            "98/98 [==============================] - 0s 4ms/step - loss: 0.0050 - val_loss: 0.0053\n",
            "Epoch 15/15\n",
            "98/98 [==============================] - 0s 4ms/step - loss: 0.0049 - val_loss: 0.0050\n"
          ],
          "name": "stdout"
        }
      ]
    },
    {
      "cell_type": "markdown",
      "metadata": {
        "id": "yfoaQXZgKJZm",
        "colab_type": "text"
      },
      "source": [
        "Plot the loss and the accuracy curves, and the accuracy on the test set."
      ]
    },
    {
      "cell_type": "code",
      "metadata": {
        "id": "15ZjvbTGDB8i",
        "colab_type": "code",
        "colab": {}
      },
      "source": [
        "def plot_loss(history):\n",
        "  plt.figure(figsize=(10,6))\n",
        "  plt.plot(history.epoch,history.history['loss'])\n",
        "  plt.plot(history.epoch,history.history['val_loss'])\n",
        "  plt.title('loss')"
      ],
      "execution_count": 0,
      "outputs": []
    },
    {
      "cell_type": "code",
      "metadata": {
        "id": "6Vb4ilH-DDyS",
        "colab_type": "code",
        "outputId": "d03723b3-3101-4c3e-c402-39cee1ba5cec",
        "colab": {
          "base_uri": "https://localhost:8080/",
          "height": 425
        }
      },
      "source": [
        "plot_loss(history)\n",
        "\n",
        "scores = autoencoder.evaluate(x_test, x_test, verbose=2)\n",
        "print(\"test mse: %.5f\" % (scores))"
      ],
      "execution_count": 0,
      "outputs": [
        {
          "output_type": "stream",
          "text": [
            "313/313 - 0s - loss: 0.0049\n",
            "test mse: 0.00493\n"
          ],
          "name": "stdout"
        },
        {
          "output_type": "display_data",
          "data": {
            "text/plain": [
              "<Figure size 720x432 with 1 Axes>"
            ],
            "image/png": "[encoded data removed]"
          },
          "metadata": {
            "tags": [],
            "needs_background": "light"
          }
        }
      ]
    },
    {
      "cell_type": "code",
      "metadata": {
        "id": "XgG5Yt9ddmq-",
        "colab_type": "code",
        "outputId": "e350c3e2-90ad-4cef-d9c1-867d7d030732",
        "colab": {
          "base_uri": "https://localhost:8080/",
          "height": 248
        }
      },
      "source": [
        "encoded_imgs = encoder.predict(x_test)\n",
        "decoded_imgs = decoder.predict(encoded_imgs)\n",
        "\n",
        "plot_img(10, x_test, decoded_imgs)\n"
      ],
      "execution_count": 0,
      "outputs": [
        {
          "output_type": "display_data",
          "data": {
            "text/plain": [
              "<Figure size 1440x288 with 20 Axes>"
            ],
            "image/png": "[encoded data removed]"
          },
          "metadata": {
            "tags": [],
            "needs_background": "light"
          }
        }
      ]
    },
    {
      "cell_type": "markdown",
      "metadata": {
        "id": "vZARN8MkMveD",
        "colab_type": "text"
      },
      "source": [
        "#**Discussion**\n",
        "\n",
        "Before to start to discuss the relation between PCA and Shallow Linear Autoencoder, I reported the two different results obtained from the two methods with the same dimension, ENCODING_DIM = 120 and on the same test set.\n",
        "\n",
        "###PCA (SVD) (test mse: 0.00455)\n",
        "\n",
        "![uno](https://user-images.githubusercontent.com/53294518/83275747-e6c20a80-a1cf-11ea-925e-9c0dd322de90.png)\n",
        "\n",
        "###Shallow Linear Autoencoder (test mse: 0.00493)\n",
        "\n",
        "![due](https://user-images.githubusercontent.com/53294518/83275793-f2adcc80-a1cf-11ea-8bd8-edc622b40450.png)\n",
        "\n",
        "\n",
        "From the images obtained by the two methods we obtain that they are very similar if not equal from a visual point of view. This our supposition is confirmed by the comparison of the two methods that are approximately equal.\n",
        "\n",
        "In order to demonstrate this relationship, it is sufficient to consider a feed forward network with a single hidden layer (h) and a linear activation function.\n",
        "\n",
        "Therefore:\n",
        "1. x = input\n",
        "2. A = input weights matrix -> hidden\n",
        "3. B = hidden weights matrix -> output \n",
        "\n",
        "Since we are working in the world of autoencoders whose aim is to learn a more efficient representation of input you will have that \n",
        "$$o = A \\cdot B \\cdot x$$\n",
        "\n",
        "Since o = x, where o = rebuilt input, you will have \n",
        "$$x = A \\cdot B \\cdot x$$\n",
        "\n",
        "For this to apply, you will have $$A= B^T$$ \n",
        "\n",
        "So we can rewrite, \n",
        "$$o= A \\cdot B \\cdot x  =  A^T \\cdot A \\cdot x$$  \n",
        "\n",
        "\n",
        "As for the PCA decomposition, it compute the encoded representation of the input and the reconstruction of this input becomes \n",
        "\n",
        "$$o (= reconstructed input) = U^T \\cdot U \\cdot x.$$ \n",
        "\n",
        "\n",
        "\n",
        "\n",
        "\n",
        "Putting $$A = U$$ we will have that the methods are equivalent, giving therefore more or less the same results, as shown in the results of the mse that is approximately equal.\n"
      ]
    },
    {
      "cell_type": "markdown",
      "metadata": {
        "id": "BhhQcerS4Xm0",
        "colab_type": "text"
      },
      "source": [
        "##Exercise  5.2: Shallow non-linear autoencoders\n",
        "\n",
        "**To complete: replicate the code of exercise 5.1 but in this case, instead of using linear activation functions use non-linear ones. Choose the most appropriate non-linear function, and motivate your choice. Then discuss the results in relation to those obtained in Exercise 5.1.**\n"
      ]
    },
    {
      "cell_type": "code",
      "metadata": {
        "id": "xY7prFl5M8aY",
        "colab_type": "code",
        "colab": {}
      },
      "source": [
        "ENCODING_DIM = 120\n",
        "\n",
        "input_img = tf.keras.layers.Input(shape=(784,))\n",
        "#Define the encoder...\n",
        "encoded_1 = tf.keras.layers.Dense(ENCODING_DIM, activation='sigmoid')(input_img)\n",
        "\n",
        "#...and the decoder...\n",
        "decoded_1 = tf.keras.layers.Dense(784, activation='sigmoid')(encoded_1)\n",
        "\n",
        "#and finally the autoencoder\n",
        "autoencoder_1 = tf.keras.models.Model(input_img, decoded_1)\n",
        "\n",
        "# In order to visualize the learned encoding, define a model that computes the \n",
        "# two parts separately.\n",
        "encoder_1 = tf.keras.models.Model(input_img, encoded_1)\n",
        "encoded_input = tf.keras.layers.Input(shape=(ENCODING_DIM,))\n",
        "decoder_layer = autoencoder_1.layers[-1]\n",
        "decoder_1 = tf.keras.models.Model(encoded_input, decoder_layer(encoded_input))\n",
        "\n",
        "#Finally, let's call the compile method\n",
        "autoencoder_1.compile(optimizer=tf.keras.optimizers.Adam(learning_rate=0.01), loss='mse')"
      ],
      "execution_count": 0,
      "outputs": []
    },
    {
      "cell_type": "code",
      "metadata": {
        "id": "j4Z993iNNBsW",
        "colab_type": "code",
        "outputId": "d782d3dd-4921-46ba-f24a-fb9d6310126c",
        "colab": {
          "base_uri": "https://localhost:8080/",
          "height": 260
        }
      },
      "source": [
        "autoencoder_1.summary()"
      ],
      "execution_count": 0,
      "outputs": [
        {
          "output_type": "stream",
          "text": [
            "Model: \"model_40\"\n",
            "_________________________________________________________________\n",
            "Layer (type)                 Output Shape              Param #   \n",
            "=================================================================\n",
            "input_22 (InputLayer)        [(None, 784)]             0         \n",
            "_________________________________________________________________\n",
            "dense_21 (Dense)             (None, 120)               94200     \n",
            "_________________________________________________________________\n",
            "dense_22 (Dense)             (None, 784)               94864     \n",
            "=================================================================\n",
            "Total params: 189,064\n",
            "Trainable params: 189,064\n",
            "Non-trainable params: 0\n",
            "_________________________________________________________________\n"
          ],
          "name": "stdout"
        }
      ]
    },
    {
      "cell_type": "code",
      "metadata": {
        "id": "Gs45TbIyNBeg",
        "colab_type": "code",
        "outputId": "94b83fbf-cac6-4454-813a-e32a81024acc",
        "colab": {
          "base_uri": "https://localhost:8080/",
          "height": 590
        }
      },
      "source": [
        "print(\"\\nTrain the model\\n\")\n",
        "history_1 = autoencoder_1.fit(x_train, x_train, epochs=15, batch_size=512, shuffle=True, validation_data=(x_valid, x_valid))"
      ],
      "execution_count": 0,
      "outputs": [
        {
          "output_type": "stream",
          "text": [
            "\n",
            "Train the model\n",
            "\n",
            "Epoch 1/15\n",
            "98/98 [==============================] - 1s 5ms/step - loss: 0.0555 - val_loss: 0.0362\n",
            "Epoch 2/15\n",
            "98/98 [==============================] - 0s 5ms/step - loss: 0.0292 - val_loss: 0.0231\n",
            "Epoch 3/15\n",
            "98/98 [==============================] - 1s 6ms/step - loss: 0.0199 - val_loss: 0.0168\n",
            "Epoch 4/15\n",
            "98/98 [==============================] - 0s 5ms/step - loss: 0.0150 - val_loss: 0.0131\n",
            "Epoch 5/15\n",
            "98/98 [==============================] - 0s 5ms/step - loss: 0.0119 - val_loss: 0.0107\n",
            "Epoch 6/15\n",
            "98/98 [==============================] - 1s 6ms/step - loss: 0.0099 - val_loss: 0.0091\n",
            "Epoch 7/15\n",
            "98/98 [==============================] - 1s 6ms/step - loss: 0.0085 - val_loss: 0.0079\n",
            "Epoch 8/15\n",
            "98/98 [==============================] - 1s 6ms/step - loss: 0.0075 - val_loss: 0.0071\n",
            "Epoch 9/15\n",
            "98/98 [==============================] - 1s 5ms/step - loss: 0.0067 - val_loss: 0.0064\n",
            "Epoch 10/15\n",
            "98/98 [==============================] - 0s 4ms/step - loss: 0.0061 - val_loss: 0.0059\n",
            "Epoch 11/15\n",
            "98/98 [==============================] - 1s 6ms/step - loss: 0.0056 - val_loss: 0.0054\n",
            "Epoch 12/15\n",
            "98/98 [==============================] - 1s 5ms/step - loss: 0.0052 - val_loss: 0.0050\n",
            "Epoch 13/15\n",
            "98/98 [==============================] - 0s 5ms/step - loss: 0.0049 - val_loss: 0.0048\n",
            "Epoch 14/15\n",
            "98/98 [==============================] - 0s 5ms/step - loss: 0.0046 - val_loss: 0.0046\n",
            "Epoch 15/15\n",
            "98/98 [==============================] - 1s 5ms/step - loss: 0.0044 - val_loss: 0.0043\n"
          ],
          "name": "stdout"
        }
      ]
    },
    {
      "cell_type": "code",
      "metadata": {
        "id": "2F2DOKJNNG93",
        "colab_type": "code",
        "outputId": "152a20dd-41f6-46e2-8fbf-d81beeaa7370",
        "colab": {
          "base_uri": "https://localhost:8080/",
          "height": 425
        }
      },
      "source": [
        "plot_loss(history_1)\n",
        "\n",
        "scores_1 = autoencoder_1.evaluate(x_test, x_test, verbose=2)\n",
        "print(\"test mse: %.5f\" % (scores_1))"
      ],
      "execution_count": 0,
      "outputs": [
        {
          "output_type": "stream",
          "text": [
            "313/313 - 0s - loss: 0.0042\n",
            "test mse: 0.00424\n"
          ],
          "name": "stdout"
        },
        {
          "output_type": "display_data",
          "data": {
            "text/plain": [
              "<Figure size 720x432 with 1 Axes>"
            ],
            "image/png": "[encoded data removed]"
          },
          "metadata": {
            "tags": [],
            "needs_background": "light"
          }
        }
      ]
    },
    {
      "cell_type": "code",
      "metadata": {
        "id": "v8sJDQOTNUmA",
        "colab_type": "code",
        "outputId": "977ff4a4-8289-4926-ca38-e0d8b6a796f3",
        "colab": {
          "base_uri": "https://localhost:8080/",
          "height": 248
        }
      },
      "source": [
        "encoded_imgs = encoder_1.predict(x_test)\n",
        "decoded_imgs = decoder_1.predict(encoded_imgs)\n",
        "\n",
        "plot_img(10, x_test, decoded_imgs)"
      ],
      "execution_count": 0,
      "outputs": [
        {
          "output_type": "display_data",
          "data": {
            "text/plain": [
              "<Figure size 1440x288 with 20 Axes>"
            ],
            "image/png": "[encoded data removed]"
          },
          "metadata": {
            "tags": [],
            "needs_background": "light"
          }
        }
      ]
    },
    {
      "cell_type": "markdown",
      "metadata": {
        "id": "pjX_xJ7VNYPe",
        "colab_type": "text"
      },
      "source": [
        "#**Discussion**\n",
        "\n",
        "Here below I reported the two results about Shallow linear autoencoders and Shallow non-linear autoencoders.\n",
        "\n",
        "###Shallow Linear Autoencoder (test mse: 0.00493)\n",
        "\n",
        "![due](https://user-images.githubusercontent.com/53294518/83275793-f2adcc80-a1cf-11ea-8bd8-edc622b40450.png)\n",
        "\n",
        "\n",
        "###Shallow Non-Linear Autoencoder (test mse: 0.00424)\n",
        "\n",
        "![aaaqa](https://user-images.githubusercontent.com/53294518/83352061-2fe99a00-a349-11ea-8c69-c4173c989151.png)\n",
        "\n",
        "\n",
        "\n",
        "Even if the mean squared error is similar you can see that having the same type of ENCODING_DIM = 120 the result for non-linear shallow autoencoders gives a better representation, less blurred. This is dictated by the fact that with a non-linear activation function you can model a more complex space.\n",
        "\n",
        "I also tested several activation functions: tahn, ReLu, RMSprop, sigmoid. At the end I choose sigmoid because from the results I got a lower loss as well as a lower mse.\n"
      ]
    },
    {
      "cell_type": "markdown",
      "metadata": {
        "id": "UjzlA8YV4ux5",
        "colab_type": "text"
      },
      "source": [
        "## Exercise 5.3: Deep Autoencoder\n",
        "**To_complete: Define a deep version of the Autoeancoder defined above. The autoencoder has to use at least 5 layers. The model will use $n$ layers for encoding, and n-1 for decoding. The layers sizes of the encoding part decrease at each layer (e.g., 748->128->64, where 64 is the encoding dim). The decoding part layers dimensions progression turns out to be mirrored (i.e, 128->748, the resulting structure recall an hourglass).\n",
        "Similarly than what did above, print the model summary, the loss curve during the training, the achieved loss on the test set, and some input image with the correspondent decoding.**\n"
      ]
    },
    {
      "cell_type": "code",
      "metadata": {
        "id": "S6O7Bq8C4udX",
        "colab_type": "code",
        "outputId": "0c7011ad-348e-4e7d-d831-654eb3238790",
        "colab": {
          "base_uri": "https://localhost:8080/",
          "height": 312
        }
      },
      "source": [
        "######hyperparameters#####################################\n",
        "epoch_deep_autoencoder=150\n",
        "layer_encoded = 4\n",
        "layer_decoded = (layer_encoded -2)\n",
        "activation_function=\"relu\"\n",
        "loss_fn = keras.losses.SparseCategoricalCrossentropy()\n",
        "loss_function=[\"mse\",\"binary_crossentropy\"]\n",
        "opt = tf.keras.optimizers.Adam(learning_rate=0.001)\n",
        "##########################################################\n",
        "\n",
        "\n",
        "input_img = tf.keras.layers.Input(shape=(784,))\n",
        "layer_start_encoded = input_img\n",
        "encoded=[]\n",
        "i = 1\n",
        "h= 512\n",
        "print(\"\\n\\nEncoding\\n\\n\")\n",
        "while i <= layer_encoded:\n",
        "  print(f\"Layer n°{i} Encoding with activation function: {activation_function} and number of units: {str(h)}\")\n",
        "  encoded.append(tf.keras.layers.Dense(int(h), activation=activation_function)(layer_start_encoded))\n",
        "  layer_start_encoded = encoded[-1]\n",
        "  i = i + 1\n",
        "  h = h /2\n",
        "\n",
        "\n",
        "layer_start_decoded =encoded[-1]\n",
        "decoded=[]\n",
        "j = 1\n",
        "h = h * 4\n",
        "print(\"\\n\\nDecoding\\n\\n\")\n",
        "while j <= (layer_decoded):\n",
        "  print(f\"Layer n°{j} Decoding with activation function: {activation_function} and number of units: {str(h)}\")\n",
        "  decoded.append(tf.keras.layers.Dense(int(h), activation=activation_function)(layer_start_decoded))\n",
        "  layer_start_decoded = decoded[-1]\n",
        "  j = j + 1\n",
        "  h = h * 2\n",
        "\n",
        "decoded_finale= tf.keras.layers.Dense(784, activation='sigmoid')(decoded[-1])\n",
        "print(f\"Layer n°{j} Decoding with activation function: sigmoid and number of units: 784\")\n",
        "autoencoder = tf.keras.models.Model(input_img, decoded_finale)\n",
        "autoencoder.compile(optimizer=opt, loss=loss_function[0])\n"
      ],
      "execution_count": 0,
      "outputs": [
        {
          "output_type": "stream",
          "text": [
            "\n",
            "\n",
            "Encoding\n",
            "\n",
            "\n",
            "Layer n°1 Encoding with activation function: relu and number of units: 512\n",
            "Layer n°2 Encoding with activation function: relu and number of units: 256.0\n",
            "Layer n°3 Encoding with activation function: relu and number of units: 128.0\n",
            "Layer n°4 Encoding with activation function: relu and number of units: 64.0\n",
            "\n",
            "\n",
            "Decoding\n",
            "\n",
            "\n",
            "Layer n°1 Decoding with activation function: relu and number of units: 128.0\n",
            "Layer n°2 Decoding with activation function: relu and number of units: 256.0\n",
            "Layer n°3 Decoding with activation function: sigmoid and number of units: 784\n"
          ],
          "name": "stdout"
        }
      ]
    },
    {
      "cell_type": "code",
      "metadata": {
        "id": "4XL8uh9MFV03",
        "colab_type": "code",
        "outputId": "5791f6d3-ba9e-463d-f16c-48c6cd8a3a8f",
        "colab": {
          "base_uri": "https://localhost:8080/",
          "height": 434
        }
      },
      "source": [
        "autoencoder.summary()"
      ],
      "execution_count": 0,
      "outputs": [
        {
          "output_type": "stream",
          "text": [
            "Model: \"model_43\"\n",
            "_________________________________________________________________\n",
            "Layer (type)                 Output Shape              Param #   \n",
            "=================================================================\n",
            "input_24 (InputLayer)        [(None, 784)]             0         \n",
            "_________________________________________________________________\n",
            "dense_23 (Dense)             (None, 512)               401920    \n",
            "_________________________________________________________________\n",
            "dense_24 (Dense)             (None, 256)               131328    \n",
            "_________________________________________________________________\n",
            "dense_25 (Dense)             (None, 128)               32896     \n",
            "_________________________________________________________________\n",
            "dense_26 (Dense)             (None, 64)                8256      \n",
            "_________________________________________________________________\n",
            "dense_27 (Dense)             (None, 128)               8320      \n",
            "_________________________________________________________________\n",
            "dense_28 (Dense)             (None, 256)               33024     \n",
            "_________________________________________________________________\n",
            "dense_29 (Dense)             (None, 784)               201488    \n",
            "=================================================================\n",
            "Total params: 817,232\n",
            "Trainable params: 817,232\n",
            "Non-trainable params: 0\n",
            "_________________________________________________________________\n"
          ],
          "name": "stdout"
        }
      ]
    },
    {
      "cell_type": "code",
      "metadata": {
        "id": "ITsWoDrJ4uZy",
        "colab_type": "code",
        "outputId": "75140219-e21a-42f0-9173-bf48fa2d85e1",
        "colab": {
          "base_uri": "https://localhost:8080/",
          "height": 1000
        }
      },
      "source": [
        "callbacks_list = [keras.callbacks.EarlyStopping(monitor='loss',patience=10,),\n",
        "                 keras.callbacks.ModelCheckpoint(filepath='my_model.h5',monitor='val_loss',save_best_only=True)\n",
        "                 ]\n",
        "history = autoencoder.fit(x_train, x_train,\n",
        "                epochs=epoch_deep_autoencoder,\n",
        "                batch_size=256,\n",
        "                shuffle=True,\n",
        "                callbacks=callbacks_list,\n",
        "                validation_data=(x_test, x_test))"
      ],
      "execution_count": 0,
      "outputs": [
        {
          "output_type": "stream",
          "text": [
            "Epoch 1/150\n",
            "196/196 [==============================] - 2s 8ms/step - loss: 0.0579 - val_loss: 0.0305\n",
            "Epoch 2/150\n",
            "196/196 [==============================] - 1s 7ms/step - loss: 0.0248 - val_loss: 0.0200\n",
            "Epoch 3/150\n",
            "196/196 [==============================] - 1s 7ms/step - loss: 0.0183 - val_loss: 0.0162\n",
            "Epoch 4/150\n",
            "196/196 [==============================] - 2s 8ms/step - loss: 0.0153 - val_loss: 0.0140\n",
            "Epoch 5/150\n",
            "196/196 [==============================] - 1s 7ms/step - loss: 0.0135 - val_loss: 0.0124\n",
            "Epoch 6/150\n",
            "196/196 [==============================] - 1s 7ms/step - loss: 0.0123 - val_loss: 0.0121\n",
            "Epoch 7/150\n",
            "196/196 [==============================] - 1s 7ms/step - loss: 0.0114 - val_loss: 0.0108\n",
            "Epoch 8/150\n",
            "196/196 [==============================] - 2s 8ms/step - loss: 0.0106 - val_loss: 0.0101\n",
            "Epoch 9/150\n",
            "196/196 [==============================] - 2s 8ms/step - loss: 0.0100 - val_loss: 0.0096\n",
            "Epoch 10/150\n",
            "196/196 [==============================] - 2s 8ms/step - loss: 0.0095 - val_loss: 0.0091\n",
            "Epoch 11/150\n",
            "196/196 [==============================] - 1s 8ms/step - loss: 0.0091 - val_loss: 0.0091\n",
            "Epoch 12/150\n",
            "196/196 [==============================] - 1s 7ms/step - loss: 0.0087 - val_loss: 0.0083\n",
            "Epoch 13/150\n",
            "196/196 [==============================] - 2s 8ms/step - loss: 0.0084 - val_loss: 0.0081\n",
            "Epoch 14/150\n",
            "196/196 [==============================] - 2s 9ms/step - loss: 0.0081 - val_loss: 0.0080\n",
            "Epoch 15/150\n",
            "196/196 [==============================] - 2s 9ms/step - loss: 0.0079 - val_loss: 0.0077\n",
            "Epoch 16/150\n",
            "196/196 [==============================] - 1s 7ms/step - loss: 0.0076 - val_loss: 0.0075\n",
            "Epoch 17/150\n",
            "196/196 [==============================] - 1s 7ms/step - loss: 0.0074 - val_loss: 0.0075\n",
            "Epoch 18/150\n",
            "196/196 [==============================] - 1s 8ms/step - loss: 0.0072 - val_loss: 0.0071\n",
            "Epoch 19/150\n",
            "196/196 [==============================] - 1s 7ms/step - loss: 0.0071 - val_loss: 0.0071\n",
            "Epoch 20/150\n",
            "196/196 [==============================] - 1s 7ms/step - loss: 0.0070 - val_loss: 0.0069\n",
            "Epoch 21/150\n",
            "196/196 [==============================] - 2s 8ms/step - loss: 0.0068 - val_loss: 0.0069\n",
            "Epoch 22/150\n",
            "196/196 [==============================] - 1s 7ms/step - loss: 0.0067 - val_loss: 0.0067\n",
            "Epoch 23/150\n",
            "196/196 [==============================] - 1s 7ms/step - loss: 0.0066 - val_loss: 0.0065\n",
            "Epoch 24/150\n",
            "196/196 [==============================] - 1s 7ms/step - loss: 0.0064 - val_loss: 0.0066\n",
            "Epoch 25/150\n",
            "196/196 [==============================] - 1s 7ms/step - loss: 0.0064 - val_loss: 0.0065\n",
            "Epoch 26/150\n",
            "196/196 [==============================] - 1s 8ms/step - loss: 0.0062 - val_loss: 0.0063\n",
            "Epoch 27/150\n",
            "196/196 [==============================] - 1s 7ms/step - loss: 0.0062 - val_loss: 0.0064\n",
            "Epoch 28/150\n",
            "196/196 [==============================] - 1s 7ms/step - loss: 0.0061 - val_loss: 0.0061\n",
            "Epoch 29/150\n",
            "196/196 [==============================] - 1s 7ms/step - loss: 0.0060 - val_loss: 0.0061\n",
            "Epoch 30/150\n",
            "196/196 [==============================] - 1s 7ms/step - loss: 0.0059 - val_loss: 0.0062\n",
            "Epoch 31/150\n",
            "196/196 [==============================] - 1s 7ms/step - loss: 0.0058 - val_loss: 0.0059\n",
            "Epoch 32/150\n",
            "196/196 [==============================] - 2s 10ms/step - loss: 0.0058 - val_loss: 0.0058\n",
            "Epoch 33/150\n",
            "196/196 [==============================] - 2s 8ms/step - loss: 0.0058 - val_loss: 0.0058\n",
            "Epoch 34/150\n",
            "196/196 [==============================] - 2s 8ms/step - loss: 0.0057 - val_loss: 0.0059\n",
            "Epoch 35/150\n",
            "196/196 [==============================] - 1s 7ms/step - loss: 0.0056 - val_loss: 0.0058\n",
            "Epoch 36/150\n",
            "196/196 [==============================] - 1s 7ms/step - loss: 0.0056 - val_loss: 0.0058\n",
            "Epoch 37/150\n",
            "196/196 [==============================] - 1s 7ms/step - loss: 0.0055 - val_loss: 0.0056\n",
            "Epoch 38/150\n",
            "196/196 [==============================] - 1s 7ms/step - loss: 0.0054 - val_loss: 0.0057\n",
            "Epoch 39/150\n",
            "196/196 [==============================] - 1s 7ms/step - loss: 0.0054 - val_loss: 0.0055\n",
            "Epoch 40/150\n",
            "196/196 [==============================] - 1s 7ms/step - loss: 0.0053 - val_loss: 0.0057\n",
            "Epoch 41/150\n",
            "196/196 [==============================] - 2s 8ms/step - loss: 0.0053 - val_loss: 0.0054\n",
            "Epoch 42/150\n",
            "196/196 [==============================] - 2s 8ms/step - loss: 0.0053 - val_loss: 0.0054\n",
            "Epoch 43/150\n",
            "196/196 [==============================] - 2s 8ms/step - loss: 0.0052 - val_loss: 0.0053\n",
            "Epoch 44/150\n",
            "196/196 [==============================] - 2s 8ms/step - loss: 0.0051 - val_loss: 0.0051\n",
            "Epoch 45/150\n",
            "196/196 [==============================] - 2s 8ms/step - loss: 0.0051 - val_loss: 0.0052\n",
            "Epoch 46/150\n",
            "196/196 [==============================] - 2s 8ms/step - loss: 0.0051 - val_loss: 0.0054\n",
            "Epoch 47/150\n",
            "196/196 [==============================] - 2s 8ms/step - loss: 0.0050 - val_loss: 0.0053\n",
            "Epoch 48/150\n",
            "196/196 [==============================] - 2s 8ms/step - loss: 0.0050 - val_loss: 0.0052\n",
            "Epoch 49/150\n",
            "196/196 [==============================] - 2s 8ms/step - loss: 0.0049 - val_loss: 0.0051\n",
            "Epoch 50/150\n",
            "196/196 [==============================] - 2s 8ms/step - loss: 0.0049 - val_loss: 0.0052\n",
            "Epoch 51/150\n",
            "196/196 [==============================] - 2s 9ms/step - loss: 0.0048 - val_loss: 0.0051\n",
            "Epoch 52/150\n",
            "196/196 [==============================] - 2s 9ms/step - loss: 0.0048 - val_loss: 0.0051\n",
            "Epoch 53/150\n",
            "196/196 [==============================] - 2s 9ms/step - loss: 0.0048 - val_loss: 0.0050\n",
            "Epoch 54/150\n",
            "196/196 [==============================] - 2s 9ms/step - loss: 0.0047 - val_loss: 0.0049\n",
            "Epoch 55/150\n",
            "196/196 [==============================] - 2s 8ms/step - loss: 0.0047 - val_loss: 0.0049\n",
            "Epoch 56/150\n",
            "196/196 [==============================] - 2s 8ms/step - loss: 0.0047 - val_loss: 0.0049\n",
            "Epoch 57/150\n",
            "196/196 [==============================] - 2s 9ms/step - loss: 0.0046 - val_loss: 0.0048\n",
            "Epoch 58/150\n",
            "196/196 [==============================] - 2s 9ms/step - loss: 0.0046 - val_loss: 0.0047\n",
            "Epoch 59/150\n",
            "196/196 [==============================] - 2s 8ms/step - loss: 0.0046 - val_loss: 0.0048\n",
            "Epoch 60/150\n",
            "196/196 [==============================] - 2s 8ms/step - loss: 0.0046 - val_loss: 0.0048\n",
            "Epoch 61/150\n",
            "196/196 [==============================] - 2s 8ms/step - loss: 0.0046 - val_loss: 0.0049\n",
            "Epoch 62/150\n",
            "196/196 [==============================] - 2s 8ms/step - loss: 0.0045 - val_loss: 0.0047\n",
            "Epoch 63/150\n",
            "196/196 [==============================] - 2s 8ms/step - loss: 0.0045 - val_loss: 0.0048\n",
            "Epoch 64/150\n",
            "196/196 [==============================] - 2s 8ms/step - loss: 0.0045 - val_loss: 0.0049\n",
            "Epoch 65/150\n",
            "196/196 [==============================] - 2s 8ms/step - loss: 0.0045 - val_loss: 0.0048\n",
            "Epoch 66/150\n",
            "196/196 [==============================] - 2s 8ms/step - loss: 0.0045 - val_loss: 0.0047\n",
            "Epoch 67/150\n",
            "196/196 [==============================] - 2s 8ms/step - loss: 0.0044 - val_loss: 0.0047\n",
            "Epoch 68/150\n",
            "196/196 [==============================] - 2s 9ms/step - loss: 0.0044 - val_loss: 0.0048\n",
            "Epoch 69/150\n",
            "196/196 [==============================] - 2s 8ms/step - loss: 0.0044 - val_loss: 0.0048\n",
            "Epoch 70/150\n",
            "196/196 [==============================] - 2s 8ms/step - loss: 0.0044 - val_loss: 0.0046\n",
            "Epoch 71/150\n",
            "196/196 [==============================] - 2s 9ms/step - loss: 0.0044 - val_loss: 0.0047\n",
            "Epoch 72/150\n",
            "196/196 [==============================] - 2s 8ms/step - loss: 0.0043 - val_loss: 0.0046\n",
            "Epoch 73/150\n",
            "196/196 [==============================] - 2s 8ms/step - loss: 0.0043 - val_loss: 0.0045\n",
            "Epoch 74/150\n",
            "196/196 [==============================] - 1s 7ms/step - loss: 0.0043 - val_loss: 0.0047\n",
            "Epoch 75/150\n",
            "196/196 [==============================] - 1s 7ms/step - loss: 0.0043 - val_loss: 0.0046\n",
            "Epoch 76/150\n",
            "196/196 [==============================] - 1s 7ms/step - loss: 0.0043 - val_loss: 0.0047\n",
            "Epoch 77/150\n",
            "196/196 [==============================] - 1s 7ms/step - loss: 0.0042 - val_loss: 0.0045\n",
            "Epoch 78/150\n",
            "196/196 [==============================] - 1s 7ms/step - loss: 0.0042 - val_loss: 0.0047\n",
            "Epoch 79/150\n",
            "196/196 [==============================] - 1s 7ms/step - loss: 0.0042 - val_loss: 0.0045\n",
            "Epoch 80/150\n",
            "196/196 [==============================] - 1s 7ms/step - loss: 0.0042 - val_loss: 0.0047\n",
            "Epoch 81/150\n",
            "196/196 [==============================] - 1s 7ms/step - loss: 0.0042 - val_loss: 0.0044\n",
            "Epoch 82/150\n",
            "196/196 [==============================] - 1s 7ms/step - loss: 0.0042 - val_loss: 0.0044\n",
            "Epoch 83/150\n",
            "196/196 [==============================] - 1s 7ms/step - loss: 0.0042 - val_loss: 0.0045\n",
            "Epoch 84/150\n",
            "196/196 [==============================] - 2s 8ms/step - loss: 0.0041 - val_loss: 0.0044\n",
            "Epoch 85/150\n",
            "196/196 [==============================] - 2s 8ms/step - loss: 0.0041 - val_loss: 0.0044\n",
            "Epoch 86/150\n",
            "196/196 [==============================] - 2s 8ms/step - loss: 0.0041 - val_loss: 0.0043\n",
            "Epoch 87/150\n",
            "196/196 [==============================] - 2s 9ms/step - loss: 0.0040 - val_loss: 0.0042\n",
            "Epoch 88/150\n",
            "196/196 [==============================] - 2s 8ms/step - loss: 0.0040 - val_loss: 0.0043\n",
            "Epoch 89/150\n",
            "196/196 [==============================] - 2s 8ms/step - loss: 0.0040 - val_loss: 0.0043\n",
            "Epoch 90/150\n",
            "196/196 [==============================] - 2s 8ms/step - loss: 0.0040 - val_loss: 0.0043\n",
            "Epoch 91/150\n",
            "196/196 [==============================] - 2s 8ms/step - loss: 0.0040 - val_loss: 0.0045\n",
            "Epoch 92/150\n",
            "196/196 [==============================] - 2s 8ms/step - loss: 0.0040 - val_loss: 0.0043\n",
            "Epoch 93/150\n",
            "196/196 [==============================] - 2s 8ms/step - loss: 0.0040 - val_loss: 0.0043\n",
            "Epoch 94/150\n",
            "196/196 [==============================] - 2s 8ms/step - loss: 0.0039 - val_loss: 0.0043\n",
            "Epoch 95/150\n",
            "196/196 [==============================] - 2s 8ms/step - loss: 0.0040 - val_loss: 0.0044\n",
            "Epoch 96/150\n",
            "196/196 [==============================] - 2s 8ms/step - loss: 0.0039 - val_loss: 0.0043\n",
            "Epoch 97/150\n",
            "196/196 [==============================] - 2s 8ms/step - loss: 0.0039 - val_loss: 0.0043\n",
            "Epoch 98/150\n",
            "196/196 [==============================] - 2s 8ms/step - loss: 0.0039 - val_loss: 0.0043\n",
            "Epoch 99/150\n",
            "196/196 [==============================] - 2s 8ms/step - loss: 0.0039 - val_loss: 0.0042\n",
            "Epoch 100/150\n",
            "196/196 [==============================] - 2s 9ms/step - loss: 0.0039 - val_loss: 0.0042\n",
            "Epoch 101/150\n",
            "196/196 [==============================] - 2s 9ms/step - loss: 0.0038 - val_loss: 0.0041\n",
            "Epoch 102/150\n",
            "196/196 [==============================] - 2s 8ms/step - loss: 0.0038 - val_loss: 0.0043\n",
            "Epoch 103/150\n",
            "196/196 [==============================] - 2s 8ms/step - loss: 0.0039 - val_loss: 0.0042\n",
            "Epoch 104/150\n",
            "196/196 [==============================] - 1s 8ms/step - loss: 0.0038 - val_loss: 0.0042\n",
            "Epoch 105/150\n",
            "196/196 [==============================] - 2s 8ms/step - loss: 0.0038 - val_loss: 0.0041\n",
            "Epoch 106/150\n",
            "196/196 [==============================] - 2s 8ms/step - loss: 0.0038 - val_loss: 0.0042\n",
            "Epoch 107/150\n",
            "196/196 [==============================] - 2s 8ms/step - loss: 0.0038 - val_loss: 0.0041\n",
            "Epoch 108/150\n",
            "196/196 [==============================] - 2s 10ms/step - loss: 0.0038 - val_loss: 0.0042\n",
            "Epoch 109/150\n",
            "196/196 [==============================] - 2s 8ms/step - loss: 0.0038 - val_loss: 0.0042\n",
            "Epoch 110/150\n",
            "196/196 [==============================] - 1s 8ms/step - loss: 0.0038 - val_loss: 0.0041\n",
            "Epoch 111/150\n",
            "196/196 [==============================] - 1s 7ms/step - loss: 0.0038 - val_loss: 0.0043\n",
            "Epoch 112/150\n",
            "196/196 [==============================] - 1s 7ms/step - loss: 0.0038 - val_loss: 0.0041\n",
            "Epoch 113/150\n",
            "196/196 [==============================] - 2s 8ms/step - loss: 0.0038 - val_loss: 0.0042\n",
            "Epoch 114/150\n",
            "196/196 [==============================] - 2s 9ms/step - loss: 0.0037 - val_loss: 0.0040\n",
            "Epoch 115/150\n",
            "196/196 [==============================] - 2s 8ms/step - loss: 0.0037 - val_loss: 0.0040\n",
            "Epoch 116/150\n",
            "196/196 [==============================] - 1s 8ms/step - loss: 0.0037 - val_loss: 0.0041\n",
            "Epoch 117/150\n",
            "196/196 [==============================] - 1s 8ms/step - loss: 0.0037 - val_loss: 0.0044\n",
            "Epoch 118/150\n",
            "196/196 [==============================] - 2s 8ms/step - loss: 0.0037 - val_loss: 0.0040\n",
            "Epoch 119/150\n",
            "196/196 [==============================] - 2s 8ms/step - loss: 0.0037 - val_loss: 0.0040\n",
            "Epoch 120/150\n",
            "196/196 [==============================] - 2s 9ms/step - loss: 0.0037 - val_loss: 0.0041\n",
            "Epoch 121/150\n",
            "196/196 [==============================] - 2s 9ms/step - loss: 0.0037 - val_loss: 0.0041\n",
            "Epoch 122/150\n",
            "196/196 [==============================] - 2s 8ms/step - loss: 0.0037 - val_loss: 0.0040\n",
            "Epoch 123/150\n",
            "196/196 [==============================] - 1s 7ms/step - loss: 0.0036 - val_loss: 0.0040\n",
            "Epoch 124/150\n",
            "196/196 [==============================] - 2s 8ms/step - loss: 0.0036 - val_loss: 0.0040\n",
            "Epoch 125/150\n",
            "196/196 [==============================] - 2s 8ms/step - loss: 0.0036 - val_loss: 0.0040\n",
            "Epoch 126/150\n",
            "196/196 [==============================] - 1s 7ms/step - loss: 0.0036 - val_loss: 0.0039\n",
            "Epoch 127/150\n",
            "196/196 [==============================] - 1s 7ms/step - loss: 0.0036 - val_loss: 0.0039\n",
            "Epoch 128/150\n",
            "196/196 [==============================] - 1s 7ms/step - loss: 0.0036 - val_loss: 0.0040\n",
            "Epoch 129/150\n",
            "196/196 [==============================] - 1s 7ms/step - loss: 0.0036 - val_loss: 0.0040\n",
            "Epoch 130/150\n",
            "196/196 [==============================] - 2s 8ms/step - loss: 0.0036 - val_loss: 0.0039\n",
            "Epoch 131/150\n",
            "196/196 [==============================] - 1s 7ms/step - loss: 0.0035 - val_loss: 0.0039\n",
            "Epoch 132/150\n",
            "196/196 [==============================] - 1s 8ms/step - loss: 0.0035 - val_loss: 0.0040\n",
            "Epoch 133/150\n",
            "196/196 [==============================] - 2s 8ms/step - loss: 0.0035 - val_loss: 0.0039\n",
            "Epoch 134/150\n",
            "196/196 [==============================] - 2s 8ms/step - loss: 0.0035 - val_loss: 0.0039\n",
            "Epoch 135/150\n",
            "196/196 [==============================] - 2s 9ms/step - loss: 0.0035 - val_loss: 0.0038\n",
            "Epoch 136/150\n",
            "196/196 [==============================] - 2s 9ms/step - loss: 0.0035 - val_loss: 0.0039\n",
            "Epoch 137/150\n",
            "196/196 [==============================] - 2s 8ms/step - loss: 0.0035 - val_loss: 0.0039\n",
            "Epoch 138/150\n",
            "196/196 [==============================] - 2s 8ms/step - loss: 0.0035 - val_loss: 0.0039\n",
            "Epoch 139/150\n",
            "196/196 [==============================] - 1s 7ms/step - loss: 0.0035 - val_loss: 0.0040\n",
            "Epoch 140/150\n",
            "196/196 [==============================] - 1s 8ms/step - loss: 0.0035 - val_loss: 0.0039\n",
            "Epoch 141/150\n",
            "196/196 [==============================] - 2s 8ms/step - loss: 0.0035 - val_loss: 0.0040\n",
            "Epoch 142/150\n",
            "196/196 [==============================] - 1s 8ms/step - loss: 0.0035 - val_loss: 0.0040\n",
            "Epoch 143/150\n",
            "196/196 [==============================] - 1s 7ms/step - loss: 0.0035 - val_loss: 0.0039\n",
            "Epoch 144/150\n",
            "196/196 [==============================] - 1s 8ms/step - loss: 0.0035 - val_loss: 0.0039\n",
            "Epoch 145/150\n",
            "196/196 [==============================] - 1s 7ms/step - loss: 0.0035 - val_loss: 0.0039\n",
            "Epoch 146/150\n",
            "196/196 [==============================] - 2s 8ms/step - loss: 0.0035 - val_loss: 0.0040\n",
            "Epoch 147/150\n",
            "196/196 [==============================] - 2s 8ms/step - loss: 0.0034 - val_loss: 0.0041\n",
            "Epoch 148/150\n",
            "196/196 [==============================] - 1s 7ms/step - loss: 0.0035 - val_loss: 0.0039\n",
            "Epoch 149/150\n",
            "196/196 [==============================] - 1s 7ms/step - loss: 0.0035 - val_loss: 0.0039\n",
            "Epoch 150/150\n",
            "196/196 [==============================] - 2s 8ms/step - loss: 0.0035 - val_loss: 0.0038\n"
          ],
          "name": "stdout"
        }
      ]
    },
    {
      "cell_type": "code",
      "metadata": {
        "id": "3o00moO45Y8F",
        "colab_type": "code",
        "outputId": "a56ada23-e341-4ad6-a0c3-8248c235e911",
        "colab": {
          "base_uri": "https://localhost:8080/",
          "height": 425
        }
      },
      "source": [
        "plot_loss(history)\n",
        "\n",
        "scores = autoencoder.evaluate(x_test, x_test, verbose=2)\n",
        "print(\"test mse: %.5f\" % (scores))"
      ],
      "execution_count": 0,
      "outputs": [
        {
          "output_type": "stream",
          "text": [
            "313/313 - 0s - loss: 0.0038\n",
            "test mse: 0.00383\n"
          ],
          "name": "stdout"
        },
        {
          "output_type": "display_data",
          "data": {
            "text/plain": [
              "<Figure size 720x432 with 1 Axes>"
            ],
            "image/png": "[encoded data removed]"
          },
          "metadata": {
            "tags": [],
            "needs_background": "light"
          }
        }
      ]
    },
    {
      "cell_type": "code",
      "metadata": {
        "id": "wEmJTRwdFsle",
        "colab_type": "code",
        "outputId": "d97755b4-ad68-4f13-f4e9-0e2b68d40b9e",
        "colab": {
          "base_uri": "https://localhost:8080/",
          "height": 248
        }
      },
      "source": [
        "decoded_imgs = autoencoder.predict(x_test)\n",
        "\n",
        "plot_img(10, x_test, decoded_imgs)\n"
      ],
      "execution_count": 0,
      "outputs": [
        {
          "output_type": "display_data",
          "data": {
            "text/plain": [
              "<Figure size 1440x288 with 20 Axes>"
            ],
            "image/png": "[encoded data removed]"
          },
          "metadata": {
            "tags": [],
            "needs_background": "light"
          }
        }
      ]
    },
    {
      "cell_type": "markdown",
      "metadata": {
        "id": "p55h0PXw5oI4",
        "colab_type": "text"
      },
      "source": [
        "## Exercise 5.4: Denoising Autoencoder\n",
        "\n",
        "Let's now use a shallow autoencoder to denoise the input data.\n",
        "Firstly, define a noisy input by adding some noise to our input data. We define a noise factor that can be used to modify the amount of noise to add to the input data, and to check how much it influences the denoising capability of the autoencoder."
      ]
    },
    {
      "cell_type": "code",
      "metadata": {
        "id": "UEgtUSt1531f",
        "colab_type": "code",
        "colab": {}
      },
      "source": [
        "(x_train, y_train), (x_test, y_test) = tf.keras.datasets.mnist.load_data()\n",
        "x_train = x_train.astype('float32') / 255\n",
        "x_test = x_test.astype('float32') / 255\n",
        "\n",
        "x_train = x_train.reshape((len(x_train), np.prod(x_train.shape[1:])))\n",
        "x_test = x_test.reshape((len(x_test), np.prod(x_test.shape[1:])))\n",
        "\n",
        "x_valid, y_valid = x_train[:10000],y_train[:10000]\n",
        "x_train, y_train = x_train[10000:],y_train[10000:]\n",
        "\n",
        "noise_factor = 0.3\n",
        "\n",
        "x_train_noisy = x_train + noise_factor + np.random.normal(loc=0.0, scale=1.0, size=x_train.shape)\n",
        "x_test_noisy = x_test + noise_factor + np.random.normal(loc=0.0, scale=1.0, size=x_test.shape)\n",
        "x_valid_noisy = x_valid + noise_factor + np.random.normal(loc=0.0, scale=1.0, size=x_valid.shape)\n",
        "\n",
        "\n",
        "x_train_noisy = np.clip(x_train_noisy, 0., 1.)\n",
        "x_test_noisy = np.clip(x_test_noisy, 0., 1.)\n",
        "x_valid_noisy = np.clip(x_valid_noisy, 0., 1.)"
      ],
      "execution_count": 0,
      "outputs": []
    },
    {
      "cell_type": "markdown",
      "metadata": {
        "id": "sjpSfN_ZQJge",
        "colab_type": "text"
      },
      "source": [
        "Plot some noisy inputs."
      ]
    },
    {
      "cell_type": "code",
      "metadata": {
        "id": "Yk_jtv-B6UrS",
        "colab_type": "code",
        "outputId": "0f1476a5-e7d7-4ea3-b088-65c31b65ae8b",
        "colab": {
          "base_uri": "https://localhost:8080/",
          "height": 129
        }
      },
      "source": [
        "# here's what the noisy digits look like\n",
        "n = 10\n",
        "plt.figure(figsize=(20, 2))\n",
        "for i in range(n):\n",
        "    ax = plt.subplot(1, n, i + 1)\n",
        "    plt.imshow(x_test_noisy[i].reshape(28, 28))\n",
        "    plt.gray()\n",
        "    ax.get_xaxis().set_visible(False)\n",
        "    ax.get_yaxis().set_visible(False)\n",
        "plt.show()"
      ],
      "execution_count": 0,
      "outputs": [
        {
          "output_type": "display_data",
          "data": {
            "text/plain": [
              "<Figure size 1440x144 with 10 Axes>"
            ],
            "image/png": "[encoded data removed]"
          },
          "metadata": {
            "tags": [],
            "needs_background": "light"
          }
        }
      ]
    },
    {
      "cell_type": "markdown",
      "metadata": {
        "id": "l_i6Z8XfQ5iq",
        "colab_type": "text"
      },
      "source": [
        "**To_complete: use the same model defined in the exercise 5.3.**"
      ]
    },
    {
      "cell_type": "code",
      "metadata": {
        "id": "omRH5b-M6YA_",
        "colab_type": "code",
        "outputId": "df2ae327-965e-4576-a705-13be1f3aef2f",
        "colab": {
          "base_uri": "https://localhost:8080/",
          "height": 312
        }
      },
      "source": [
        "######hyperparameters#####################################\n",
        "epoch_deep_autoencoder=50\n",
        "layer_encoded = 4\n",
        "layer_decoded = (layer_encoded -2)\n",
        "activation_function=\"relu\"\n",
        "loss_fn = keras.losses.SparseCategoricalCrossentropy()\n",
        "loss_function=[\"mse\",\"binary_crossentropy\"]\n",
        "opt = tf.keras.optimizers.Adam(learning_rate=0.001)\n",
        "##########################################################\n",
        "\n",
        "\n",
        "input_img = tf.keras.layers.Input(shape=(784,))\n",
        "layer_start_encoded = input_img\n",
        "encoded=[]\n",
        "i = 1\n",
        "h= 512\n",
        "print(\"\\n\\nEncoding\\n\\n\")\n",
        "while i <= layer_encoded:\n",
        "  print(f\"Layer n°{i} Encoding with activation function: {activation_function} and number of units: {str(h)}\")\n",
        "  encoded.append(tf.keras.layers.Dense(int(h), activation=activation_function)(layer_start_encoded))\n",
        "  layer_start_encoded = encoded[-1]\n",
        "  i = i + 1\n",
        "  h = h /2\n",
        "\n",
        "\n",
        "layer_start_decoded =encoded[-1]\n",
        "decoded=[]\n",
        "j = 1\n",
        "h = h * 4\n",
        "print(\"\\n\\nDecoding\\n\\n\")\n",
        "while j <= (layer_decoded):\n",
        "  print(f\"Layer n°{j} Decoding with activation function: {activation_function} and number of units: {str(h)}\")\n",
        "  decoded.append(tf.keras.layers.Dense(int(h), activation=activation_function)(layer_start_decoded))\n",
        "  layer_start_decoded = decoded[-1]\n",
        "  j = j + 1\n",
        "  h = h * 2\n",
        "\n",
        "decoded_finale= tf.keras.layers.Dense(784, activation='sigmoid')(decoded[-1])\n",
        "print(f\"Layer n°{j} Decoding with activation function: sigmoid and number of units: 784\")\n",
        "autoencoder = tf.keras.models.Model(input_img, decoded_finale)\n",
        "autoencoder.compile(optimizer=opt, loss=loss_function[0])"
      ],
      "execution_count": 0,
      "outputs": [
        {
          "output_type": "stream",
          "text": [
            "\n",
            "\n",
            "Encoding\n",
            "\n",
            "\n",
            "Layer n°1 Encoding with activation function: relu and number of units: 512\n",
            "Layer n°2 Encoding with activation function: relu and number of units: 256.0\n",
            "Layer n°3 Encoding with activation function: relu and number of units: 128.0\n",
            "Layer n°4 Encoding with activation function: relu and number of units: 64.0\n",
            "\n",
            "\n",
            "Decoding\n",
            "\n",
            "\n",
            "Layer n°1 Decoding with activation function: relu and number of units: 128.0\n",
            "Layer n°2 Decoding with activation function: relu and number of units: 256.0\n",
            "Layer n°3 Decoding with activation function: sigmoid and number of units: 784\n"
          ],
          "name": "stdout"
        }
      ]
    },
    {
      "cell_type": "code",
      "metadata": {
        "id": "GgynPvZ4GUWh",
        "colab_type": "code",
        "outputId": "077539ed-a6dd-470d-d13e-66736a66ec5a",
        "colab": {
          "base_uri": "https://localhost:8080/",
          "height": 434
        }
      },
      "source": [
        "autoencoder.summary()"
      ],
      "execution_count": 0,
      "outputs": [
        {
          "output_type": "stream",
          "text": [
            "Model: \"model_44\"\n",
            "_________________________________________________________________\n",
            "Layer (type)                 Output Shape              Param #   \n",
            "=================================================================\n",
            "input_25 (InputLayer)        [(None, 784)]             0         \n",
            "_________________________________________________________________\n",
            "dense_30 (Dense)             (None, 512)               401920    \n",
            "_________________________________________________________________\n",
            "dense_31 (Dense)             (None, 256)               131328    \n",
            "_________________________________________________________________\n",
            "dense_32 (Dense)             (None, 128)               32896     \n",
            "_________________________________________________________________\n",
            "dense_33 (Dense)             (None, 64)                8256      \n",
            "_________________________________________________________________\n",
            "dense_34 (Dense)             (None, 128)               8320      \n",
            "_________________________________________________________________\n",
            "dense_35 (Dense)             (None, 256)               33024     \n",
            "_________________________________________________________________\n",
            "dense_36 (Dense)             (None, 784)               201488    \n",
            "=================================================================\n",
            "Total params: 817,232\n",
            "Trainable params: 817,232\n",
            "Non-trainable params: 0\n",
            "_________________________________________________________________\n"
          ],
          "name": "stdout"
        }
      ]
    },
    {
      "cell_type": "markdown",
      "metadata": {
        "id": "PRx4JtF_RGQz",
        "colab_type": "text"
      },
      "source": [
        "**To complete: Train the model by passing the noisy input and the clean target.**"
      ]
    },
    {
      "cell_type": "code",
      "metadata": {
        "id": "wMMPGQbO6lBY",
        "colab_type": "code",
        "outputId": "eecb0dda-c6da-4891-e6ff-75ebbe554011",
        "colab": {
          "base_uri": "https://localhost:8080/",
          "height": 1000
        }
      },
      "source": [
        "callbacks_list = [keras.callbacks.EarlyStopping(monitor='loss',patience=10,),\n",
        "                 keras.callbacks.ModelCheckpoint(filepath='my_model.h5',monitor='val_loss',save_best_only=True)\n",
        "                 ]\n",
        "history = autoencoder.fit(x_train_noisy, x_train,\n",
        "                epochs=epoch_deep_autoencoder,\n",
        "                batch_size=256,\n",
        "                shuffle=True,\n",
        "                callbacks=callbacks_list,\n",
        "                validation_data=(x_test, x_test))"
      ],
      "execution_count": 0,
      "outputs": [
        {
          "output_type": "stream",
          "text": [
            "Epoch 1/50\n",
            "196/196 [==============================] - 2s 8ms/step - loss: 0.0709 - val_loss: 0.1035\n",
            "Epoch 2/50\n",
            "196/196 [==============================] - 1s 7ms/step - loss: 0.0529 - val_loss: 0.0499\n",
            "Epoch 3/50\n",
            "196/196 [==============================] - 1s 8ms/step - loss: 0.0448 - val_loss: 0.0449\n",
            "Epoch 4/50\n",
            "196/196 [==============================] - 2s 8ms/step - loss: 0.0421 - val_loss: 0.0420\n",
            "Epoch 5/50\n",
            "196/196 [==============================] - 1s 8ms/step - loss: 0.0398 - val_loss: 0.0416\n",
            "Epoch 6/50\n",
            "196/196 [==============================] - 1s 7ms/step - loss: 0.0383 - val_loss: 0.0406\n",
            "Epoch 7/50\n",
            "196/196 [==============================] - 1s 7ms/step - loss: 0.0372 - val_loss: 0.0384\n",
            "Epoch 8/50\n",
            "196/196 [==============================] - 1s 7ms/step - loss: 0.0360 - val_loss: 0.0378\n",
            "Epoch 9/50\n",
            "196/196 [==============================] - 2s 8ms/step - loss: 0.0351 - val_loss: 0.0353\n",
            "Epoch 10/50\n",
            "196/196 [==============================] - 1s 7ms/step - loss: 0.0340 - val_loss: 0.0360\n",
            "Epoch 11/50\n",
            "196/196 [==============================] - 1s 7ms/step - loss: 0.0332 - val_loss: 0.0347\n",
            "Epoch 12/50\n",
            "196/196 [==============================] - 1s 7ms/step - loss: 0.0324 - val_loss: 0.0335\n",
            "Epoch 13/50\n",
            "196/196 [==============================] - 1s 7ms/step - loss: 0.0317 - val_loss: 0.0335\n",
            "Epoch 14/50\n",
            "196/196 [==============================] - 1s 7ms/step - loss: 0.0310 - val_loss: 0.0347\n",
            "Epoch 15/50\n",
            "196/196 [==============================] - 1s 8ms/step - loss: 0.0304 - val_loss: 0.0312\n",
            "Epoch 16/50\n",
            "196/196 [==============================] - 1s 7ms/step - loss: 0.0298 - val_loss: 0.0312\n",
            "Epoch 17/50\n",
            "196/196 [==============================] - 1s 7ms/step - loss: 0.0292 - val_loss: 0.0301\n",
            "Epoch 18/50\n",
            "196/196 [==============================] - 1s 7ms/step - loss: 0.0287 - val_loss: 0.0293\n",
            "Epoch 19/50\n",
            "196/196 [==============================] - 1s 7ms/step - loss: 0.0283 - val_loss: 0.0300\n",
            "Epoch 20/50\n",
            "196/196 [==============================] - 1s 7ms/step - loss: 0.0278 - val_loss: 0.0305\n",
            "Epoch 21/50\n",
            "196/196 [==============================] - 1s 7ms/step - loss: 0.0273 - val_loss: 0.0288\n",
            "Epoch 22/50\n",
            "196/196 [==============================] - 1s 7ms/step - loss: 0.0269 - val_loss: 0.0307\n",
            "Epoch 23/50\n",
            "196/196 [==============================] - 1s 7ms/step - loss: 0.0265 - val_loss: 0.0289\n",
            "Epoch 24/50\n",
            "196/196 [==============================] - 1s 7ms/step - loss: 0.0261 - val_loss: 0.0294\n",
            "Epoch 25/50\n",
            "196/196 [==============================] - 1s 7ms/step - loss: 0.0258 - val_loss: 0.0295\n",
            "Epoch 26/50\n",
            "196/196 [==============================] - 1s 7ms/step - loss: 0.0255 - val_loss: 0.0296\n",
            "Epoch 27/50\n",
            "196/196 [==============================] - 1s 7ms/step - loss: 0.0251 - val_loss: 0.0289\n",
            "Epoch 28/50\n",
            "196/196 [==============================] - 1s 7ms/step - loss: 0.0248 - val_loss: 0.0296\n",
            "Epoch 29/50\n",
            "196/196 [==============================] - 1s 7ms/step - loss: 0.0245 - val_loss: 0.0287\n",
            "Epoch 30/50\n",
            "196/196 [==============================] - 1s 7ms/step - loss: 0.0242 - val_loss: 0.0292\n",
            "Epoch 31/50\n",
            "196/196 [==============================] - 1s 7ms/step - loss: 0.0241 - val_loss: 0.0280\n",
            "Epoch 32/50\n",
            "196/196 [==============================] - 2s 8ms/step - loss: 0.0238 - val_loss: 0.0282\n",
            "Epoch 33/50\n",
            "196/196 [==============================] - 1s 7ms/step - loss: 0.0235 - val_loss: 0.0284\n",
            "Epoch 34/50\n",
            "196/196 [==============================] - 1s 7ms/step - loss: 0.0234 - val_loss: 0.0288\n",
            "Epoch 35/50\n",
            "196/196 [==============================] - 1s 7ms/step - loss: 0.0231 - val_loss: 0.0284\n",
            "Epoch 36/50\n",
            "196/196 [==============================] - 1s 7ms/step - loss: 0.0228 - val_loss: 0.0278\n",
            "Epoch 37/50\n",
            "196/196 [==============================] - 2s 8ms/step - loss: 0.0226 - val_loss: 0.0281\n",
            "Epoch 38/50\n",
            "196/196 [==============================] - 1s 7ms/step - loss: 0.0224 - val_loss: 0.0284\n",
            "Epoch 39/50\n",
            "196/196 [==============================] - 1s 7ms/step - loss: 0.0222 - val_loss: 0.0278\n",
            "Epoch 40/50\n",
            "196/196 [==============================] - 2s 8ms/step - loss: 0.0220 - val_loss: 0.0277\n",
            "Epoch 41/50\n",
            "196/196 [==============================] - 2s 8ms/step - loss: 0.0219 - val_loss: 0.0279\n",
            "Epoch 42/50\n",
            "196/196 [==============================] - 2s 9ms/step - loss: 0.0218 - val_loss: 0.0273\n",
            "Epoch 43/50\n",
            "196/196 [==============================] - 2s 8ms/step - loss: 0.0216 - val_loss: 0.0289\n",
            "Epoch 44/50\n",
            "196/196 [==============================] - 2s 8ms/step - loss: 0.0214 - val_loss: 0.0275\n",
            "Epoch 45/50\n",
            "196/196 [==============================] - 2s 8ms/step - loss: 0.0212 - val_loss: 0.0277\n",
            "Epoch 46/50\n",
            "196/196 [==============================] - 2s 9ms/step - loss: 0.0212 - val_loss: 0.0290\n",
            "Epoch 47/50\n",
            "196/196 [==============================] - 2s 8ms/step - loss: 0.0209 - val_loss: 0.0289\n",
            "Epoch 48/50\n",
            "196/196 [==============================] - 2s 8ms/step - loss: 0.0208 - val_loss: 0.0281\n",
            "Epoch 49/50\n",
            "196/196 [==============================] - 2s 8ms/step - loss: 0.0207 - val_loss: 0.0287\n",
            "Epoch 50/50\n",
            "196/196 [==============================] - 2s 8ms/step - loss: 0.0206 - val_loss: 0.0280\n"
          ],
          "name": "stdout"
        }
      ]
    },
    {
      "cell_type": "code",
      "metadata": {
        "id": "FCw0jn077Wn9",
        "colab_type": "code",
        "outputId": "e7267eb9-171e-4025-ea2c-6de390479b74",
        "colab": {
          "base_uri": "https://localhost:8080/",
          "height": 425
        }
      },
      "source": [
        "plot_loss(history)\n",
        "\n",
        "scores = autoencoder.evaluate(x_test_noisy, x_test, verbose=2)\n",
        "print(\"test mse: %.5f\" % (scores))"
      ],
      "execution_count": 0,
      "outputs": [
        {
          "output_type": "stream",
          "text": [
            "313/313 - 0s - loss: 0.0382\n",
            "test mse: 0.03817\n"
          ],
          "name": "stdout"
        },
        {
          "output_type": "display_data",
          "data": {
            "text/plain": [
              "<Figure size 720x432 with 1 Axes>"
            ],
            "image/png": "[encoded data removed]"
          },
          "metadata": {
            "tags": [],
            "needs_background": "light"
          }
        }
      ]
    },
    {
      "cell_type": "markdown",
      "metadata": {
        "id": "aHOQfAPZRYUY",
        "colab_type": "text"
      },
      "source": [
        "Check the result by plotting some input images and the correspondent denoised outputs"
      ]
    },
    {
      "cell_type": "code",
      "metadata": {
        "id": "XUWwHDT3HiGX",
        "colab_type": "code",
        "outputId": "b55e02e9-f39c-4299-8f77-76bf33bd0999",
        "colab": {
          "base_uri": "https://localhost:8080/",
          "height": 248
        }
      },
      "source": [
        "decoded_imgs = autoencoder.predict(x_test_noisy)\n",
        "\n",
        "plot_img(10, x_test_noisy, decoded_imgs)"
      ],
      "execution_count": 0,
      "outputs": [
        {
          "output_type": "display_data",
          "data": {
            "text/plain": [
              "<Figure size 1440x288 with 20 Axes>"
            ],
            "image/png": "[encoded data removed]"
          },
          "metadata": {
            "tags": [],
            "needs_background": "light"
          }
        }
      ]
    },
    {
      "cell_type": "markdown",
      "metadata": {
        "id": "lInEGwkch5MW",
        "colab_type": "text"
      },
      "source": [
        "## Linear Autoencoder for sequences\n",
        "\n",
        "Let's define a linear autoencoder for sequences. In this case, as dataset, we will use the IMDB dataset (already presented in HW4). To have a model that can be trained and tested in a reasonable time (and that works also with the memory limitation that we have in Colab), we will limit the number of training samples and test samples."
      ]
    },
    {
      "cell_type": "code",
      "metadata": {
        "id": "nOJLUpNuaEc5",
        "colab_type": "code",
        "colab": {}
      },
      "source": [
        "num_words = 100\n",
        "(X_train, _), (X_test, _) = keras.datasets.imdb.load_data(num_words=num_words)\n",
        "\n",
        "X_train=X_train[:10000]\n",
        "\n",
        "(X_valid, X_test) = X_test[:1250], X_test[-1250:]\n",
        "\n",
        "word_index = keras.datasets.imdb.get_word_index()\n",
        "\n",
        "reverse_index = {word_id + 3: word for word, word_id in word_index.items()}\n",
        "reverse_index[0] = \"<pad>\" # padding\n",
        "reverse_index[1] = \"<sos>\" # start of sequence\n",
        "reverse_index[2] = \"<oov>\" # out-of-vocabulary\n",
        "reverse_index[3] = \"<unk>\" # unknown\n",
        "\n",
        "def decode_review(word_ids):\n",
        "    return \" \".join([reverse_index.get(word_id, \"<err>\") for word_id in word_ids])\n",
        "\n",
        "\n",
        "maxlen = 90\n",
        "X_train_trim = keras.preprocessing.sequence.pad_sequences(X_train, maxlen=maxlen)\n",
        "X_test_trim = keras.preprocessing.sequence.pad_sequences(X_test, maxlen=maxlen)\n",
        "X_valid_trim = keras.preprocessing.sequence.pad_sequences(X_valid, maxlen=maxlen)\n",
        "\n"
      ],
      "execution_count": 0,
      "outputs": []
    },
    {
      "cell_type": "markdown",
      "metadata": {
        "id": "LoXke75qeitM",
        "colab_type": "text"
      },
      "source": [
        "In this case, we want to use as input/target a one-hot representation for each word. To convert the index representation provided by the IMDB dataset loader, we use the to_categorical method to transform them in the correspondent one-hot representations."
      ]
    },
    {
      "cell_type": "code",
      "metadata": {
        "id": "Fpa0BwSxaXiw",
        "colab_type": "code",
        "colab": {}
      },
      "source": [
        "from keras.utils import to_categorical\n",
        "\n",
        "X_train_one_hot=to_categorical(X_train_trim)\n",
        "X_test_one_hot=to_categorical(X_test_trim)\n",
        "X_valid_one_hot=to_categorical(X_valid_trim)\n"
      ],
      "execution_count": 0,
      "outputs": []
    },
    {
      "cell_type": "markdown",
      "metadata": {
        "id": "gApoz_RFiciZ",
        "colab_type": "text"
      },
      "source": [
        "Define a linear shallow autoencoder for sequences. The structure will be similar to the model defined in exercise 5.1, while the encoding layer is defined by using tf.keras.layers.SimpleRNN. Note that it uses linear activations. The decoding layer exploits [tf.keras.layers.TimeDistributed](https://www.tensorflow.org/api_docs/python/tf/keras/layers/TimeDistributed) that allows using the same dense layer on each time step of the sequence. \n",
        "\n",
        "Since the output will be a one-hot representation, let's use the binary_crossentropy as loss and the CategoricalAccuracy as metric."
      ]
    },
    {
      "cell_type": "code",
      "metadata": {
        "id": "S69HgNmAicUp",
        "colab_type": "code",
        "outputId": "f9cf7c00-180f-468f-f74a-bcf54a56b8b4",
        "colab": {
          "base_uri": "https://localhost:8080/",
          "height": 260
        }
      },
      "source": [
        "inputs = tf.keras.layers.Input(shape=(maxlen, num_words))\n",
        "encoded = tf.keras.layers.SimpleRNN(50, return_sequences=True, activation='linear')(inputs)\n",
        "\n",
        "decoded = tf.keras.layers.TimeDistributed(tf.keras.layers.Dense(num_words, activation='linear'))(encoded)\n",
        "\n",
        "sequence_autoencoder = tf.keras.models.Model(inputs, decoded)\n",
        "encoder = tf.keras.models.Model(inputs, encoded)\n",
        "\n",
        "sequence_autoencoder.compile(optimizer=tf.keras.optimizers.Adam(learning_rate=0.001), loss='binary_crossentropy', metrics=[\"CategoricalAccuracy\"])\n",
        "\n",
        "sequence_autoencoder.summary()"
      ],
      "execution_count": 0,
      "outputs": [
        {
          "output_type": "stream",
          "text": [
            "Model: \"model_32\"\n",
            "_________________________________________________________________\n",
            "Layer (type)                 Output Shape              Param #   \n",
            "=================================================================\n",
            "input_18 (InputLayer)        [(None, 90, 100)]         0         \n",
            "_________________________________________________________________\n",
            "simple_rnn_3 (SimpleRNN)     (None, 90, 50)            7550      \n",
            "_________________________________________________________________\n",
            "time_distributed_13 (TimeDis (None, 90, 100)           5100      \n",
            "=================================================================\n",
            "Total params: 12,650\n",
            "Trainable params: 12,650\n",
            "Non-trainable params: 0\n",
            "_________________________________________________________________\n"
          ],
          "name": "stdout"
        }
      ]
    },
    {
      "cell_type": "code",
      "metadata": {
        "id": "haFSyKBRjsWW",
        "colab_type": "code",
        "outputId": "826c50f6-7c23-4aa3-9cbe-6cfb7e741aad",
        "colab": {
          "base_uri": "https://localhost:8080/",
          "height": 1000
        }
      },
      "source": [
        "history = sequence_autoencoder.fit(X_train_one_hot, X_train_one_hot, epochs=50, batch_size=128, shuffle=True, validation_data=(X_valid_one_hot, X_valid_one_hot))"
      ],
      "execution_count": 0,
      "outputs": [
        {
          "output_type": "stream",
          "text": [
            "Epoch 1/50\n",
            "79/79 [==============================] - 2s 30ms/step - loss: 0.1471 - categorical_accuracy: 0.2009 - val_loss: 0.0751 - val_categorical_accuracy: 0.4203\n",
            "Epoch 2/50\n",
            "79/79 [==============================] - 2s 28ms/step - loss: 0.0644 - categorical_accuracy: 0.4673 - val_loss: 0.0572 - val_categorical_accuracy: 0.5198\n",
            "Epoch 3/50\n",
            "79/79 [==============================] - 2s 29ms/step - loss: 0.0518 - categorical_accuracy: 0.5479 - val_loss: 0.0477 - val_categorical_accuracy: 0.5531\n",
            "Epoch 4/50\n",
            "79/79 [==============================] - 2s 29ms/step - loss: 0.0440 - categorical_accuracy: 0.5758 - val_loss: 0.0421 - val_categorical_accuracy: 0.5795\n",
            "Epoch 5/50\n",
            "79/79 [==============================] - 2s 28ms/step - loss: 0.0423 - categorical_accuracy: 0.6084 - val_loss: 0.0394 - val_categorical_accuracy: 0.6168\n",
            "Epoch 6/50\n",
            "79/79 [==============================] - 2s 29ms/step - loss: 0.0362 - categorical_accuracy: 0.6312 - val_loss: 0.0346 - val_categorical_accuracy: 0.6390\n",
            "Epoch 7/50\n",
            "79/79 [==============================] - 2s 29ms/step - loss: 0.0325 - categorical_accuracy: 0.6530 - val_loss: 0.0318 - val_categorical_accuracy: 0.6568\n",
            "Epoch 8/50\n",
            "79/79 [==============================] - 2s 28ms/step - loss: 0.0298 - categorical_accuracy: 0.6954 - val_loss: 0.0291 - val_categorical_accuracy: 0.7036\n",
            "Epoch 9/50\n",
            "79/79 [==============================] - 2s 28ms/step - loss: 0.0274 - categorical_accuracy: 0.7054 - val_loss: 0.0271 - val_categorical_accuracy: 0.7190\n",
            "Epoch 10/50\n",
            "79/79 [==============================] - 2s 28ms/step - loss: 0.0257 - categorical_accuracy: 0.7260 - val_loss: 0.0254 - val_categorical_accuracy: 0.7399\n",
            "Epoch 11/50\n",
            "79/79 [==============================] - 2s 29ms/step - loss: 0.0241 - categorical_accuracy: 0.7588 - val_loss: 0.0240 - val_categorical_accuracy: 0.7723\n",
            "Epoch 12/50\n",
            "79/79 [==============================] - 2s 29ms/step - loss: 0.0228 - categorical_accuracy: 0.7815 - val_loss: 0.0228 - val_categorical_accuracy: 0.7916\n",
            "Epoch 13/50\n",
            "79/79 [==============================] - 2s 29ms/step - loss: 0.0217 - categorical_accuracy: 0.8040 - val_loss: 0.0216 - val_categorical_accuracy: 0.8183\n",
            "Epoch 14/50\n",
            "79/79 [==============================] - 2s 29ms/step - loss: 0.0206 - categorical_accuracy: 0.8261 - val_loss: 0.0203 - val_categorical_accuracy: 0.8336\n",
            "Epoch 15/50\n",
            "79/79 [==============================] - 3s 33ms/step - loss: 0.0194 - categorical_accuracy: 0.8459 - val_loss: 0.0194 - val_categorical_accuracy: 0.8524\n",
            "Epoch 16/50\n",
            "79/79 [==============================] - 2s 30ms/step - loss: 0.0194 - categorical_accuracy: 0.8640 - val_loss: 0.0227 - val_categorical_accuracy: 0.8562\n",
            "Epoch 17/50\n",
            "79/79 [==============================] - 2s 31ms/step - loss: 0.0199 - categorical_accuracy: 0.8505 - val_loss: 0.0191 - val_categorical_accuracy: 0.8553\n",
            "Epoch 18/50\n",
            "79/79 [==============================] - 2s 30ms/step - loss: 0.0181 - categorical_accuracy: 0.8704 - val_loss: 0.0178 - val_categorical_accuracy: 0.8779\n",
            "Epoch 19/50\n",
            "79/79 [==============================] - 2s 31ms/step - loss: 0.0171 - categorical_accuracy: 0.8882 - val_loss: 0.0170 - val_categorical_accuracy: 0.8935\n",
            "Epoch 20/50\n",
            "79/79 [==============================] - 2s 31ms/step - loss: 0.0164 - categorical_accuracy: 0.8993 - val_loss: 0.0165 - val_categorical_accuracy: 0.9025\n",
            "Epoch 21/50\n",
            "79/79 [==============================] - 3s 32ms/step - loss: 0.0159 - categorical_accuracy: 0.9071 - val_loss: 0.0160 - val_categorical_accuracy: 0.9093\n",
            "Epoch 22/50\n",
            "79/79 [==============================] - 3s 32ms/step - loss: 0.0155 - categorical_accuracy: 0.9131 - val_loss: 0.0155 - val_categorical_accuracy: 0.9144\n",
            "Epoch 23/50\n",
            "79/79 [==============================] - 2s 30ms/step - loss: 0.0150 - categorical_accuracy: 0.9181 - val_loss: 0.0151 - val_categorical_accuracy: 0.9188\n",
            "Epoch 24/50\n",
            "79/79 [==============================] - 2s 30ms/step - loss: 0.0147 - categorical_accuracy: 0.9212 - val_loss: 0.0149 - val_categorical_accuracy: 0.9210\n",
            "Epoch 25/50\n",
            "79/79 [==============================] - 2s 31ms/step - loss: 0.0145 - categorical_accuracy: 0.9234 - val_loss: 0.0146 - val_categorical_accuracy: 0.9229\n",
            "Epoch 26/50\n",
            "79/79 [==============================] - 3s 32ms/step - loss: 0.0142 - categorical_accuracy: 0.9250 - val_loss: 0.0144 - val_categorical_accuracy: 0.9248\n",
            "Epoch 27/50\n",
            "79/79 [==============================] - 2s 30ms/step - loss: 0.0140 - categorical_accuracy: 0.9266 - val_loss: 0.0142 - val_categorical_accuracy: 0.9260\n",
            "Epoch 28/50\n",
            "79/79 [==============================] - 3s 34ms/step - loss: 0.0138 - categorical_accuracy: 0.9275 - val_loss: 0.0140 - val_categorical_accuracy: 0.9268\n",
            "Epoch 29/50\n",
            "79/79 [==============================] - 3s 32ms/step - loss: 0.0137 - categorical_accuracy: 0.9281 - val_loss: 0.0138 - val_categorical_accuracy: 0.9274\n",
            "Epoch 30/50\n",
            "79/79 [==============================] - 2s 31ms/step - loss: 0.0135 - categorical_accuracy: 0.9286 - val_loss: 0.0137 - val_categorical_accuracy: 0.9278\n",
            "Epoch 31/50\n",
            "79/79 [==============================] - 3s 36ms/step - loss: 0.0133 - categorical_accuracy: 0.9291 - val_loss: 0.0135 - val_categorical_accuracy: 0.9282\n",
            "Epoch 32/50\n",
            "79/79 [==============================] - 3s 33ms/step - loss: 0.0132 - categorical_accuracy: 0.9295 - val_loss: 0.0133 - val_categorical_accuracy: 0.9287\n",
            "Epoch 33/50\n",
            "79/79 [==============================] - 3s 32ms/step - loss: 0.0130 - categorical_accuracy: 0.9300 - val_loss: 0.0132 - val_categorical_accuracy: 0.9291\n",
            "Epoch 34/50\n",
            "79/79 [==============================] - 3s 33ms/step - loss: 0.0131 - categorical_accuracy: 0.9303 - val_loss: 0.0137 - val_categorical_accuracy: 0.9290\n",
            "Epoch 35/50\n",
            "79/79 [==============================] - 3s 33ms/step - loss: 0.0129 - categorical_accuracy: 0.9310 - val_loss: 0.0130 - val_categorical_accuracy: 0.9304\n",
            "Epoch 36/50\n",
            "79/79 [==============================] - 3s 33ms/step - loss: 0.0126 - categorical_accuracy: 0.9316 - val_loss: 0.0128 - val_categorical_accuracy: 0.9307\n",
            "Epoch 37/50\n",
            "79/79 [==============================] - 3s 34ms/step - loss: 0.0125 - categorical_accuracy: 0.9318 - val_loss: 0.0126 - val_categorical_accuracy: 0.9309\n",
            "Epoch 38/50\n",
            "79/79 [==============================] - 3s 34ms/step - loss: 0.0123 - categorical_accuracy: 0.9320 - val_loss: 0.0125 - val_categorical_accuracy: 0.9309\n",
            "Epoch 39/50\n",
            "79/79 [==============================] - 3s 33ms/step - loss: 0.0122 - categorical_accuracy: 0.9321 - val_loss: 0.0124 - val_categorical_accuracy: 0.9310\n",
            "Epoch 40/50\n",
            "79/79 [==============================] - 3s 32ms/step - loss: 0.0121 - categorical_accuracy: 0.9322 - val_loss: 0.0123 - val_categorical_accuracy: 0.9311\n",
            "Epoch 41/50\n",
            "79/79 [==============================] - 2s 30ms/step - loss: 0.0120 - categorical_accuracy: 0.9323 - val_loss: 0.0122 - val_categorical_accuracy: 0.9311\n",
            "Epoch 42/50\n",
            "79/79 [==============================] - 2s 29ms/step - loss: 0.0119 - categorical_accuracy: 0.9323 - val_loss: 0.0121 - val_categorical_accuracy: 0.9311\n",
            "Epoch 43/50\n",
            "79/79 [==============================] - 2s 30ms/step - loss: 0.0118 - categorical_accuracy: 0.9324 - val_loss: 0.0120 - val_categorical_accuracy: 0.9312\n",
            "Epoch 44/50\n",
            "79/79 [==============================] - 2s 29ms/step - loss: 0.0117 - categorical_accuracy: 0.9324 - val_loss: 0.0119 - val_categorical_accuracy: 0.9312\n",
            "Epoch 45/50\n",
            "79/79 [==============================] - 2s 30ms/step - loss: 0.0116 - categorical_accuracy: 0.9325 - val_loss: 0.0118 - val_categorical_accuracy: 0.9313\n",
            "Epoch 46/50\n",
            "79/79 [==============================] - 2s 30ms/step - loss: 0.0115 - categorical_accuracy: 0.9325 - val_loss: 0.0117 - val_categorical_accuracy: 0.9313\n",
            "Epoch 47/50\n",
            "79/79 [==============================] - 2s 30ms/step - loss: 0.0115 - categorical_accuracy: 0.9325 - val_loss: 0.0117 - val_categorical_accuracy: 0.9313\n",
            "Epoch 48/50\n",
            "79/79 [==============================] - 2s 30ms/step - loss: 0.0114 - categorical_accuracy: 0.9326 - val_loss: 0.0116 - val_categorical_accuracy: 0.9313\n",
            "Epoch 49/50\n",
            "79/79 [==============================] - 2s 30ms/step - loss: 0.0113 - categorical_accuracy: 0.9326 - val_loss: 0.0115 - val_categorical_accuracy: 0.9314\n",
            "Epoch 50/50\n",
            "79/79 [==============================] - 2s 30ms/step - loss: 0.0113 - categorical_accuracy: 0.9326 - val_loss: 0.0115 - val_categorical_accuracy: 0.9314\n"
          ],
          "name": "stdout"
        }
      ]
    },
    {
      "cell_type": "markdown",
      "metadata": {
        "id": "UXgzgmSA-ZV-",
        "colab_type": "text"
      },
      "source": [
        "Let's plot the accuracy and the loss curves and check the reconstruction capability of the model by plotting the reconstruction of a test sample."
      ]
    },
    {
      "cell_type": "code",
      "metadata": {
        "id": "3N96nqx2nrt9",
        "colab_type": "code",
        "outputId": "d23f1574-e069-420f-c1a5-872f54d74f06",
        "colab": {
          "base_uri": "https://localhost:8080/",
          "height": 798
        }
      },
      "source": [
        "def plot_categorical_accuracy(history):\n",
        "  plt.figure(figsize=(10,6))\n",
        "  plt.plot(history.epoch,history.history['categorical_accuracy'])\n",
        "  plt.plot(history.epoch,history.history['val_categorical_accuracy'])\n",
        "  plt.title('accuracy')\n",
        "\n",
        "plot_loss(history)\n",
        "\n",
        "plot_categorical_accuracy(history)\n",
        "\n",
        "scores = sequence_autoencoder.evaluate(X_test_one_hot, X_test_one_hot, verbose=2)\n",
        "print(\"%s: %.2f%%\" % (sequence_autoencoder.metrics_names[1], scores[1]*100))"
      ],
      "execution_count": 0,
      "outputs": [
        {
          "output_type": "stream",
          "text": [
            "40/40 - 0s - loss: 0.0112 - categorical_accuracy: 0.9328\n",
            "categorical_accuracy: 93.28%\n"
          ],
          "name": "stdout"
        },
        {
          "output_type": "display_data",
          "data": {
            "text/plain": [
              "<Figure size 720x432 with 1 Axes>"
            ],
            "image/png": "[encoded data removed]"
          },
          "metadata": {
            "tags": [],
            "needs_background": "light"
          }
        },
        {
          "output_type": "display_data",
          "data": {
            "text/plain": [
              "<Figure size 720x432 with 1 Axes>"
            ],
            "image/png": "[encoded data removed]"
          },
          "metadata": {
            "tags": [],
            "needs_background": "light"
          }
        }
      ]
    },
    {
      "cell_type": "code",
      "metadata": {
        "id": "CNQmY1kynxe7",
        "colab_type": "code",
        "outputId": "72fb9fda-36f1-40e2-b667-f78077d986ed",
        "colab": {
          "base_uri": "https://localhost:8080/",
          "height": 72
        }
      },
      "source": [
        "decoded_text = sequence_autoencoder.predict(X_test_one_hot)\n",
        "decode_index= np.argmax(decoded_text[500], axis=1)\n",
        "input_text= np.argmax(X_test_one_hot[500], axis=1)\n",
        "\n",
        "print(decode_review(input_text))\n",
        "print(decode_review(decode_index))"
      ],
      "execution_count": 0,
      "outputs": [
        {
          "output_type": "stream",
          "text": [
            "than a <oov> <oov> that are <oov> in all of that time but that <oov> the <oov> is <oov> a very <oov> film in just about <oov> <oov> <oov> <oov> as some other <oov> have <oov> out it <oov> like <oov> <oov> of the film are <oov> <oov> there <oov> other <oov> <oov> <oov> are <oov> <oov> in the <oov> <oov> this is a really bad film that <oov> <oov> <oov> than its <oov> of <oov> <oov> i <oov> it <oov> out of <oov> and i <oov> <oov> very <oov>\n",
            "have a <oov> <oov> that are <oov> in all of that time but that <oov> the <oov> is <oov> a very <oov> film in all about <oov> <oov> <oov> <oov> as some other <oov> have <oov> out it <oov> like <oov> <oov> of the film are <oov> <oov> there <oov> other <oov> <oov> <oov> are <oov> <oov> in the <oov> <oov> this is a really bad film that <oov> <oov> <oov> he this <oov> of <oov> <oov> i <oov> it <oov> out of <oov> and i <oov> <oov> very <oov>\n"
          ],
          "name": "stdout"
        }
      ]
    },
    {
      "cell_type": "markdown",
      "metadata": {
        "id": "bW5BipraiQiE",
        "colab_type": "text"
      },
      "source": [
        "##Exercise 5.5: Non-Linear Autoencoder for sequences\n",
        "\n",
        "**To complete: Replicate the code of the exercise above, but instead of using a simpleRNN with linear activations do use non-linear activation functions and a LSTM layer. Choose the most appropriate non-linear function, and motivate your choice. Then discuss the results in relation to those obtained by the linear autoencoder for sequences.**\n",
        "\n",
        "**Hint: using a non-linear function also in the dense layer after the RNN/LSTM one will help to obtain better results. The choice of this function should be based on the type of output data.**\n"
      ]
    },
    {
      "cell_type": "code",
      "metadata": {
        "id": "R9ZqZsnrAxPX",
        "colab_type": "code",
        "outputId": "83f8a665-ac92-4e8a-d0bd-40bf7e1f718d",
        "colab": {
          "base_uri": "https://localhost:8080/",
          "height": 260
        }
      },
      "source": [
        "num_words = 100\n",
        "(X_train, _), (X_test, _) = keras.datasets.imdb.load_data(num_words=num_words)\n",
        "\n",
        "X_train=X_train[:10000]\n",
        "\n",
        "(X_valid, X_test) = X_test[:1250], X_test[-1250:]\n",
        "\n",
        "word_index = keras.datasets.imdb.get_word_index()\n",
        "\n",
        "reverse_index = {word_id + 3: word for word, word_id in word_index.items()}\n",
        "reverse_index[0] = \"<pad>\" # padding\n",
        "reverse_index[1] = \"<sos>\" # start of sequence\n",
        "reverse_index[2] = \"<oov>\" # out-of-vocabulary\n",
        "reverse_index[3] = \"<unk>\" # unknown\n",
        "\n",
        "def decode_review(word_ids):\n",
        "    return \" \".join([reverse_index.get(word_id, \"<err>\") for word_id in word_ids])\n",
        "\n",
        "\n",
        "maxlen = 90\n",
        "X_train_trim = keras.preprocessing.sequence.pad_sequences(X_train, maxlen=maxlen)\n",
        "X_test_trim = keras.preprocessing.sequence.pad_sequences(X_test, maxlen=maxlen)\n",
        "X_valid_trim = keras.preprocessing.sequence.pad_sequences(X_valid, maxlen=maxlen)\n",
        "from keras.utils import to_categorical\n",
        "\n",
        "X_train_one_hot=to_categorical(X_train_trim)\n",
        "X_test_one_hot=to_categorical(X_test_trim)\n",
        "X_valid_one_hot=to_categorical(X_valid_trim)\n",
        "\n",
        "inputs = tf.keras.layers.Input(shape=(maxlen, num_words))\n",
        "encoded = tf.keras.layers.LSTM(50, activation='sigmoid', return_sequences=True)(inputs)\n",
        "\n",
        "decoded = tf.keras.layers.TimeDistributed(tf.keras.layers.Dense(num_words, activation='sigmoid'))(encoded)\n",
        "\n",
        "sequence_autoencoder = tf.keras.models.Model(inputs, decoded)\n",
        "encoder = tf.keras.models.Model(inputs, encoded)\n",
        "\n",
        "sequence_autoencoder.compile(optimizer=tf.keras.optimizers.Adam(learning_rate=0.001), loss='binary_crossentropy', metrics=[\"CategoricalAccuracy\"])\n",
        "\n",
        "sequence_autoencoder.summary()"
      ],
      "execution_count": 0,
      "outputs": [
        {
          "output_type": "stream",
          "text": [
            "Model: \"model_38\"\n",
            "_________________________________________________________________\n",
            "Layer (type)                 Output Shape              Param #   \n",
            "=================================================================\n",
            "input_21 (InputLayer)        [(None, 90, 100)]         0         \n",
            "_________________________________________________________________\n",
            "lstm_12 (LSTM)               (None, 90, 50)            30200     \n",
            "_________________________________________________________________\n",
            "time_distributed_16 (TimeDis (None, 90, 100)           5100      \n",
            "=================================================================\n",
            "Total params: 35,300\n",
            "Trainable params: 35,300\n",
            "Non-trainable params: 0\n",
            "_________________________________________________________________\n"
          ],
          "name": "stdout"
        }
      ]
    },
    {
      "cell_type": "code",
      "metadata": {
        "id": "aahotSmrAxBe",
        "colab_type": "code",
        "outputId": "38dedd60-c20e-4129-f079-9a8aaaee78fc",
        "colab": {
          "base_uri": "https://localhost:8080/",
          "height": 1000
        }
      },
      "source": [
        "history = sequence_autoencoder.fit(X_train_one_hot, X_train_one_hot, epochs=150, batch_size=256, shuffle=True, validation_data=(X_valid_one_hot, X_valid_one_hot))"
      ],
      "execution_count": 0,
      "outputs": [
        {
          "output_type": "stream",
          "text": [
            "Epoch 1/150\n",
            "40/40 [==============================] - 3s 87ms/step - loss: 0.5481 - categorical_accuracy: 0.0028 - val_loss: 0.3064 - val_categorical_accuracy: 0.4472\n",
            "Epoch 2/150\n",
            "40/40 [==============================] - 3s 87ms/step - loss: 0.1586 - categorical_accuracy: 0.4701 - val_loss: 0.0812 - val_categorical_accuracy: 0.4614\n",
            "Epoch 3/150\n",
            "40/40 [==============================] - 3s 87ms/step - loss: 0.0655 - categorical_accuracy: 0.4710 - val_loss: 0.0557 - val_categorical_accuracy: 0.4614\n",
            "Epoch 4/150\n",
            "40/40 [==============================] - 3s 87ms/step - loss: 0.0513 - categorical_accuracy: 0.4710 - val_loss: 0.0483 - val_categorical_accuracy: 0.4614\n",
            "Epoch 5/150\n",
            "40/40 [==============================] - 3s 86ms/step - loss: 0.0461 - categorical_accuracy: 0.4710 - val_loss: 0.0448 - val_categorical_accuracy: 0.4614\n",
            "Epoch 6/150\n",
            "40/40 [==============================] - 3s 87ms/step - loss: 0.0434 - categorical_accuracy: 0.4710 - val_loss: 0.0428 - val_categorical_accuracy: 0.4614\n",
            "Epoch 7/150\n",
            "40/40 [==============================] - 4s 89ms/step - loss: 0.0418 - categorical_accuracy: 0.4710 - val_loss: 0.0417 - val_categorical_accuracy: 0.4614\n",
            "Epoch 8/150\n",
            "40/40 [==============================] - 4s 90ms/step - loss: 0.0408 - categorical_accuracy: 0.4710 - val_loss: 0.0409 - val_categorical_accuracy: 0.4614\n",
            "Epoch 9/150\n",
            "40/40 [==============================] - 3s 87ms/step - loss: 0.0402 - categorical_accuracy: 0.4710 - val_loss: 0.0403 - val_categorical_accuracy: 0.4614\n",
            "Epoch 10/150\n",
            "40/40 [==============================] - 4s 88ms/step - loss: 0.0397 - categorical_accuracy: 0.4710 - val_loss: 0.0399 - val_categorical_accuracy: 0.4614\n",
            "Epoch 11/150\n",
            "40/40 [==============================] - 4s 88ms/step - loss: 0.0394 - categorical_accuracy: 0.4710 - val_loss: 0.0396 - val_categorical_accuracy: 0.4614\n",
            "Epoch 12/150\n",
            "40/40 [==============================] - 4s 89ms/step - loss: 0.0391 - categorical_accuracy: 0.4710 - val_loss: 0.0394 - val_categorical_accuracy: 0.4614\n",
            "Epoch 13/150\n",
            "40/40 [==============================] - 4s 88ms/step - loss: 0.0389 - categorical_accuracy: 0.4710 - val_loss: 0.0393 - val_categorical_accuracy: 0.4614\n",
            "Epoch 14/150\n",
            "40/40 [==============================] - 4s 88ms/step - loss: 0.0388 - categorical_accuracy: 0.4710 - val_loss: 0.0391 - val_categorical_accuracy: 0.4614\n",
            "Epoch 15/150\n",
            "40/40 [==============================] - 4s 88ms/step - loss: 0.0387 - categorical_accuracy: 0.4710 - val_loss: 0.0390 - val_categorical_accuracy: 0.4614\n",
            "Epoch 16/150\n",
            "40/40 [==============================] - 4s 88ms/step - loss: 0.0386 - categorical_accuracy: 0.4710 - val_loss: 0.0390 - val_categorical_accuracy: 0.4614\n",
            "Epoch 17/150\n",
            "40/40 [==============================] - 4s 88ms/step - loss: 0.0385 - categorical_accuracy: 0.4710 - val_loss: 0.0389 - val_categorical_accuracy: 0.4614\n",
            "Epoch 18/150\n",
            "40/40 [==============================] - 4s 88ms/step - loss: 0.0384 - categorical_accuracy: 0.4710 - val_loss: 0.0388 - val_categorical_accuracy: 0.4614\n",
            "Epoch 19/150\n",
            "40/40 [==============================] - 4s 89ms/step - loss: 0.0384 - categorical_accuracy: 0.4710 - val_loss: 0.0388 - val_categorical_accuracy: 0.4614\n",
            "Epoch 20/150\n",
            "40/40 [==============================] - 4s 89ms/step - loss: 0.0383 - categorical_accuracy: 0.4710 - val_loss: 0.0387 - val_categorical_accuracy: 0.4614\n",
            "Epoch 21/150\n",
            "40/40 [==============================] - 4s 89ms/step - loss: 0.0383 - categorical_accuracy: 0.4710 - val_loss: 0.0387 - val_categorical_accuracy: 0.4614\n",
            "Epoch 22/150\n",
            "40/40 [==============================] - 4s 88ms/step - loss: 0.0382 - categorical_accuracy: 0.4710 - val_loss: 0.0387 - val_categorical_accuracy: 0.4614\n",
            "Epoch 23/150\n",
            "40/40 [==============================] - 4s 88ms/step - loss: 0.0382 - categorical_accuracy: 0.4710 - val_loss: 0.0386 - val_categorical_accuracy: 0.4614\n",
            "Epoch 24/150\n",
            "40/40 [==============================] - 4s 88ms/step - loss: 0.0381 - categorical_accuracy: 0.4710 - val_loss: 0.0386 - val_categorical_accuracy: 0.4614\n",
            "Epoch 25/150\n",
            "40/40 [==============================] - 4s 88ms/step - loss: 0.0381 - categorical_accuracy: 0.4710 - val_loss: 0.0385 - val_categorical_accuracy: 0.4614\n",
            "Epoch 26/150\n",
            "40/40 [==============================] - 4s 89ms/step - loss: 0.0380 - categorical_accuracy: 0.4710 - val_loss: 0.0384 - val_categorical_accuracy: 0.4614\n",
            "Epoch 27/150\n",
            "40/40 [==============================] - 4s 89ms/step - loss: 0.0379 - categorical_accuracy: 0.4710 - val_loss: 0.0383 - val_categorical_accuracy: 0.4614\n",
            "Epoch 28/150\n",
            "40/40 [==============================] - 4s 89ms/step - loss: 0.0377 - categorical_accuracy: 0.4710 - val_loss: 0.0381 - val_categorical_accuracy: 0.4614\n",
            "Epoch 29/150\n",
            "40/40 [==============================] - 4s 98ms/step - loss: 0.0376 - categorical_accuracy: 0.4710 - val_loss: 0.0379 - val_categorical_accuracy: 0.4614\n",
            "Epoch 30/150\n",
            "40/40 [==============================] - 4s 93ms/step - loss: 0.0374 - categorical_accuracy: 0.4710 - val_loss: 0.0377 - val_categorical_accuracy: 0.4614\n",
            "Epoch 31/150\n",
            "40/40 [==============================] - 4s 94ms/step - loss: 0.0371 - categorical_accuracy: 0.4710 - val_loss: 0.0374 - val_categorical_accuracy: 0.4614\n",
            "Epoch 32/150\n",
            "40/40 [==============================] - 4s 93ms/step - loss: 0.0368 - categorical_accuracy: 0.4710 - val_loss: 0.0370 - val_categorical_accuracy: 0.4614\n",
            "Epoch 33/150\n",
            "40/40 [==============================] - 4s 97ms/step - loss: 0.0364 - categorical_accuracy: 0.4710 - val_loss: 0.0366 - val_categorical_accuracy: 0.4614\n",
            "Epoch 34/150\n",
            "40/40 [==============================] - 4s 107ms/step - loss: 0.0359 - categorical_accuracy: 0.4710 - val_loss: 0.0360 - val_categorical_accuracy: 0.4614\n",
            "Epoch 35/150\n",
            "40/40 [==============================] - 4s 92ms/step - loss: 0.0352 - categorical_accuracy: 0.4710 - val_loss: 0.0354 - val_categorical_accuracy: 0.4614\n",
            "Epoch 36/150\n",
            "40/40 [==============================] - 4s 92ms/step - loss: 0.0347 - categorical_accuracy: 0.4710 - val_loss: 0.0348 - val_categorical_accuracy: 0.4614\n",
            "Epoch 37/150\n",
            "40/40 [==============================] - 4s 99ms/step - loss: 0.0341 - categorical_accuracy: 0.4710 - val_loss: 0.0343 - val_categorical_accuracy: 0.4614\n",
            "Epoch 38/150\n",
            "40/40 [==============================] - 4s 93ms/step - loss: 0.0336 - categorical_accuracy: 0.4710 - val_loss: 0.0337 - val_categorical_accuracy: 0.4614\n",
            "Epoch 39/150\n",
            "40/40 [==============================] - 4s 91ms/step - loss: 0.0330 - categorical_accuracy: 0.4710 - val_loss: 0.0332 - val_categorical_accuracy: 0.4614\n",
            "Epoch 40/150\n",
            "40/40 [==============================] - 4s 91ms/step - loss: 0.0325 - categorical_accuracy: 0.4710 - val_loss: 0.0328 - val_categorical_accuracy: 0.4614\n",
            "Epoch 41/150\n",
            "40/40 [==============================] - 4s 90ms/step - loss: 0.0321 - categorical_accuracy: 0.4710 - val_loss: 0.0323 - val_categorical_accuracy: 0.4614\n",
            "Epoch 42/150\n",
            "40/40 [==============================] - 4s 91ms/step - loss: 0.0317 - categorical_accuracy: 0.4710 - val_loss: 0.0320 - val_categorical_accuracy: 0.4614\n",
            "Epoch 43/150\n",
            "40/40 [==============================] - 4s 99ms/step - loss: 0.0313 - categorical_accuracy: 0.4710 - val_loss: 0.0316 - val_categorical_accuracy: 0.4614\n",
            "Epoch 44/150\n",
            "40/40 [==============================] - 4s 103ms/step - loss: 0.0310 - categorical_accuracy: 0.4710 - val_loss: 0.0313 - val_categorical_accuracy: 0.4614\n",
            "Epoch 45/150\n",
            "40/40 [==============================] - 4s 103ms/step - loss: 0.0307 - categorical_accuracy: 0.4807 - val_loss: 0.0310 - val_categorical_accuracy: 0.5119\n",
            "Epoch 46/150\n",
            "40/40 [==============================] - 4s 102ms/step - loss: 0.0304 - categorical_accuracy: 0.5220 - val_loss: 0.0307 - val_categorical_accuracy: 0.5142\n",
            "Epoch 47/150\n",
            "40/40 [==============================] - 4s 103ms/step - loss: 0.0301 - categorical_accuracy: 0.5231 - val_loss: 0.0305 - val_categorical_accuracy: 0.5148\n",
            "Epoch 48/150\n",
            "40/40 [==============================] - 4s 102ms/step - loss: 0.0299 - categorical_accuracy: 0.5233 - val_loss: 0.0302 - val_categorical_accuracy: 0.5148\n",
            "Epoch 49/150\n",
            "40/40 [==============================] - 4s 99ms/step - loss: 0.0296 - categorical_accuracy: 0.5233 - val_loss: 0.0299 - val_categorical_accuracy: 0.5148\n",
            "Epoch 50/150\n",
            "40/40 [==============================] - 4s 91ms/step - loss: 0.0293 - categorical_accuracy: 0.5233 - val_loss: 0.0296 - val_categorical_accuracy: 0.5148\n",
            "Epoch 51/150\n",
            "40/40 [==============================] - 4s 91ms/step - loss: 0.0290 - categorical_accuracy: 0.5233 - val_loss: 0.0293 - val_categorical_accuracy: 0.5148\n",
            "Epoch 52/150\n",
            "40/40 [==============================] - 4s 91ms/step - loss: 0.0287 - categorical_accuracy: 0.5233 - val_loss: 0.0290 - val_categorical_accuracy: 0.5148\n",
            "Epoch 53/150\n",
            "40/40 [==============================] - 4s 91ms/step - loss: 0.0284 - categorical_accuracy: 0.5233 - val_loss: 0.0287 - val_categorical_accuracy: 0.5148\n",
            "Epoch 54/150\n",
            "40/40 [==============================] - 4s 91ms/step - loss: 0.0281 - categorical_accuracy: 0.5236 - val_loss: 0.0284 - val_categorical_accuracy: 0.5154\n",
            "Epoch 55/150\n",
            "40/40 [==============================] - 4s 91ms/step - loss: 0.0277 - categorical_accuracy: 0.5241 - val_loss: 0.0280 - val_categorical_accuracy: 0.5166\n",
            "Epoch 56/150\n",
            "40/40 [==============================] - 4s 91ms/step - loss: 0.0273 - categorical_accuracy: 0.5257 - val_loss: 0.0275 - val_categorical_accuracy: 0.5186\n",
            "Epoch 57/150\n",
            "40/40 [==============================] - 4s 91ms/step - loss: 0.0269 - categorical_accuracy: 0.5643 - val_loss: 0.0271 - val_categorical_accuracy: 0.5647\n",
            "Epoch 58/150\n",
            "40/40 [==============================] - 4s 91ms/step - loss: 0.0265 - categorical_accuracy: 0.5938 - val_loss: 0.0267 - val_categorical_accuracy: 0.6005\n",
            "Epoch 59/150\n",
            "40/40 [==============================] - 4s 91ms/step - loss: 0.0261 - categorical_accuracy: 0.6321 - val_loss: 0.0263 - val_categorical_accuracy: 0.6418\n",
            "Epoch 60/150\n",
            "40/40 [==============================] - 4s 91ms/step - loss: 0.0256 - categorical_accuracy: 0.6490 - val_loss: 0.0259 - val_categorical_accuracy: 0.6418\n",
            "Epoch 61/150\n",
            "40/40 [==============================] - 4s 92ms/step - loss: 0.0252 - categorical_accuracy: 0.6490 - val_loss: 0.0254 - val_categorical_accuracy: 0.6418\n",
            "Epoch 62/150\n",
            "40/40 [==============================] - 4s 93ms/step - loss: 0.0247 - categorical_accuracy: 0.6492 - val_loss: 0.0249 - val_categorical_accuracy: 0.6421\n",
            "Epoch 63/150\n",
            "40/40 [==============================] - 4s 92ms/step - loss: 0.0242 - categorical_accuracy: 0.6503 - val_loss: 0.0244 - val_categorical_accuracy: 0.6483\n",
            "Epoch 64/150\n",
            "40/40 [==============================] - 4s 94ms/step - loss: 0.0237 - categorical_accuracy: 0.6674 - val_loss: 0.0238 - val_categorical_accuracy: 0.6745\n",
            "Epoch 65/150\n",
            "40/40 [==============================] - 4s 91ms/step - loss: 0.0232 - categorical_accuracy: 0.6826 - val_loss: 0.0233 - val_categorical_accuracy: 0.6759\n",
            "Epoch 66/150\n",
            "40/40 [==============================] - 4s 93ms/step - loss: 0.0227 - categorical_accuracy: 0.6939 - val_loss: 0.0228 - val_categorical_accuracy: 0.6844\n",
            "Epoch 67/150\n",
            "40/40 [==============================] - 4s 93ms/step - loss: 0.0221 - categorical_accuracy: 0.6968 - val_loss: 0.0223 - val_categorical_accuracy: 0.6934\n",
            "Epoch 68/150\n",
            "40/40 [==============================] - 4s 93ms/step - loss: 0.0216 - categorical_accuracy: 0.7222 - val_loss: 0.0217 - val_categorical_accuracy: 0.7310\n",
            "Epoch 69/150\n",
            "40/40 [==============================] - 4s 95ms/step - loss: 0.0211 - categorical_accuracy: 0.7363 - val_loss: 0.0212 - val_categorical_accuracy: 0.7323\n",
            "Epoch 70/150\n",
            "40/40 [==============================] - 4s 99ms/step - loss: 0.0205 - categorical_accuracy: 0.7418 - val_loss: 0.0206 - val_categorical_accuracy: 0.7439\n",
            "Epoch 71/150\n",
            "40/40 [==============================] - 4s 98ms/step - loss: 0.0200 - categorical_accuracy: 0.7504 - val_loss: 0.0201 - val_categorical_accuracy: 0.7466\n",
            "Epoch 72/150\n",
            "40/40 [==============================] - 4s 95ms/step - loss: 0.0195 - categorical_accuracy: 0.7596 - val_loss: 0.0196 - val_categorical_accuracy: 0.7576\n",
            "Epoch 73/150\n",
            "40/40 [==============================] - 4s 94ms/step - loss: 0.0190 - categorical_accuracy: 0.7641 - val_loss: 0.0191 - val_categorical_accuracy: 0.7608\n",
            "Epoch 74/150\n",
            "40/40 [==============================] - 4s 92ms/step - loss: 0.0185 - categorical_accuracy: 0.7670 - val_loss: 0.0186 - val_categorical_accuracy: 0.7626\n",
            "Epoch 75/150\n",
            "40/40 [==============================] - 4s 94ms/step - loss: 0.0180 - categorical_accuracy: 0.7722 - val_loss: 0.0181 - val_categorical_accuracy: 0.7685\n",
            "Epoch 76/150\n",
            "40/40 [==============================] - 4s 94ms/step - loss: 0.0176 - categorical_accuracy: 0.7757 - val_loss: 0.0176 - val_categorical_accuracy: 0.7755\n",
            "Epoch 77/150\n",
            "40/40 [==============================] - 4s 92ms/step - loss: 0.0171 - categorical_accuracy: 0.7858 - val_loss: 0.0172 - val_categorical_accuracy: 0.7845\n",
            "Epoch 78/150\n",
            "40/40 [==============================] - 4s 92ms/step - loss: 0.0166 - categorical_accuracy: 0.7959 - val_loss: 0.0167 - val_categorical_accuracy: 0.7977\n",
            "Epoch 79/150\n",
            "40/40 [==============================] - 4s 94ms/step - loss: 0.0162 - categorical_accuracy: 0.8128 - val_loss: 0.0162 - val_categorical_accuracy: 0.8136\n",
            "Epoch 80/150\n",
            "40/40 [==============================] - 4s 94ms/step - loss: 0.0157 - categorical_accuracy: 0.8230 - val_loss: 0.0158 - val_categorical_accuracy: 0.8244\n",
            "Epoch 81/150\n",
            "40/40 [==============================] - 4s 93ms/step - loss: 0.0153 - categorical_accuracy: 0.8312 - val_loss: 0.0153 - val_categorical_accuracy: 0.8273\n",
            "Epoch 82/150\n",
            "40/40 [==============================] - 4s 94ms/step - loss: 0.0148 - categorical_accuracy: 0.8328 - val_loss: 0.0149 - val_categorical_accuracy: 0.8293\n",
            "Epoch 83/150\n",
            "40/40 [==============================] - 4s 93ms/step - loss: 0.0144 - categorical_accuracy: 0.8358 - val_loss: 0.0144 - val_categorical_accuracy: 0.8336\n",
            "Epoch 84/150\n",
            "40/40 [==============================] - 4s 92ms/step - loss: 0.0139 - categorical_accuracy: 0.8415 - val_loss: 0.0139 - val_categorical_accuracy: 0.8433\n",
            "Epoch 85/150\n",
            "40/40 [==============================] - 4s 93ms/step - loss: 0.0135 - categorical_accuracy: 0.8538 - val_loss: 0.0135 - val_categorical_accuracy: 0.8555\n",
            "Epoch 86/150\n",
            "40/40 [==============================] - 4s 94ms/step - loss: 0.0130 - categorical_accuracy: 0.8615 - val_loss: 0.0131 - val_categorical_accuracy: 0.8607\n",
            "Epoch 87/150\n",
            "40/40 [==============================] - 4s 94ms/step - loss: 0.0126 - categorical_accuracy: 0.8676 - val_loss: 0.0127 - val_categorical_accuracy: 0.8652\n",
            "Epoch 88/150\n",
            "40/40 [==============================] - 4s 94ms/step - loss: 0.0122 - categorical_accuracy: 0.8719 - val_loss: 0.0123 - val_categorical_accuracy: 0.8718\n",
            "Epoch 89/150\n",
            "40/40 [==============================] - 4s 93ms/step - loss: 0.0118 - categorical_accuracy: 0.8779 - val_loss: 0.0119 - val_categorical_accuracy: 0.8772\n",
            "Epoch 90/150\n",
            "40/40 [==============================] - 4s 93ms/step - loss: 0.0114 - categorical_accuracy: 0.8809 - val_loss: 0.0115 - val_categorical_accuracy: 0.8786\n",
            "Epoch 91/150\n",
            "40/40 [==============================] - 4s 93ms/step - loss: 0.0111 - categorical_accuracy: 0.8841 - val_loss: 0.0111 - val_categorical_accuracy: 0.8871\n",
            "Epoch 92/150\n",
            "40/40 [==============================] - 4s 94ms/step - loss: 0.0107 - categorical_accuracy: 0.8964 - val_loss: 0.0107 - val_categorical_accuracy: 0.8980\n",
            "Epoch 93/150\n",
            "40/40 [==============================] - 4s 92ms/step - loss: 0.0103 - categorical_accuracy: 0.9034 - val_loss: 0.0104 - val_categorical_accuracy: 0.9060\n",
            "Epoch 94/150\n",
            "40/40 [==============================] - 4s 93ms/step - loss: 0.0100 - categorical_accuracy: 0.9111 - val_loss: 0.0100 - val_categorical_accuracy: 0.9134\n",
            "Epoch 95/150\n",
            "40/40 [==============================] - 4s 94ms/step - loss: 0.0096 - categorical_accuracy: 0.9186 - val_loss: 0.0097 - val_categorical_accuracy: 0.9242\n",
            "Epoch 96/150\n",
            "40/40 [==============================] - 4s 94ms/step - loss: 0.0093 - categorical_accuracy: 0.9298 - val_loss: 0.0093 - val_categorical_accuracy: 0.9333\n",
            "Epoch 97/150\n",
            "40/40 [==============================] - 4s 94ms/step - loss: 0.0090 - categorical_accuracy: 0.9383 - val_loss: 0.0090 - val_categorical_accuracy: 0.9418\n",
            "Epoch 98/150\n",
            "40/40 [==============================] - 4s 94ms/step - loss: 0.0087 - categorical_accuracy: 0.9452 - val_loss: 0.0087 - val_categorical_accuracy: 0.9467\n",
            "Epoch 99/150\n",
            "40/40 [==============================] - 4s 93ms/step - loss: 0.0084 - categorical_accuracy: 0.9509 - val_loss: 0.0084 - val_categorical_accuracy: 0.9558\n",
            "Epoch 100/150\n",
            "40/40 [==============================] - 4s 93ms/step - loss: 0.0081 - categorical_accuracy: 0.9596 - val_loss: 0.0081 - val_categorical_accuracy: 0.9626\n",
            "Epoch 101/150\n",
            "40/40 [==============================] - 4s 94ms/step - loss: 0.0078 - categorical_accuracy: 0.9648 - val_loss: 0.0078 - val_categorical_accuracy: 0.9671\n",
            "Epoch 102/150\n",
            "40/40 [==============================] - 4s 93ms/step - loss: 0.0075 - categorical_accuracy: 0.9683 - val_loss: 0.0075 - val_categorical_accuracy: 0.9705\n",
            "Epoch 103/150\n",
            "40/40 [==============================] - 4s 94ms/step - loss: 0.0072 - categorical_accuracy: 0.9727 - val_loss: 0.0073 - val_categorical_accuracy: 0.9751\n",
            "Epoch 104/150\n",
            "40/40 [==============================] - 4s 94ms/step - loss: 0.0070 - categorical_accuracy: 0.9767 - val_loss: 0.0070 - val_categorical_accuracy: 0.9797\n",
            "Epoch 105/150\n",
            "40/40 [==============================] - 4s 94ms/step - loss: 0.0067 - categorical_accuracy: 0.9801 - val_loss: 0.0068 - val_categorical_accuracy: 0.9815\n",
            "Epoch 106/150\n",
            "40/40 [==============================] - 4s 93ms/step - loss: 0.0065 - categorical_accuracy: 0.9821 - val_loss: 0.0065 - val_categorical_accuracy: 0.9827\n",
            "Epoch 107/150\n",
            "40/40 [==============================] - 4s 94ms/step - loss: 0.0063 - categorical_accuracy: 0.9832 - val_loss: 0.0063 - val_categorical_accuracy: 0.9836\n",
            "Epoch 108/150\n",
            "40/40 [==============================] - 4s 93ms/step - loss: 0.0060 - categorical_accuracy: 0.9839 - val_loss: 0.0061 - val_categorical_accuracy: 0.9839\n",
            "Epoch 109/150\n",
            "40/40 [==============================] - 4s 93ms/step - loss: 0.0058 - categorical_accuracy: 0.9841 - val_loss: 0.0058 - val_categorical_accuracy: 0.9840\n",
            "Epoch 110/150\n",
            "40/40 [==============================] - 4s 93ms/step - loss: 0.0056 - categorical_accuracy: 0.9843 - val_loss: 0.0056 - val_categorical_accuracy: 0.9844\n",
            "Epoch 111/150\n",
            "40/40 [==============================] - 4s 95ms/step - loss: 0.0054 - categorical_accuracy: 0.9853 - val_loss: 0.0054 - val_categorical_accuracy: 0.9864\n",
            "Epoch 112/150\n",
            "40/40 [==============================] - 4s 93ms/step - loss: 0.0052 - categorical_accuracy: 0.9879 - val_loss: 0.0052 - val_categorical_accuracy: 0.9883\n",
            "Epoch 113/150\n",
            "40/40 [==============================] - 4s 94ms/step - loss: 0.0050 - categorical_accuracy: 0.9893 - val_loss: 0.0050 - val_categorical_accuracy: 0.9892\n",
            "Epoch 114/150\n",
            "40/40 [==============================] - 4s 94ms/step - loss: 0.0048 - categorical_accuracy: 0.9901 - val_loss: 0.0048 - val_categorical_accuracy: 0.9899\n",
            "Epoch 115/150\n",
            "40/40 [==============================] - 4s 93ms/step - loss: 0.0047 - categorical_accuracy: 0.9911 - val_loss: 0.0047 - val_categorical_accuracy: 0.9915\n",
            "Epoch 116/150\n",
            "40/40 [==============================] - 4s 93ms/step - loss: 0.0045 - categorical_accuracy: 0.9930 - val_loss: 0.0045 - val_categorical_accuracy: 0.9934\n",
            "Epoch 117/150\n",
            "40/40 [==============================] - 4s 92ms/step - loss: 0.0043 - categorical_accuracy: 0.9943 - val_loss: 0.0043 - val_categorical_accuracy: 0.9944\n",
            "Epoch 118/150\n",
            "40/40 [==============================] - 4s 93ms/step - loss: 0.0042 - categorical_accuracy: 0.9958 - val_loss: 0.0042 - val_categorical_accuracy: 0.9964\n",
            "Epoch 119/150\n",
            "40/40 [==============================] - 4s 94ms/step - loss: 0.0040 - categorical_accuracy: 0.9974 - val_loss: 0.0040 - val_categorical_accuracy: 0.9979\n",
            "Epoch 120/150\n",
            "40/40 [==============================] - 4s 96ms/step - loss: 0.0038 - categorical_accuracy: 0.9984 - val_loss: 0.0039 - val_categorical_accuracy: 0.9988\n",
            "Epoch 121/150\n",
            "40/40 [==============================] - 4s 94ms/step - loss: 0.0037 - categorical_accuracy: 0.9990 - val_loss: 0.0037 - val_categorical_accuracy: 0.9992\n",
            "Epoch 122/150\n",
            "40/40 [==============================] - 4s 95ms/step - loss: 0.0036 - categorical_accuracy: 0.9992 - val_loss: 0.0036 - val_categorical_accuracy: 0.9993\n",
            "Epoch 123/150\n",
            "40/40 [==============================] - 4s 94ms/step - loss: 0.0034 - categorical_accuracy: 0.9993 - val_loss: 0.0034 - val_categorical_accuracy: 0.9993\n",
            "Epoch 124/150\n",
            "40/40 [==============================] - 4s 93ms/step - loss: 0.0033 - categorical_accuracy: 0.9994 - val_loss: 0.0033 - val_categorical_accuracy: 0.9994\n",
            "Epoch 125/150\n",
            "40/40 [==============================] - 4s 94ms/step - loss: 0.0032 - categorical_accuracy: 0.9994 - val_loss: 0.0032 - val_categorical_accuracy: 0.9994\n",
            "Epoch 126/150\n",
            "40/40 [==============================] - 4s 93ms/step - loss: 0.0031 - categorical_accuracy: 0.9995 - val_loss: 0.0031 - val_categorical_accuracy: 0.9994\n",
            "Epoch 127/150\n",
            "40/40 [==============================] - 4s 93ms/step - loss: 0.0029 - categorical_accuracy: 0.9995 - val_loss: 0.0029 - val_categorical_accuracy: 0.9995\n",
            "Epoch 128/150\n",
            "40/40 [==============================] - 4s 93ms/step - loss: 0.0028 - categorical_accuracy: 0.9997 - val_loss: 0.0028 - val_categorical_accuracy: 0.9999\n",
            "Epoch 129/150\n",
            "40/40 [==============================] - 4s 95ms/step - loss: 0.0027 - categorical_accuracy: 1.0000 - val_loss: 0.0027 - val_categorical_accuracy: 1.0000\n",
            "Epoch 130/150\n",
            "40/40 [==============================] - 4s 93ms/step - loss: 0.0026 - categorical_accuracy: 1.0000 - val_loss: 0.0026 - val_categorical_accuracy: 1.0000\n",
            "Epoch 131/150\n",
            "40/40 [==============================] - 4s 93ms/step - loss: 0.0025 - categorical_accuracy: 1.0000 - val_loss: 0.0025 - val_categorical_accuracy: 1.0000\n",
            "Epoch 132/150\n",
            "40/40 [==============================] - 4s 94ms/step - loss: 0.0024 - categorical_accuracy: 1.0000 - val_loss: 0.0024 - val_categorical_accuracy: 1.0000\n",
            "Epoch 133/150\n",
            "40/40 [==============================] - 4s 94ms/step - loss: 0.0023 - categorical_accuracy: 1.0000 - val_loss: 0.0024 - val_categorical_accuracy: 1.0000\n",
            "Epoch 134/150\n",
            "40/40 [==============================] - 4s 97ms/step - loss: 0.0023 - categorical_accuracy: 1.0000 - val_loss: 0.0023 - val_categorical_accuracy: 1.0000\n",
            "Epoch 135/150\n",
            "40/40 [==============================] - 4s 95ms/step - loss: 0.0022 - categorical_accuracy: 1.0000 - val_loss: 0.0022 - val_categorical_accuracy: 1.0000\n",
            "Epoch 136/150\n",
            "40/40 [==============================] - 4s 98ms/step - loss: 0.0021 - categorical_accuracy: 1.0000 - val_loss: 0.0021 - val_categorical_accuracy: 1.0000\n",
            "Epoch 137/150\n",
            "40/40 [==============================] - 4s 108ms/step - loss: 0.0020 - categorical_accuracy: 1.0000 - val_loss: 0.0020 - val_categorical_accuracy: 1.0000\n",
            "Epoch 138/150\n",
            "40/40 [==============================] - 4s 97ms/step - loss: 0.0020 - categorical_accuracy: 1.0000 - val_loss: 0.0020 - val_categorical_accuracy: 1.0000\n",
            "Epoch 139/150\n",
            "40/40 [==============================] - 4s 94ms/step - loss: 0.0019 - categorical_accuracy: 1.0000 - val_loss: 0.0019 - val_categorical_accuracy: 1.0000\n",
            "Epoch 140/150\n",
            "40/40 [==============================] - 4s 93ms/step - loss: 0.0018 - categorical_accuracy: 1.0000 - val_loss: 0.0018 - val_categorical_accuracy: 1.0000\n",
            "Epoch 141/150\n",
            "40/40 [==============================] - 4s 94ms/step - loss: 0.0018 - categorical_accuracy: 1.0000 - val_loss: 0.0018 - val_categorical_accuracy: 1.0000\n",
            "Epoch 142/150\n",
            "40/40 [==============================] - 4s 94ms/step - loss: 0.0017 - categorical_accuracy: 1.0000 - val_loss: 0.0017 - val_categorical_accuracy: 1.0000\n",
            "Epoch 143/150\n",
            "40/40 [==============================] - 4s 94ms/step - loss: 0.0016 - categorical_accuracy: 1.0000 - val_loss: 0.0016 - val_categorical_accuracy: 1.0000\n",
            "Epoch 144/150\n",
            "40/40 [==============================] - 4s 94ms/step - loss: 0.0016 - categorical_accuracy: 1.0000 - val_loss: 0.0016 - val_categorical_accuracy: 1.0000\n",
            "Epoch 145/150\n",
            "40/40 [==============================] - 4s 93ms/step - loss: 0.0015 - categorical_accuracy: 1.0000 - val_loss: 0.0015 - val_categorical_accuracy: 1.0000\n",
            "Epoch 146/150\n",
            "40/40 [==============================] - 4s 93ms/step - loss: 0.0015 - categorical_accuracy: 1.0000 - val_loss: 0.0015 - val_categorical_accuracy: 1.0000\n",
            "Epoch 147/150\n",
            "40/40 [==============================] - 4s 94ms/step - loss: 0.0014 - categorical_accuracy: 1.0000 - val_loss: 0.0014 - val_categorical_accuracy: 1.0000\n",
            "Epoch 148/150\n",
            "40/40 [==============================] - 4s 96ms/step - loss: 0.0014 - categorical_accuracy: 1.0000 - val_loss: 0.0014 - val_categorical_accuracy: 1.0000\n",
            "Epoch 149/150\n",
            "40/40 [==============================] - 4s 96ms/step - loss: 0.0013 - categorical_accuracy: 1.0000 - val_loss: 0.0013 - val_categorical_accuracy: 1.0000\n",
            "Epoch 150/150\n",
            "40/40 [==============================] - 4s 97ms/step - loss: 0.0013 - categorical_accuracy: 1.0000 - val_loss: 0.0013 - val_categorical_accuracy: 1.0000\n"
          ],
          "name": "stdout"
        }
      ]
    },
    {
      "cell_type": "code",
      "metadata": {
        "id": "taMSLGxNA2iP",
        "colab_type": "code",
        "outputId": "b82493ff-8982-47c7-f76d-ffe461760277",
        "colab": {
          "base_uri": "https://localhost:8080/",
          "height": 798
        }
      },
      "source": [
        "def plot_categorical_accuracy(history):\n",
        "  plt.figure(figsize=(10,6))\n",
        "  plt.plot(history.epoch,history.history['categorical_accuracy'])\n",
        "  plt.plot(history.epoch,history.history['val_categorical_accuracy'])\n",
        "  plt.title('accuracy')\n",
        "plot_loss(history)\n",
        "\n",
        "plot_categorical_accuracy(history)\n",
        "\n",
        "scores = sequence_autoencoder.evaluate(X_test_one_hot, X_test_one_hot, verbose=2)\n",
        "print(\"%s: %.2f%%\" % (sequence_autoencoder.metrics_names[1], scores[1]*100))"
      ],
      "execution_count": 0,
      "outputs": [
        {
          "output_type": "stream",
          "text": [
            "40/40 - 0s - loss: 0.0013 - categorical_accuracy: 1.0000\n",
            "categorical_accuracy: 100.00%\n"
          ],
          "name": "stdout"
        },
        {
          "output_type": "display_data",
          "data": {
            "text/plain": [
              "<Figure size 720x432 with 1 Axes>"
            ],
            "image/png": "[encoded data removed]"
          },
          "metadata": {
            "tags": [],
            "needs_background": "light"
          }
        },
        {
          "output_type": "display_data",
          "data": {
            "text/plain": [
              "<Figure size 720x432 with 1 Axes>"
            ],
            "image/png": "[encoded data removed]"
          },
          "metadata": {
            "tags": [],
            "needs_background": "light"
          }
        }
      ]
    },
    {
      "cell_type": "code",
      "metadata": {
        "id": "Cbvj5aAZA8Lu",
        "colab_type": "code",
        "outputId": "3f1b05fa-4d1a-42b3-8ac2-a1cf3307908e",
        "colab": {
          "base_uri": "https://localhost:8080/",
          "height": 72
        }
      },
      "source": [
        "decoded_text = sequence_autoencoder.predict(X_test_one_hot)\n",
        "decode_index= np.argmax(decoded_text[500], axis=1)\n",
        "input_text= np.argmax(X_test_one_hot[500], axis=1)\n",
        "\n",
        "print(decode_review(input_text))\n",
        "print(decode_review(decode_index))"
      ],
      "execution_count": 0,
      "outputs": [
        {
          "output_type": "stream",
          "text": [
            "than a <oov> <oov> that are <oov> in all of that time but that <oov> the <oov> is <oov> a very <oov> film in just about <oov> <oov> <oov> <oov> as some other <oov> have <oov> out it <oov> like <oov> <oov> of the film are <oov> <oov> there <oov> other <oov> <oov> <oov> are <oov> <oov> in the <oov> <oov> this is a really bad film that <oov> <oov> <oov> than its <oov> of <oov> <oov> i <oov> it <oov> out of <oov> and i <oov> <oov> very <oov>\n",
            "than a <oov> <oov> that are <oov> in all of that time but that <oov> the <oov> is <oov> a very <oov> film in just about <oov> <oov> <oov> <oov> as some other <oov> have <oov> out it <oov> like <oov> <oov> of the film are <oov> <oov> there <oov> other <oov> <oov> <oov> are <oov> <oov> in the <oov> <oov> this is a really bad film that <oov> <oov> <oov> than its <oov> of <oov> <oov> i <oov> it <oov> out of <oov> and i <oov> <oov> very <oov>\n"
          ],
          "name": "stdout"
        }
      ]
    },
    {
      "cell_type": "markdown",
      "metadata": {
        "id": "nvVfI_juQXIj",
        "colab_type": "text"
      },
      "source": [
        "#**Discussion**\n",
        "\n",
        "\n",
        "I tried different combinations of activation functions. In the end the one that led me to the best result was sigmoid. Since the output vectors are one-hot coded, they are somehow vectors of binary values. So using a sigmoid activation function whose values are between 0 and 1 can make sense. \n",
        "\n",
        "\n",
        "\n",
        "\n",
        "\n",
        "\n",
        "However, not only did I change the recurrent neural network (LSTM) type and the linear non-linear activation function, but I also changed the epoch number to 150 and increased the batch size to 256. I noticed that for a bit of epoch the categorical accuracy value remained stable at about 0.47 and then after the 44 epoch started to rise to 1. So I chose a high number of epochs also because if I wanted 50 I would have a worse result. \n",
        "\n",
        "\n",
        "\n",
        "\n",
        "\n",
        "\n",
        "Also the number of parameters of the LSTM model compared to the previous one is triple so it's even more complicated, although I used the same number of neurons.\n"
      ]
    }
  ]
}